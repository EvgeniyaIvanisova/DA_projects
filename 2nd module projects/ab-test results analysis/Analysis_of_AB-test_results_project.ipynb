{
 "cells": [
  {
   "cell_type": "markdown",
   "metadata": {},
   "source": [
    "# Приоритизация гипотез по увеличению выручки в интернет-магазине, анализ A/B-теста\n",
    "\n",
    "Необходимо приоритизировать гипотезы, подготовленные с отделом маркетинга для увеличения выручки крупного интернет-магазина. Во второй части проекта необходимо проанализировать результаты A/B-теста.\n",
    "\n",
    "**Часть 1.** В файле `hypothesis.csv` 9 гипотез по увеличению выручки интернет-магазина с указанными параметрами `Reach`, `Impact`, `Confidence`, `Effort`. Необходимо применить фреймворки `ICE` и `RICE` для приоритизации гипотез. \n",
    "\n",
    "**Часть 2.** Был проведен A/B-тест и получены результаты, которые описаны в файлах `orders.csv` и `visitors.csv`. Необходимо проанализировать результаты A/B-теста.\n",
    "\n",
    "**Задачи:**\n",
    "\n",
    "1. Часть 1. Выявить наиболее приоритетные гипотезы с помощью фреймворков ICE и RICE. Определить, почему итоговые результаты для фреймворков различаются.\n",
    "\n",
    "\n",
    "2. Часть 2:\n",
    "\n",
    "* Проанализировать различия в кумулятивных характеристиках для групп A и B.\n",
    "* Выбрать границы аномальных значений для количества заказов на пользователя и для среднего чека заказа.\n",
    "* Выявить, есть ли статистически значимые различия в среднем количестве заказов на пользователя между группами A и B по «сырым» данным и по «очищенным» данным.\n",
    "* Выявить, есть ли статистически значимые различия в среднем чеке заказа между группами A и B по «сырым» данным и по «очищенным» данным.\n",
    "* Принять решение по результатам теста."
   ]
  },
  {
   "cell_type": "markdown",
   "metadata": {},
   "source": [
    "# План исследования:\n",
    "\n",
    "**1. Обзор и предобратка данных**\n",
    "\n",
    "**2. Приоритизация гипотез методом ICE и RICE.**\n",
    "\n",
    "**3. Анализ A/B-теста:**\n",
    "\n",
    "**3.1** Анализ кумулятивной выручки по группам A и B.\n",
    "\n",
    "**3.2** Анализ кумулятивного среднего чека по группам.\n",
    "\n",
    "**3.3** Анализ относительного изменения кумулятивного среднего чека группы B к группе A.\n",
    "\n",
    "**3.4** Анализ кумулятивной конверсии по группам.\n",
    "\n",
    "**3.5** Анализа относительного изменения кумулятивной конверсии группы B к группе A.\n",
    "\n",
    "**3.6** Выбор границы аномальных значений для количества заказов на пользователя и для среднего чека заказа.\n",
    "\n",
    "**3.7** Расчет статистической значимости различий в среднем количестве заказов между группами по «сырым» данным.\n",
    "\n",
    "**3.8** Расчет статистической значимости различий в среднем чеке заказа между группами по «сырым» данным.\n",
    "\n",
    "**3.9** Расчет статистической значимости различий в среднем количестве заказов между группами по «очищенным» данным.\n",
    "\n",
    "**3.10** Расчет статистической значимости различий в среднем чеке заказа между группами по «очищенным» данным."
   ]
  },
  {
   "cell_type": "markdown",
   "metadata": {},
   "source": [
    "### Обзор и предобработка данных"
   ]
  },
  {
   "cell_type": "code",
   "execution_count": 3,
   "metadata": {},
   "outputs": [],
   "source": [
    "import pandas as pd\n",
    "import numpy as np\n",
    "import matplotlib.pyplot as plt\n",
    "import scipy.stats as st\n",
    "import datetime as dt\n",
    "from pandas.plotting import register_matplotlib_converters\n",
    "import warnings\n",
    "register_matplotlib_converters()"
   ]
  },
  {
   "cell_type": "code",
   "execution_count": 4,
   "metadata": {},
   "outputs": [],
   "source": [
    "hypothesis = pd.read_csv('hypothesis.csv')\n",
    "orders = pd.read_csv('orders.csv')\n",
    "visitors = pd.read_csv('visitors.csv')"
   ]
  },
  {
   "cell_type": "code",
   "execution_count": 5,
   "metadata": {},
   "outputs": [
    {
     "data": {
      "text/html": [
       "<div>\n",
       "<style scoped>\n",
       "    .dataframe tbody tr th:only-of-type {\n",
       "        vertical-align: middle;\n",
       "    }\n",
       "\n",
       "    .dataframe tbody tr th {\n",
       "        vertical-align: top;\n",
       "    }\n",
       "\n",
       "    .dataframe thead th {\n",
       "        text-align: right;\n",
       "    }\n",
       "</style>\n",
       "<table border=\"1\" class=\"dataframe\">\n",
       "  <thead>\n",
       "    <tr style=\"text-align: right;\">\n",
       "      <th></th>\n",
       "      <th>Hypothesis</th>\n",
       "      <th>Reach</th>\n",
       "      <th>Impact</th>\n",
       "      <th>Confidence</th>\n",
       "      <th>Efforts</th>\n",
       "    </tr>\n",
       "  </thead>\n",
       "  <tbody>\n",
       "    <tr>\n",
       "      <th>0</th>\n",
       "      <td>Добавить два новых канала привлечения трафика,...</td>\n",
       "      <td>3</td>\n",
       "      <td>10</td>\n",
       "      <td>8</td>\n",
       "      <td>6</td>\n",
       "    </tr>\n",
       "    <tr>\n",
       "      <th>1</th>\n",
       "      <td>Запустить собственную службу доставки, что сок...</td>\n",
       "      <td>2</td>\n",
       "      <td>5</td>\n",
       "      <td>4</td>\n",
       "      <td>10</td>\n",
       "    </tr>\n",
       "    <tr>\n",
       "      <th>2</th>\n",
       "      <td>Добавить блоки рекомендаций товаров на сайт ин...</td>\n",
       "      <td>8</td>\n",
       "      <td>3</td>\n",
       "      <td>7</td>\n",
       "      <td>3</td>\n",
       "    </tr>\n",
       "    <tr>\n",
       "      <th>3</th>\n",
       "      <td>Изменить структура категорий, что увеличит кон...</td>\n",
       "      <td>8</td>\n",
       "      <td>3</td>\n",
       "      <td>3</td>\n",
       "      <td>8</td>\n",
       "    </tr>\n",
       "    <tr>\n",
       "      <th>4</th>\n",
       "      <td>Изменить цвет фона главной страницы, чтобы уве...</td>\n",
       "      <td>3</td>\n",
       "      <td>1</td>\n",
       "      <td>1</td>\n",
       "      <td>1</td>\n",
       "    </tr>\n",
       "  </tbody>\n",
       "</table>\n",
       "</div>"
      ],
      "text/plain": [
       "                                          Hypothesis  Reach  Impact  \\\n",
       "0  Добавить два новых канала привлечения трафика,...      3      10   \n",
       "1  Запустить собственную службу доставки, что сок...      2       5   \n",
       "2  Добавить блоки рекомендаций товаров на сайт ин...      8       3   \n",
       "3  Изменить структура категорий, что увеличит кон...      8       3   \n",
       "4  Изменить цвет фона главной страницы, чтобы уве...      3       1   \n",
       "\n",
       "   Confidence  Efforts  \n",
       "0           8        6  \n",
       "1           4       10  \n",
       "2           7        3  \n",
       "3           3        8  \n",
       "4           1        1  "
      ]
     },
     "metadata": {},
     "output_type": "display_data"
    },
    {
     "name": "stdout",
     "output_type": "stream",
     "text": [
      "\n"
     ]
    },
    {
     "data": {
      "text/html": [
       "<div>\n",
       "<style scoped>\n",
       "    .dataframe tbody tr th:only-of-type {\n",
       "        vertical-align: middle;\n",
       "    }\n",
       "\n",
       "    .dataframe tbody tr th {\n",
       "        vertical-align: top;\n",
       "    }\n",
       "\n",
       "    .dataframe thead th {\n",
       "        text-align: right;\n",
       "    }\n",
       "</style>\n",
       "<table border=\"1\" class=\"dataframe\">\n",
       "  <thead>\n",
       "    <tr style=\"text-align: right;\">\n",
       "      <th></th>\n",
       "      <th>transactionId</th>\n",
       "      <th>visitorId</th>\n",
       "      <th>date</th>\n",
       "      <th>revenue</th>\n",
       "      <th>group</th>\n",
       "    </tr>\n",
       "  </thead>\n",
       "  <tbody>\n",
       "    <tr>\n",
       "      <th>0</th>\n",
       "      <td>3667963787</td>\n",
       "      <td>3312258926</td>\n",
       "      <td>2019-08-15</td>\n",
       "      <td>1650</td>\n",
       "      <td>B</td>\n",
       "    </tr>\n",
       "    <tr>\n",
       "      <th>1</th>\n",
       "      <td>2804400009</td>\n",
       "      <td>3642806036</td>\n",
       "      <td>2019-08-15</td>\n",
       "      <td>730</td>\n",
       "      <td>B</td>\n",
       "    </tr>\n",
       "    <tr>\n",
       "      <th>2</th>\n",
       "      <td>2961555356</td>\n",
       "      <td>4069496402</td>\n",
       "      <td>2019-08-15</td>\n",
       "      <td>400</td>\n",
       "      <td>A</td>\n",
       "    </tr>\n",
       "    <tr>\n",
       "      <th>3</th>\n",
       "      <td>3797467345</td>\n",
       "      <td>1196621759</td>\n",
       "      <td>2019-08-15</td>\n",
       "      <td>9759</td>\n",
       "      <td>B</td>\n",
       "    </tr>\n",
       "    <tr>\n",
       "      <th>4</th>\n",
       "      <td>2282983706</td>\n",
       "      <td>2322279887</td>\n",
       "      <td>2019-08-15</td>\n",
       "      <td>2308</td>\n",
       "      <td>B</td>\n",
       "    </tr>\n",
       "  </tbody>\n",
       "</table>\n",
       "</div>"
      ],
      "text/plain": [
       "   transactionId   visitorId        date  revenue group\n",
       "0     3667963787  3312258926  2019-08-15     1650     B\n",
       "1     2804400009  3642806036  2019-08-15      730     B\n",
       "2     2961555356  4069496402  2019-08-15      400     A\n",
       "3     3797467345  1196621759  2019-08-15     9759     B\n",
       "4     2282983706  2322279887  2019-08-15     2308     B"
      ]
     },
     "metadata": {},
     "output_type": "display_data"
    },
    {
     "name": "stdout",
     "output_type": "stream",
     "text": [
      "\n"
     ]
    },
    {
     "data": {
      "text/html": [
       "<div>\n",
       "<style scoped>\n",
       "    .dataframe tbody tr th:only-of-type {\n",
       "        vertical-align: middle;\n",
       "    }\n",
       "\n",
       "    .dataframe tbody tr th {\n",
       "        vertical-align: top;\n",
       "    }\n",
       "\n",
       "    .dataframe thead th {\n",
       "        text-align: right;\n",
       "    }\n",
       "</style>\n",
       "<table border=\"1\" class=\"dataframe\">\n",
       "  <thead>\n",
       "    <tr style=\"text-align: right;\">\n",
       "      <th></th>\n",
       "      <th>date</th>\n",
       "      <th>group</th>\n",
       "      <th>visitors</th>\n",
       "    </tr>\n",
       "  </thead>\n",
       "  <tbody>\n",
       "    <tr>\n",
       "      <th>0</th>\n",
       "      <td>2019-08-01</td>\n",
       "      <td>A</td>\n",
       "      <td>719</td>\n",
       "    </tr>\n",
       "    <tr>\n",
       "      <th>1</th>\n",
       "      <td>2019-08-02</td>\n",
       "      <td>A</td>\n",
       "      <td>619</td>\n",
       "    </tr>\n",
       "    <tr>\n",
       "      <th>2</th>\n",
       "      <td>2019-08-03</td>\n",
       "      <td>A</td>\n",
       "      <td>507</td>\n",
       "    </tr>\n",
       "    <tr>\n",
       "      <th>3</th>\n",
       "      <td>2019-08-04</td>\n",
       "      <td>A</td>\n",
       "      <td>717</td>\n",
       "    </tr>\n",
       "    <tr>\n",
       "      <th>4</th>\n",
       "      <td>2019-08-05</td>\n",
       "      <td>A</td>\n",
       "      <td>756</td>\n",
       "    </tr>\n",
       "  </tbody>\n",
       "</table>\n",
       "</div>"
      ],
      "text/plain": [
       "         date group  visitors\n",
       "0  2019-08-01     A       719\n",
       "1  2019-08-02     A       619\n",
       "2  2019-08-03     A       507\n",
       "3  2019-08-04     A       717\n",
       "4  2019-08-05     A       756"
      ]
     },
     "execution_count": 5,
     "metadata": {},
     "output_type": "execute_result"
    }
   ],
   "source": [
    "display(hypothesis.head(5))\n",
    "print()\n",
    "display(orders.head(5))\n",
    "print()\n",
    "visitors.head(5)"
   ]
  },
  {
   "cell_type": "code",
   "execution_count": 6,
   "metadata": {},
   "outputs": [
    {
     "name": "stdout",
     "output_type": "stream",
     "text": [
      "<class 'pandas.core.frame.DataFrame'>\n",
      "RangeIndex: 9 entries, 0 to 8\n",
      "Data columns (total 5 columns):\n",
      " #   Column      Non-Null Count  Dtype \n",
      "---  ------      --------------  ----- \n",
      " 0   Hypothesis  9 non-null      object\n",
      " 1   Reach       9 non-null      int64 \n",
      " 2   Impact      9 non-null      int64 \n",
      " 3   Confidence  9 non-null      int64 \n",
      " 4   Efforts     9 non-null      int64 \n",
      "dtypes: int64(4), object(1)\n",
      "memory usage: 488.0+ bytes\n",
      "None\n",
      "\n",
      "<class 'pandas.core.frame.DataFrame'>\n",
      "RangeIndex: 1197 entries, 0 to 1196\n",
      "Data columns (total 5 columns):\n",
      " #   Column         Non-Null Count  Dtype \n",
      "---  ------         --------------  ----- \n",
      " 0   transactionId  1197 non-null   int64 \n",
      " 1   visitorId      1197 non-null   int64 \n",
      " 2   date           1197 non-null   object\n",
      " 3   revenue        1197 non-null   int64 \n",
      " 4   group          1197 non-null   object\n",
      "dtypes: int64(3), object(2)\n",
      "memory usage: 46.9+ KB\n",
      "None\n",
      "\n",
      "<class 'pandas.core.frame.DataFrame'>\n",
      "RangeIndex: 62 entries, 0 to 61\n",
      "Data columns (total 3 columns):\n",
      " #   Column    Non-Null Count  Dtype \n",
      "---  ------    --------------  ----- \n",
      " 0   date      62 non-null     object\n",
      " 1   group     62 non-null     object\n",
      " 2   visitors  62 non-null     int64 \n",
      "dtypes: int64(1), object(2)\n",
      "memory usage: 1.6+ KB\n"
     ]
    }
   ],
   "source": [
    "print(hypothesis.info())\n",
    "print()\n",
    "print(orders.info())\n",
    "print()\n",
    "visitors.info()"
   ]
  },
  {
   "cell_type": "markdown",
   "metadata": {},
   "source": [
    "**Скорректируем названия столбцов.**"
   ]
  },
  {
   "cell_type": "code",
   "execution_count": 7,
   "metadata": {},
   "outputs": [
    {
     "name": "stdout",
     "output_type": "stream",
     "text": [
      "Index(['hypothesis', 'reach', 'impact', 'confidence', 'efforts'], dtype='object')\n",
      "Index(['transaction_id', 'visitor_id', 'date', 'revenue', 'group'], dtype='object')\n"
     ]
    }
   ],
   "source": [
    "hypothesis = hypothesis.rename(str.lower, axis='columns')\n",
    "orders = orders.rename(columns={'transactionId': 'transaction_id', 'visitorId': 'visitor_id'})\n",
    "print(hypothesis.columns, orders.columns, sep='\\n')"
   ]
  },
  {
   "cell_type": "markdown",
   "metadata": {},
   "source": [
    "**В данных по заказам и визитам приведем даты к типу datetime.**"
   ]
  },
  {
   "cell_type": "code",
   "execution_count": 8,
   "metadata": {},
   "outputs": [],
   "source": [
    "orders['date'] = pd.to_datetime(orders['date'])\n",
    "visitors['date'] = pd.to_datetime(visitors['date'])"
   ]
  },
  {
   "cell_type": "markdown",
   "metadata": {},
   "source": [
    "**Проверим, соответствует ли период в таблице с заказами периоду в таблице  с визитами.**"
   ]
  },
  {
   "cell_type": "code",
   "execution_count": 9,
   "metadata": {},
   "outputs": [
    {
     "name": "stdout",
     "output_type": "stream",
     "text": [
      "2019-08-01 00:00:00 2019-08-31 00:00:00\n",
      "\n",
      "2019-08-01 00:00:00 2019-08-31 00:00:00\n"
     ]
    }
   ],
   "source": [
    "print(orders['date'].min(), orders['date'].max())\n",
    "print()\n",
    "print(visitors['date'].min(), visitors['date'].max())"
   ]
  },
  {
   "cell_type": "markdown",
   "metadata": {},
   "source": [
    "**Проверим, есть ли в данных дубликаты.**"
   ]
  },
  {
   "cell_type": "code",
   "execution_count": 10,
   "metadata": {
    "scrolled": true
   },
   "outputs": [
    {
     "name": "stdout",
     "output_type": "stream",
     "text": [
      "0\n"
     ]
    },
    {
     "data": {
      "text/plain": [
       "0"
      ]
     },
     "execution_count": 10,
     "metadata": {},
     "output_type": "execute_result"
    }
   ],
   "source": [
    "print(orders.duplicated().sum())\n",
    "visitors.duplicated().sum()"
   ]
  },
  {
   "cell_type": "markdown",
   "metadata": {},
   "source": [
    "Дубликатов в данных нет."
   ]
  },
  {
   "cell_type": "markdown",
   "metadata": {},
   "source": [
    "**Проверим, не оказался ли один и тот же пользователь в двух группах.**"
   ]
  },
  {
   "cell_type": "code",
   "execution_count": 11,
   "metadata": {},
   "outputs": [
    {
     "name": "stdout",
     "output_type": "stream",
     "text": [
      "503 586\n",
      "Количество пользователей, попавших в обе группы: 58\n"
     ]
    }
   ],
   "source": [
    "buyers_A = pd.Series(orders[orders['group'] == 'A']['visitor_id'].unique(), name='visitor_id')\n",
    "buyers_B = pd.Series(orders[orders['group'] == 'B']['visitor_id'].unique(), name='visitor_id')\n",
    "visitors_unique = pd.concat([buyers_A, buyers_B], axis=0)\n",
    "print(len(buyers_A), len(buyers_B))\n",
    "print(f'Количество пользователей, попавших в обе группы: {visitors_unique.duplicated().sum()}')"
   ]
  },
  {
   "cell_type": "markdown",
   "metadata": {},
   "source": [
    "В данных с заказами есть 58 пользователей, которые попали сразу в две группы, что составляет около 5% от общего числа пользователей. Так как сопоставить этих пользователей с пользователями из таблицы visitors не получится, удалять их не будем."
   ]
  },
  {
   "cell_type": "markdown",
   "metadata": {},
   "source": [
    "### Часть 1. Приоритизация гипотез"
   ]
  },
  {
   "cell_type": "markdown",
   "metadata": {},
   "source": [
    "#### Применим фреймворк ICE для приоритизации гипотез и отсортируем их по убыванию приоритета."
   ]
  },
  {
   "cell_type": "code",
   "execution_count": 12,
   "metadata": {},
   "outputs": [
    {
     "data": {
      "text/html": [
       "<div>\n",
       "<style scoped>\n",
       "    .dataframe tbody tr th:only-of-type {\n",
       "        vertical-align: middle;\n",
       "    }\n",
       "\n",
       "    .dataframe tbody tr th {\n",
       "        vertical-align: top;\n",
       "    }\n",
       "\n",
       "    .dataframe thead th {\n",
       "        text-align: right;\n",
       "    }\n",
       "</style>\n",
       "<table border=\"1\" class=\"dataframe\">\n",
       "  <thead>\n",
       "    <tr style=\"text-align: right;\">\n",
       "      <th></th>\n",
       "      <th>hypothesis</th>\n",
       "      <th>reach</th>\n",
       "      <th>impact</th>\n",
       "      <th>confidence</th>\n",
       "      <th>efforts</th>\n",
       "      <th>ICE</th>\n",
       "    </tr>\n",
       "  </thead>\n",
       "  <tbody>\n",
       "    <tr>\n",
       "      <th>8</th>\n",
       "      <td>Запустить акцию, дающую скидку на товар в день...</td>\n",
       "      <td>1</td>\n",
       "      <td>9</td>\n",
       "      <td>9</td>\n",
       "      <td>5</td>\n",
       "      <td>16.200</td>\n",
       "    </tr>\n",
       "    <tr>\n",
       "      <th>0</th>\n",
       "      <td>Добавить два новых канала привлечения трафика,...</td>\n",
       "      <td>3</td>\n",
       "      <td>10</td>\n",
       "      <td>8</td>\n",
       "      <td>6</td>\n",
       "      <td>13.333</td>\n",
       "    </tr>\n",
       "    <tr>\n",
       "      <th>7</th>\n",
       "      <td>Добавить форму подписки на все основные страни...</td>\n",
       "      <td>10</td>\n",
       "      <td>7</td>\n",
       "      <td>8</td>\n",
       "      <td>5</td>\n",
       "      <td>11.200</td>\n",
       "    </tr>\n",
       "    <tr>\n",
       "      <th>6</th>\n",
       "      <td>Показать на главной странице баннеры с актуаль...</td>\n",
       "      <td>5</td>\n",
       "      <td>3</td>\n",
       "      <td>8</td>\n",
       "      <td>3</td>\n",
       "      <td>8.000</td>\n",
       "    </tr>\n",
       "    <tr>\n",
       "      <th>2</th>\n",
       "      <td>Добавить блоки рекомендаций товаров на сайт ин...</td>\n",
       "      <td>8</td>\n",
       "      <td>3</td>\n",
       "      <td>7</td>\n",
       "      <td>3</td>\n",
       "      <td>7.000</td>\n",
       "    </tr>\n",
       "    <tr>\n",
       "      <th>1</th>\n",
       "      <td>Запустить собственную службу доставки, что сок...</td>\n",
       "      <td>2</td>\n",
       "      <td>5</td>\n",
       "      <td>4</td>\n",
       "      <td>10</td>\n",
       "      <td>2.000</td>\n",
       "    </tr>\n",
       "    <tr>\n",
       "      <th>5</th>\n",
       "      <td>Добавить страницу отзывов клиентов о магазине,...</td>\n",
       "      <td>3</td>\n",
       "      <td>2</td>\n",
       "      <td>2</td>\n",
       "      <td>3</td>\n",
       "      <td>1.333</td>\n",
       "    </tr>\n",
       "    <tr>\n",
       "      <th>3</th>\n",
       "      <td>Изменить структура категорий, что увеличит кон...</td>\n",
       "      <td>8</td>\n",
       "      <td>3</td>\n",
       "      <td>3</td>\n",
       "      <td>8</td>\n",
       "      <td>1.125</td>\n",
       "    </tr>\n",
       "    <tr>\n",
       "      <th>4</th>\n",
       "      <td>Изменить цвет фона главной страницы, чтобы уве...</td>\n",
       "      <td>3</td>\n",
       "      <td>1</td>\n",
       "      <td>1</td>\n",
       "      <td>1</td>\n",
       "      <td>1.000</td>\n",
       "    </tr>\n",
       "  </tbody>\n",
       "</table>\n",
       "</div>"
      ],
      "text/plain": [
       "                                          hypothesis  reach  impact  \\\n",
       "8  Запустить акцию, дающую скидку на товар в день...      1       9   \n",
       "0  Добавить два новых канала привлечения трафика,...      3      10   \n",
       "7  Добавить форму подписки на все основные страни...     10       7   \n",
       "6  Показать на главной странице баннеры с актуаль...      5       3   \n",
       "2  Добавить блоки рекомендаций товаров на сайт ин...      8       3   \n",
       "1  Запустить собственную службу доставки, что сок...      2       5   \n",
       "5  Добавить страницу отзывов клиентов о магазине,...      3       2   \n",
       "3  Изменить структура категорий, что увеличит кон...      8       3   \n",
       "4  Изменить цвет фона главной страницы, чтобы уве...      3       1   \n",
       "\n",
       "   confidence  efforts     ICE  \n",
       "8           9        5  16.200  \n",
       "0           8        6  13.333  \n",
       "7           8        5  11.200  \n",
       "6           8        3   8.000  \n",
       "2           7        3   7.000  \n",
       "1           4       10   2.000  \n",
       "5           2        3   1.333  \n",
       "3           3        8   1.125  \n",
       "4           1        1   1.000  "
      ]
     },
     "execution_count": 12,
     "metadata": {},
     "output_type": "execute_result"
    }
   ],
   "source": [
    "hypothesis['ICE'] = round((hypothesis['impact'] * hypothesis['confidence']) / hypothesis['efforts'], 3)\n",
    "hypothesis.sort_values(by='ICE', ascending=False)\n"
   ]
  },
  {
   "cell_type": "markdown",
   "metadata": {},
   "source": [
    "**Вывод:**\n",
    "\n",
    "Наиболее перспективной оказалась гипотеза: `Запустить акцию, дающую скидку на товар в день рождения`. В тройку также вошли гипотезы: `Добавить два новых канала привлечения трафика, что позволит привлекать на 30% больше пользователей` и `Добавить форму подписки на все основные страницы, чтобы собрать базу клиентов для email-рассылок`. Им соответсвуют порядковые номера 8, 0 и 7."
   ]
  },
  {
   "cell_type": "markdown",
   "metadata": {},
   "source": [
    "#### Применим фреймворк RICE для приоритизации гипотез и отсортируем их по убыванию приоритета."
   ]
  },
  {
   "cell_type": "code",
   "execution_count": 13,
   "metadata": {},
   "outputs": [
    {
     "data": {
      "text/html": [
       "<div>\n",
       "<style scoped>\n",
       "    .dataframe tbody tr th:only-of-type {\n",
       "        vertical-align: middle;\n",
       "    }\n",
       "\n",
       "    .dataframe tbody tr th {\n",
       "        vertical-align: top;\n",
       "    }\n",
       "\n",
       "    .dataframe thead th {\n",
       "        text-align: right;\n",
       "    }\n",
       "</style>\n",
       "<table border=\"1\" class=\"dataframe\">\n",
       "  <thead>\n",
       "    <tr style=\"text-align: right;\">\n",
       "      <th></th>\n",
       "      <th>hypothesis</th>\n",
       "      <th>reach</th>\n",
       "      <th>impact</th>\n",
       "      <th>confidence</th>\n",
       "      <th>efforts</th>\n",
       "      <th>ICE</th>\n",
       "      <th>RICE</th>\n",
       "    </tr>\n",
       "  </thead>\n",
       "  <tbody>\n",
       "    <tr>\n",
       "      <th>0</th>\n",
       "      <td>Добавить два новых канала привлечения трафика, что позволит привлекать на 30% больше пользователей</td>\n",
       "      <td>3</td>\n",
       "      <td>10</td>\n",
       "      <td>8</td>\n",
       "      <td>6</td>\n",
       "      <td>13.333</td>\n",
       "      <td>40.0</td>\n",
       "    </tr>\n",
       "    <tr>\n",
       "      <th>1</th>\n",
       "      <td>Запустить собственную службу доставки, что сократит срок доставки заказов</td>\n",
       "      <td>2</td>\n",
       "      <td>5</td>\n",
       "      <td>4</td>\n",
       "      <td>10</td>\n",
       "      <td>2.000</td>\n",
       "      <td>4.0</td>\n",
       "    </tr>\n",
       "    <tr>\n",
       "      <th>2</th>\n",
       "      <td>Добавить блоки рекомендаций товаров на сайт интернет магазина, чтобы повысить конверсию и средний чек заказа</td>\n",
       "      <td>8</td>\n",
       "      <td>3</td>\n",
       "      <td>7</td>\n",
       "      <td>3</td>\n",
       "      <td>7.000</td>\n",
       "      <td>56.0</td>\n",
       "    </tr>\n",
       "    <tr>\n",
       "      <th>3</th>\n",
       "      <td>Изменить структура категорий, что увеличит конверсию, т.к. пользователи быстрее найдут нужный товар</td>\n",
       "      <td>8</td>\n",
       "      <td>3</td>\n",
       "      <td>3</td>\n",
       "      <td>8</td>\n",
       "      <td>1.125</td>\n",
       "      <td>9.0</td>\n",
       "    </tr>\n",
       "    <tr>\n",
       "      <th>4</th>\n",
       "      <td>Изменить цвет фона главной страницы, чтобы увеличить вовлеченность пользователей</td>\n",
       "      <td>3</td>\n",
       "      <td>1</td>\n",
       "      <td>1</td>\n",
       "      <td>1</td>\n",
       "      <td>1.000</td>\n",
       "      <td>3.0</td>\n",
       "    </tr>\n",
       "    <tr>\n",
       "      <th>5</th>\n",
       "      <td>Добавить страницу отзывов клиентов о магазине, что позволит увеличить количество заказов</td>\n",
       "      <td>3</td>\n",
       "      <td>2</td>\n",
       "      <td>2</td>\n",
       "      <td>3</td>\n",
       "      <td>1.333</td>\n",
       "      <td>4.0</td>\n",
       "    </tr>\n",
       "    <tr>\n",
       "      <th>6</th>\n",
       "      <td>Показать на главной странице баннеры с актуальными акциями и распродажами, чтобы увеличить конверсию</td>\n",
       "      <td>5</td>\n",
       "      <td>3</td>\n",
       "      <td>8</td>\n",
       "      <td>3</td>\n",
       "      <td>8.000</td>\n",
       "      <td>40.0</td>\n",
       "    </tr>\n",
       "    <tr>\n",
       "      <th>7</th>\n",
       "      <td>Добавить форму подписки на все основные страницы, чтобы собрать базу клиентов для email-рассылок</td>\n",
       "      <td>10</td>\n",
       "      <td>7</td>\n",
       "      <td>8</td>\n",
       "      <td>5</td>\n",
       "      <td>11.200</td>\n",
       "      <td>112.0</td>\n",
       "    </tr>\n",
       "    <tr>\n",
       "      <th>8</th>\n",
       "      <td>Запустить акцию, дающую скидку на товар в день рождения</td>\n",
       "      <td>1</td>\n",
       "      <td>9</td>\n",
       "      <td>9</td>\n",
       "      <td>5</td>\n",
       "      <td>16.200</td>\n",
       "      <td>16.2</td>\n",
       "    </tr>\n",
       "  </tbody>\n",
       "</table>\n",
       "</div>"
      ],
      "text/plain": [
       "                                                                                                     hypothesis  \\\n",
       "0  Добавить два новых канала привлечения трафика, что позволит привлекать на 30% больше пользователей             \n",
       "1  Запустить собственную службу доставки, что сократит срок доставки заказов                                      \n",
       "2  Добавить блоки рекомендаций товаров на сайт интернет магазина, чтобы повысить конверсию и средний чек заказа   \n",
       "3  Изменить структура категорий, что увеличит конверсию, т.к. пользователи быстрее найдут нужный товар            \n",
       "4  Изменить цвет фона главной страницы, чтобы увеличить вовлеченность пользователей                               \n",
       "5  Добавить страницу отзывов клиентов о магазине, что позволит увеличить количество заказов                       \n",
       "6  Показать на главной странице баннеры с актуальными акциями и распродажами, чтобы увеличить конверсию           \n",
       "7  Добавить форму подписки на все основные страницы, чтобы собрать базу клиентов для email-рассылок               \n",
       "8  Запустить акцию, дающую скидку на товар в день рождения                                                        \n",
       "\n",
       "   reach  impact  confidence  efforts     ICE   RICE  \n",
       "0  3      10      8           6        13.333  40.0   \n",
       "1  2      5       4           10       2.000   4.0    \n",
       "2  8      3       7           3        7.000   56.0   \n",
       "3  8      3       3           8        1.125   9.0    \n",
       "4  3      1       1           1        1.000   3.0    \n",
       "5  3      2       2           3        1.333   4.0    \n",
       "6  5      3       8           3        8.000   40.0   \n",
       "7  10     7       8           5        11.200  112.0  \n",
       "8  1      9       9           5        16.200  16.2   "
      ]
     },
     "execution_count": 13,
     "metadata": {},
     "output_type": "execute_result"
    }
   ],
   "source": [
    "hypothesis['RICE'] = (hypothesis['reach'] * hypothesis['impact'] * hypothesis['confidence']) / hypothesis['efforts']\n",
    "hypothesis.sort_values(by='RICE', ascending=False)\n",
    "pd.options.display.max_colwidth = 1\n",
    "hypothesis"
   ]
  },
  {
   "cell_type": "markdown",
   "metadata": {},
   "source": [
    "**Вывод:**\n",
    "\n",
    "В данном случае на первом месте с большим отрывом оказалась гипотеза: `Добавить форму подписки на все основные страницы, чтобы собрать базу клиентов для email-рассылок`, которая по показателю ICE была на 3-ем месте. Далее идут гипотезы с порядковым номерами 2, 0 и 6. На перестановку в приоритизации гипотез повлиял показатель reach, который в 7 гипотезе имеет максимальную оценку, то есть применение данных изменений охватит всех возможных пользователей, в 8 гипотезе, напротив, охват минимальный."
   ]
  },
  {
   "cell_type": "markdown",
   "metadata": {},
   "source": [
    "### Часть 2. Анализ A/B-теста"
   ]
  },
  {
   "cell_type": "markdown",
   "metadata": {},
   "source": [
    "#### Построим график кумулятивной выручки по группам."
   ]
  },
  {
   "cell_type": "code",
   "execution_count": 14,
   "metadata": {},
   "outputs": [],
   "source": [
    "date_groups = orders[['date', 'group']].drop_duplicates()\n",
    "# считаем кумулятивную выручку, количество заказов и количество посетителей интернет-магазина\n",
    "orders_aggregated = date_groups.apply(\n",
    "    lambda x: orders[\n",
    "        np.logical_and(orders['date'] <= x['date'], orders['group'] == x['group'])\n",
    "    ]\n",
    "    .agg({'date': 'max', 'group': 'max', 'transaction_id': 'nunique', 'visitor_id': 'nunique', 'revenue': 'sum'}),\n",
    "    axis=1\n",
    ").sort_values(by=['date', 'group'])\n",
    "\n",
    "visitors_aggregated = date_groups.apply(\n",
    "    lambda x: visitors[\n",
    "        np.logical_and(visitors['date'] <= x['date'], visitors['group'] == x['group'])\n",
    "    ]\n",
    "    .agg({'date': 'max', 'group': 'max', 'visitors': 'sum'}),\n",
    "    axis=1\n",
    ").sort_values(by=['date', 'group'])\n",
    "\n",
    "cumulative_data = orders_aggregated.merge(visitors_aggregated, left_on=['date', 'group'], right_on=['date', 'group'])\n",
    "cumulative_data.columns = ['date', 'group', 'orders', 'buyers', 'revenue', 'visitors']"
   ]
  },
  {
   "cell_type": "code",
   "execution_count": 15,
   "metadata": {},
   "outputs": [],
   "source": [
    "cumulative_revenue_A = cumulative_data[cumulative_data['group'] == 'A']\n",
    "cumulative_revenue_B = cumulative_data[cumulative_data['group'] == 'B']"
   ]
  },
  {
   "cell_type": "code",
   "execution_count": 16,
   "metadata": {},
   "outputs": [
    {
     "data": {
      "image/png": "[encoded data removed]",
      "text/plain": [
       "<Figure size 720x432 with 1 Axes>"
      ]
     },
     "metadata": {
      "needs_background": "light"
     },
     "output_type": "display_data"
    }
   ],
   "source": [
    "plt.figure(figsize=(10, 6))\n",
    "plt.plot(cumulative_revenue_A['date'], cumulative_revenue_A['revenue'], label='A')\n",
    "plt.plot(cumulative_revenue_B['date'], cumulative_revenue_B['revenue'], label='B')\n",
    "plt.title('Выручка по группам', fontsize=14)\n",
    "plt.ylabel('Выручка, млн руб.', fontsize=12)\n",
    "plt.legend();"
   ]
  },
  {
   "cell_type": "markdown",
   "metadata": {},
   "source": [
    "**Вывод:**\n",
    "\n",
    "Группа B лидирует в течении всего периода проведения теста. Во второй половине у группы B виден резкий скачок, который возможно связан с наличием аномально больших заказов."
   ]
  },
  {
   "cell_type": "markdown",
   "metadata": {},
   "source": [
    "#### Построим график кумулятивного среднего чека по группам."
   ]
  },
  {
   "cell_type": "code",
   "execution_count": 17,
   "metadata": {},
   "outputs": [
    {
     "data": {
      "image/png": "[encoded data removed]",
      "text/plain": [
       "<Figure size 720x432 with 1 Axes>"
      ]
     },
     "metadata": {
      "needs_background": "light"
     },
     "output_type": "display_data"
    }
   ],
   "source": [
    "plt.figure(figsize=(10, 6))\n",
    "plt.plot(cumulative_revenue_A['date'], cumulative_revenue_A['revenue']/cumulative_revenue_A['orders'], label='A')\n",
    "plt.plot(cumulative_revenue_B['date'], cumulative_revenue_B['revenue']/cumulative_revenue_B['orders'], label='B')\n",
    "plt.title('Средний чек по группам', fontsize=14)\n",
    "plt.ylabel('Средний чек покупки, руб.', fontsize=12)\n",
    "plt.legend();"
   ]
  },
  {
   "cell_type": "markdown",
   "metadata": {},
   "source": [
    "**Вывод:**\n",
    "\n",
    "Для группы A средний чек в начале теста проседал, но во второй половине стал более равномерным. У группы B в первой половине теста значение колебалось вокруг значения 7 000 руб., но потом произошел резкий скачок по среднему чеку в середине теста, который скорее всего связан с аномально большим заказом. После график идет на спад. \n",
    "\n",
    "На данный момент по среднему чеку рано принимать решение, либо необходим дополнительный анадиз выбросов, которые искажают результаты."
   ]
  },
  {
   "cell_type": "markdown",
   "metadata": {},
   "source": [
    "#### Построим график относительного изменения кумулятивного среднего чека группы B к группе A."
   ]
  },
  {
   "cell_type": "code",
   "execution_count": 18,
   "metadata": {},
   "outputs": [],
   "source": [
    "merged_cumulative_revenue = cumulative_revenue_A.merge(\n",
    "    cumulative_revenue_B, how='left', left_on=['date'], right_on=['date'], suffixes=['A', 'B'])"
   ]
  },
  {
   "cell_type": "code",
   "execution_count": 19,
   "metadata": {},
   "outputs": [
    {
     "data": {
      "image/png": "[encoded data removed]",
      "text/plain": [
       "<Figure size 720x432 with 1 Axes>"
      ]
     },
     "metadata": {
      "needs_background": "light"
     },
     "output_type": "display_data"
    }
   ],
   "source": [
    "plt.figure(figsize=(10, 6))\n",
    "plt.plot(merged_cumulative_revenue['date'], \n",
    "        (merged_cumulative_revenue['revenueB']/merged_cumulative_revenue['ordersB'])/\n",
    "        (merged_cumulative_revenue['revenueA']/merged_cumulative_revenue['ordersA'])-1)\n",
    "plt.axhline(y=0, color='black', linestyle='--')\n",
    "plt.title('Относительное изменение среднего чека группы B относительно группы A', fontsize=14);"
   ]
  },
  {
   "cell_type": "markdown",
   "metadata": {},
   "source": [
    "**Вывод:**\n",
    "\n",
    "В середине теста есть резкие скачки в изменениях велечине среднего чека между группами, что еще раз подтверждает наличие аномальных значений в выручке."
   ]
  },
  {
   "cell_type": "markdown",
   "metadata": {},
   "source": [
    "#### Построим график кумулятивной конверсии по группам."
   ]
  },
  {
   "cell_type": "code",
   "execution_count": 20,
   "metadata": {},
   "outputs": [],
   "source": [
    "cumulative_data['conversion'] = cumulative_data['orders'] / cumulative_data['visitors']\n",
    "cumulative_data_A = cumulative_data[cumulative_data['group'] == 'A']\n",
    "cumulative_data_B = cumulative_data[cumulative_data['group'] == 'B']"
   ]
  },
  {
   "cell_type": "code",
   "execution_count": 21,
   "metadata": {},
   "outputs": [
    {
     "data": {
      "image/png": "[encoded data removed]",
      "text/plain": [
       "<Figure size 720x432 with 1 Axes>"
      ]
     },
     "metadata": {
      "needs_background": "light"
     },
     "output_type": "display_data"
    }
   ],
   "source": [
    "plt.figure(figsize=(10, 6))\n",
    "plt.plot(cumulative_data_A['date'], cumulative_data_A['conversion'], label='A')\n",
    "plt.plot(cumulative_data_B['date'], cumulative_data_B['conversion'], label='B')\n",
    "plt.title('Конверсия по группам', fontsize=14)\n",
    "plt.ylabel('Конверсия', fontsize=12)\n",
    "plt.axis([\"2019-08-01\", '2019-08-31', 0, 0.04])\n",
    "plt.legend();"
   ]
  },
  {
   "cell_type": "markdown",
   "metadata": {},
   "source": [
    "**Вывод:**\n",
    "\n",
    "В начале теста сегмент A имел большую конверсию, но начиная с 5 августа конверсия сегмента B начала расти и установилась около значения 3,5%, у сегмента A конверсия снизилась и установилась у значения 3%."
   ]
  },
  {
   "cell_type": "markdown",
   "metadata": {},
   "source": [
    "#### Построим график относительного изменения кумулятивной конверсии группы B к группе A."
   ]
  },
  {
   "cell_type": "code",
   "execution_count": 22,
   "metadata": {},
   "outputs": [],
   "source": [
    "merged_cumulative_conversions = cumulative_data_A.merge(\n",
    "    cumulative_data_B, left_on=['date'], right_on=['date'], how='left', suffixes=['A', 'B']\n",
    ")"
   ]
  },
  {
   "cell_type": "code",
   "execution_count": 23,
   "metadata": {},
   "outputs": [
    {
     "data": {
      "image/png": "[encoded data removed]",
      "text/plain": [
       "<Figure size 720x432 with 1 Axes>"
      ]
     },
     "metadata": {
      "needs_background": "light"
     },
     "output_type": "display_data"
    }
   ],
   "source": [
    "plt.figure(figsize=(10, 6))\n",
    "plt.plot(merged_cumulative_conversions['date'],\n",
    "        merged_cumulative_conversions['conversionB']/merged_cumulative_conversions['conversionA']-1)\n",
    "plt.title('Относительный прирост конверсии группы B относительно группы A', fontsize=14)\n",
    "plt.axhline(y=0, color='black', linestyle='--')\n",
    "plt.axhline(y=0.13, color='grey', linestyle='--')\n",
    "plt.axis(['2019-08-01', '2019-08-31', -0.3, 0.3]);"
   ]
  },
  {
   "cell_type": "markdown",
   "metadata": {},
   "source": [
    "**Вывод:**\n",
    "\n",
    "Практически с самого начала группа B лидирует по конверсии, к середине теста прирост конверсии группы B относительно группы A колеблется у значения в 20%, затем идет немного на спад и к концу теста устанавливается около значения прироста в 13%."
   ]
  },
  {
   "cell_type": "markdown",
   "metadata": {},
   "source": [
    "#### Построим точечный график количества заказов по пользователям."
   ]
  },
  {
   "cell_type": "code",
   "execution_count": 24,
   "metadata": {},
   "outputs": [
    {
     "data": {
      "text/html": [
       "<div>\n",
       "<style scoped>\n",
       "    .dataframe tbody tr th:only-of-type {\n",
       "        vertical-align: middle;\n",
       "    }\n",
       "\n",
       "    .dataframe tbody tr th {\n",
       "        vertical-align: top;\n",
       "    }\n",
       "\n",
       "    .dataframe thead th {\n",
       "        text-align: right;\n",
       "    }\n",
       "</style>\n",
       "<table border=\"1\" class=\"dataframe\">\n",
       "  <thead>\n",
       "    <tr style=\"text-align: right;\">\n",
       "      <th></th>\n",
       "      <th>visitor_id</th>\n",
       "      <th>orders</th>\n",
       "    </tr>\n",
       "  </thead>\n",
       "  <tbody>\n",
       "    <tr>\n",
       "      <th>1023</th>\n",
       "      <td>4256040402</td>\n",
       "      <td>11</td>\n",
       "    </tr>\n",
       "    <tr>\n",
       "      <th>591</th>\n",
       "      <td>2458001652</td>\n",
       "      <td>11</td>\n",
       "    </tr>\n",
       "    <tr>\n",
       "      <th>569</th>\n",
       "      <td>2378935119</td>\n",
       "      <td>9</td>\n",
       "    </tr>\n",
       "    <tr>\n",
       "      <th>487</th>\n",
       "      <td>2038680547</td>\n",
       "      <td>8</td>\n",
       "    </tr>\n",
       "    <tr>\n",
       "      <th>44</th>\n",
       "      <td>199603092</td>\n",
       "      <td>5</td>\n",
       "    </tr>\n",
       "    <tr>\n",
       "      <th>744</th>\n",
       "      <td>3062433592</td>\n",
       "      <td>5</td>\n",
       "    </tr>\n",
       "    <tr>\n",
       "      <th>55</th>\n",
       "      <td>237748145</td>\n",
       "      <td>5</td>\n",
       "    </tr>\n",
       "    <tr>\n",
       "      <th>917</th>\n",
       "      <td>3803269165</td>\n",
       "      <td>5</td>\n",
       "    </tr>\n",
       "    <tr>\n",
       "      <th>299</th>\n",
       "      <td>1230306981</td>\n",
       "      <td>5</td>\n",
       "    </tr>\n",
       "    <tr>\n",
       "      <th>897</th>\n",
       "      <td>3717692402</td>\n",
       "      <td>5</td>\n",
       "    </tr>\n",
       "  </tbody>\n",
       "</table>\n",
       "</div>"
      ],
      "text/plain": [
       "      visitor_id  orders\n",
       "1023  4256040402  11    \n",
       "591   2458001652  11    \n",
       "569   2378935119  9     \n",
       "487   2038680547  8     \n",
       "44    199603092   5     \n",
       "744   3062433592  5     \n",
       "55    237748145   5     \n",
       "917   3803269165  5     \n",
       "299   1230306981  5     \n",
       "897   3717692402  5     "
      ]
     },
     "execution_count": 24,
     "metadata": {},
     "output_type": "execute_result"
    }
   ],
   "source": [
    "orders_per_visitor = orders.groupby('visitor_id', as_index=False).agg({'transaction_id': 'nunique'})\n",
    "orders_per_visitor.columns = ['visitor_id', 'orders']\n",
    "orders_per_visitor.sort_values(by='orders', ascending=False).head(10)"
   ]
  },
  {
   "cell_type": "code",
   "execution_count": 25,
   "metadata": {},
   "outputs": [
    {
     "data": {
      "image/png": "[encoded data removed]",
      "text/plain": [
       "<Figure size 720x432 with 1 Axes>"
      ]
     },
     "metadata": {
      "needs_background": "light"
     },
     "output_type": "display_data"
    }
   ],
   "source": [
    "x_values = np.arange(len(orders_per_visitor['orders']))\n",
    "plt.figure(figsize=(10, 6))\n",
    "plt.scatter(x_values, orders_per_visitor['orders'])\n",
    "plt.title('Количество заказов на отдельного пользователя', fontsize=14)\n",
    "plt.ylabel('Количество заказов', fontsize=12);"
   ]
  },
  {
   "cell_type": "markdown",
   "metadata": {},
   "source": [
    "**Вывод:**\n",
    "\n",
    "Большинство пользователей совершали 1 заказ, также есть достаточно большое количество пользователей с 2-3 заказами. В то же время есть пользователи, которые совершали аномально большое число заказов за неделю - 5, 8, 9 и 11 заказов, однако их доля очень мала."
   ]
  },
  {
   "cell_type": "markdown",
   "metadata": {},
   "source": [
    "#### Рассчитаем 95-й и 99-й процентили количества заказов на пользователя"
   ]
  },
  {
   "cell_type": "code",
   "execution_count": 26,
   "metadata": {},
   "outputs": [
    {
     "name": "stdout",
     "output_type": "stream",
     "text": [
      "95-й процентиль количества заказов на пользователя = 2.0\n",
      "99-й процентиль количества заказов на пользователя = 4.0\n"
     ]
    }
   ],
   "source": [
    "print(f'95-й процентиль количества заказов на пользователя = {np.percentile(orders_per_visitor[\"orders\"], 95)}')\n",
    "print(f'99-й процентиль количества заказов на пользователя = {np.percentile(orders_per_visitor[\"orders\"], 99)}')"
   ]
  },
  {
   "cell_type": "markdown",
   "metadata": {},
   "source": [
    "Менее 5% пользователей совершили более двух заказов и менее 1% пользователей совершили более 4 заказов. В дальнейшем количество заказов от 3 и более будем считать аномальными."
   ]
  },
  {
   "cell_type": "markdown",
   "metadata": {},
   "source": [
    "#### Построим точечный график стоимостей заказов."
   ]
  },
  {
   "cell_type": "code",
   "execution_count": 27,
   "metadata": {},
   "outputs": [
    {
     "name": "stdout",
     "output_type": "stream",
     "text": [
      "Максимальный заказ: 1,294,500 руб.\n"
     ]
    },
    {
     "data": {
      "image/png": "[encoded data removed]",
      "text/plain": [
       "<Figure size 720x432 with 1 Axes>"
      ]
     },
     "metadata": {
      "needs_background": "light"
     },
     "output_type": "display_data"
    }
   ],
   "source": [
    "x_values = np.arange(0, len(orders['revenue']))\n",
    "plt.figure(figsize=(10, 6))\n",
    "plt.scatter(x_values, orders['revenue'])\n",
    "plt.ylim(0, 0.1e6)\n",
    "plt.title('Стоимость заказов каждого отдельного пользователя', fontsize=14)\n",
    "plt.ylabel('Стоимость, руб', fontsize=12);\n",
    "print(f\"Максимальный заказ: {orders['revenue'].max():,.0f} руб.\")"
   ]
  },
  {
   "cell_type": "markdown",
   "metadata": {},
   "source": [
    "**Вывод:**\n",
    "\n",
    "Основная часть стоимости заказов находится в пределах 30 000 руб., при этом есть аномально большой заказ, который составил более 1,2 млн руб."
   ]
  },
  {
   "cell_type": "markdown",
   "metadata": {},
   "source": [
    "#### Посчитаем 95-й и 99-й перцентили стоимости заказов."
   ]
  },
  {
   "cell_type": "code",
   "execution_count": 28,
   "metadata": {},
   "outputs": [
    {
     "name": "stdout",
     "output_type": "stream",
     "text": [
      "95-й процентиль количества заказов на пользователя = 28000.000000000004\n",
      "99-й процентиль количества заказов на пользователя = 58233.19999999999\n"
     ]
    }
   ],
   "source": [
    "print(f'95-й процентиль количества заказов на пользователя = {np.percentile(orders[\"revenue\"], 95)}')\n",
    "print(f'99-й процентиль количества заказов на пользователя = {np.percentile(orders[\"revenue\"], 99)}')"
   ]
  },
  {
   "cell_type": "markdown",
   "metadata": {},
   "source": [
    "Не более 5% дороже 28 000 руб. и не более 1% дороже 58 233 рублей. Заказы дороже 30 000 руб. будем считать аномально дорогими."
   ]
  },
  {
   "cell_type": "markdown",
   "metadata": {},
   "source": [
    "#### Рассчитаем статистическую значимость различий в среднем числе заказов на пользователя между группами по «сырым» данным, то есть данным с учетом аномальных значений."
   ]
  },
  {
   "cell_type": "markdown",
   "metadata": {},
   "source": [
    "Для сравнения двух групп будем использовать непараметрический тест U-критерий Манна-Уитни.\n",
    "\n",
    "```\n",
    "H_0: Различий в среднем числе заказов между группами нет\n",
    "H_1: Различия в среднем числе заказов между группами есть\n",
    "alpha = 0.05\n",
    "```\n"
   ]
  },
  {
   "cell_type": "code",
   "execution_count": 29,
   "metadata": {},
   "outputs": [],
   "source": [
    "# количество визитов в день для каждой группы\n",
    "visitors_daily_A = visitors[visitors['group'] == 'A'][['date', 'visitors']]\n",
    "visitors_daily_A.columns = ['date', 'visitors_per_date_A']\n",
    "visitors_daily_B = visitors[visitors['group'] == 'B'][['date', 'visitors']]\n",
    "visitors_daily_B.columns = ['date', 'visitors_per_date_B']"
   ]
  },
  {
   "cell_type": "code",
   "execution_count": 30,
   "metadata": {},
   "outputs": [],
   "source": [
    "# количество заказов на пользователя для каждой группы\n",
    "orders_per_visitor_A = (\n",
    "    orders[orders['group'] == 'A']\n",
    "    .groupby('visitor_id', as_index=False)\n",
    "    .agg({'transaction_id': 'nunique'})\n",
    ")\n",
    "orders_per_visitor_A.columns = ['visitor_id', 'orders']\n",
    "\n",
    "orders_per_visitor_B = (\n",
    "    orders[orders['group'] == 'B']\n",
    "    .groupby('visitor_id', as_index=False)\n",
    "    .agg({'transaction_id': 'nunique'})\n",
    ")\n",
    "orders_per_visitor_B.columns = ['visitor_id', 'orders']"
   ]
  },
  {
   "cell_type": "code",
   "execution_count": 31,
   "metadata": {},
   "outputs": [],
   "source": [
    "# создадим выборки, где каждый элемент - число заказов определенного пользователя, в том числе ноль\n",
    "sample_A = pd.concat([\n",
    "    orders_per_visitor_A['orders'],\n",
    "    pd.Series(0, index=np.arange(visitors_daily_A['visitors_per_date_A'].sum() \\\n",
    "                                 - len(orders_per_visitor_A['orders'])),\n",
    "              name='orders')\n",
    "], axis=0\n",
    ")\n",
    "\n",
    "sample_B = pd.concat([\n",
    "    orders_per_visitor_B['orders'],\n",
    "    pd.Series(0, index=np.arange(visitors_daily_B['visitors_per_date_B'].sum() \\\n",
    "                                 - len(orders_per_visitor_B['orders'])),\n",
    "              name='orders')\n",
    "], axis=0\n",
    ")"
   ]
  },
  {
   "cell_type": "code",
   "execution_count": 32,
   "metadata": {},
   "outputs": [
    {
     "name": "stdout",
     "output_type": "stream",
     "text": [
      "P-value = 0.017\n",
      "По сырым данным различия в среднем числе заказов в группах A и B оказались статистически значимыми.\n",
      "\n",
      "Относительный прирост среднего числа заказов на пользователя в группе B относительно группы A составил 13.8%.\n"
     ]
    }
   ],
   "source": [
    "alpha = 0.05\n",
    "p_value = st.mannwhitneyu(sample_A, sample_B)[1]\n",
    "\n",
    "if p_value < 0.05:\n",
    "    print(f\"P-value = {p_value:.3f}\")\n",
    "    print('По сырым данным различия в среднем числе заказов в группах A и B оказались статистически значимыми.')\n",
    "else:\n",
    "    print(f\"P-value = {p_value:.3f}\")\n",
    "    print('По сырым данным различий в среднем числе заказов между группами A и B нет.')\n",
    "\n",
    "print()\n",
    "print(\"Относительный прирост среднего числа заказов на пользователя в группе B относительно группы A составил {0:.1f}%.\"\n",
    "      .format((sample_B.mean() / sample_A.mean() - 1) * 100))"
   ]
  },
  {
   "cell_type": "markdown",
   "metadata": {},
   "source": [
    "**Вывод:**\n",
    "\n",
    "По «сырым» данным различие в среднем числе заказов на одного пользователя в двух группах оказалось статистически значимо. При этом в группе B среднее количество заказов на одного пользователя оказалось больше на 13,8%."
   ]
  },
  {
   "cell_type": "markdown",
   "metadata": {},
   "source": [
    "#### Рассчитаем статистическую значимость различий в среднем чеке заказа между группами по «сырым» данным."
   ]
  },
  {
   "cell_type": "markdown",
   "metadata": {},
   "source": [
    "В данном случае нулевая и альтернативная гипотезы будут следующими:\n",
    "\n",
    "```\n",
    "H_0: Различий в среднем чеке заказа между группами нет\n",
    "H_1: Различия в среднем чеке заказа между группами есть\n",
    "alpha = 0.05\n",
    "```"
   ]
  },
  {
   "cell_type": "code",
   "execution_count": 33,
   "metadata": {},
   "outputs": [
    {
     "name": "stdout",
     "output_type": "stream",
     "text": [
      "P-value = 0.729\n",
      "По сырым данным различий в среднем чеке заказа между группами A и B нет.\n",
      "\n",
      "Относительное различие среднего чека в группе B относительно среднего чека заказа в группе A 25.9%\n"
     ]
    }
   ],
   "source": [
    "p_value = st.mannwhitneyu(orders[orders['group'] == 'A']['revenue'], orders[orders['group'] == 'B']['revenue'])[1]\n",
    "\n",
    "if p_value < 0.05:\n",
    "    print(f\"P-value = {p_value:.3f}\")\n",
    "    print('По сырым данным различия в среднем чеке заказа в группах A и B оказались статистически значимыми.')\n",
    "else:\n",
    "    print(f\"P-value = {p_value:.3f}\")\n",
    "    print('По сырым данным различий в среднем чеке заказа между группами A и B нет.')\n",
    "    \n",
    "print()\n",
    "print(\"Относительное различие среднего чека в группе B относительно среднего чека заказа в группе A {:.1f}%\"\n",
    "     .format((orders[orders['group'] == 'B']['revenue'].mean()/orders[orders['group'] == 'A']['revenue'].mean()-1)*100))"
   ]
  },
  {
   "cell_type": "markdown",
   "metadata": {},
   "source": [
    "**Вывод:**\n",
    "\n",
    "Статистически значимых различий в среднем чеке заказа для групп A и B не обнаружено. Однако средний чек в группе B оказался значительно выше, что скорее всего связано с попаданием аномально больших заказов в выборку."
   ]
  },
  {
   "cell_type": "markdown",
   "metadata": {},
   "source": [
    "#### Рассчитаем статистическую значимость различий в среднем количестве заказов между группами по «очищенным» данным - данным без аномальных значений."
   ]
  },
  {
   "cell_type": "markdown",
   "metadata": {},
   "source": [
    "Нулевая и альтернативная гипотезы остаются прежними:\n",
    "\n",
    "```\n",
    "H_0: Различий в среднем числе заказов между группами нет\n",
    "H_1: Различия в среднем числе заказов между группами есть\n",
    "alpha = 0.05\n",
    "```"
   ]
  },
  {
   "cell_type": "code",
   "execution_count": 34,
   "metadata": {
    "scrolled": true
   },
   "outputs": [
    {
     "data": {
      "text/plain": [
       "68"
      ]
     },
     "execution_count": 34,
     "metadata": {},
     "output_type": "execute_result"
    }
   ],
   "source": [
    "# найдем id пользвателей с аномально большим количеством заказов и аномально большим чеком\n",
    "users_with_many_orders = pd.concat(\n",
    "    [\n",
    "        orders_per_visitor_A[orders_per_visitor_A['orders'] >= 3]['visitor_id'],\n",
    "        orders_per_visitor_B[orders_per_visitor_B['orders'] >= 3]['visitor_id']\n",
    "    ],\n",
    "    axis=0\n",
    ")\n",
    "\n",
    "users_with_expensive_orders = orders[orders['revenue'] > 30000]['visitor_id']\n",
    "\n",
    "abnormal_visitors = (\n",
    "    pd.concat([users_with_many_orders, users_with_expensive_orders], axis=0)\n",
    "    .drop_duplicates()\n",
    "    .sort_values()\n",
    ")\n",
    "\n",
    "abnormal_visitors.shape[0]"
   ]
  },
  {
   "cell_type": "code",
   "execution_count": 35,
   "metadata": {},
   "outputs": [],
   "source": [
    "# создадим отфильтрованные выборки\n",
    "sample_filtered_A = pd.concat([\n",
    "    orders_per_visitor_A[\n",
    "        np.logical_not(orders_per_visitor_A['visitor_id'].isin(abnormal_visitors))\n",
    "    ]['orders'],\n",
    "    pd.Series(0, index=np.arange(visitors_daily_A['visitors_per_date_A'].sum() \\\n",
    "                                 - len(orders_per_visitor_A['orders'])),\n",
    "              name='orders')\n",
    "], axis=0\n",
    ")\n",
    "\n",
    "sample_filtered_B = pd.concat([\n",
    "    orders_per_visitor_B[\n",
    "        np.logical_not(orders_per_visitor_B['visitor_id'].isin(abnormal_visitors))\n",
    "    ]['orders'],\n",
    "    pd.Series(0, index=np.arange(visitors_daily_B['visitors_per_date_B'].sum() \\\n",
    "                                 - len(orders_per_visitor_B['orders'])),\n",
    "              name='orders')\n",
    "], axis=0\n",
    ")"
   ]
  },
  {
   "cell_type": "code",
   "execution_count": 36,
   "metadata": {
    "scrolled": true
   },
   "outputs": [
    {
     "name": "stdout",
     "output_type": "stream",
     "text": [
      "P-value = 0.013\n",
      "По сырым данным различия в среднем числе заказов в группах A и B оказались статистически значимыми.\n",
      "\n",
      "Относительный прирост среднего числа заказов на пользователя в группе B относительно группы A составил 17.2%.\n"
     ]
    }
   ],
   "source": [
    "p_value = st.mannwhitneyu(sample_filtered_A, sample_filtered_B)[1]\n",
    "\n",
    "if p_value < 0.05:\n",
    "    print(f\"P-value = {p_value:.3f}\")\n",
    "    print('По сырым данным различия в среднем числе заказов в группах A и B оказались статистически значимыми.')\n",
    "else:\n",
    "    print(f\"P-value = {p_value:.3f}\")\n",
    "    print('По сырым данным различий в среднем числе заказов между группами A и B нет.')\n",
    "\n",
    "print()\n",
    "print(\"Относительный прирост среднего числа заказов на пользователя в группе B относительно группы A составил {0:.1f}%.\"\n",
    "      .format((sample_filtered_B.mean() / sample_filtered_A.mean() - 1) * 100))"
   ]
  },
  {
   "cell_type": "markdown",
   "metadata": {},
   "source": [
    "**Вывод:**\n",
    "\n",
    "Различия в среднем количестве заказов между группами остались статистически значимыми. По сравнению с сырыми данными вырос относительный прирост числа заказов в группе B относительно группы A, теперь он составляет 17,2%."
   ]
  },
  {
   "cell_type": "markdown",
   "metadata": {},
   "source": [
    "#### Рассчитаем статистическую значимость различий в среднем чеке заказа между группами по «очищенным» данным."
   ]
  },
  {
   "cell_type": "markdown",
   "metadata": {},
   "source": [
    "Нулевая и альтернативнаягипотезы остаются прежними:\n",
    "\n",
    "```\n",
    "H_0: Различий в среднем чеке заказа между группами нет\n",
    "H_1: Различия в среднем чеке заказа между группами есть\n",
    "alpha = 0.05\n",
    "```"
   ]
  },
  {
   "cell_type": "code",
   "execution_count": 37,
   "metadata": {},
   "outputs": [
    {
     "name": "stdout",
     "output_type": "stream",
     "text": [
      "P-value = 0.720\n",
      "По сырым данным различий в среднем чеке заказа между группами A и B нет.\n",
      "\n",
      "Относительное различие среднего чека в группе B относительно среднего чека заказа в группе A -2.3%\n"
     ]
    }
   ],
   "source": [
    "orders_filtered = orders[np.logical_not(orders['visitor_id'].isin(abnormal_visitors))]\n",
    "revenue_filtered_A = orders_filtered[orders_filtered['group'] == 'A']['revenue']\n",
    "revenue_filtered_B = orders_filtered[orders_filtered['group'] == 'B']['revenue']\n",
    "\n",
    "p_value = st.mannwhitneyu(revenue_filtered_A, revenue_filtered_B)[1]\n",
    "\n",
    "if p_value < 0.05:\n",
    "    print(f\"P-value = {p_value:.3f}\")\n",
    "    print('По сырым данным различия в среднем чеке заказа в группах A и B оказались статистически значимыми.')\n",
    "else:\n",
    "    print(f\"P-value = {p_value:.3f}\")\n",
    "    print('По сырым данным различий в среднем чеке заказа между группами A и B нет.')\n",
    "    \n",
    "print()\n",
    "print(\"Относительное различие среднего чека в группе B относительно среднего чека заказа в группе A {:.1f}%\"\n",
    "     .format((revenue_filtered_B.mean()/revenue_filtered_A.mean()-1)*100))"
   ]
  },
  {
   "cell_type": "markdown",
   "metadata": {},
   "source": [
    "**Вывод:**\n",
    "\n",
    "Результаты по среднему чеку не изменились, различий между группами нет. Однако теперь практически нет разницы в относительном значении среднего чека, в группе A он выше всего на 2%."
   ]
  },
  {
   "cell_type": "markdown",
   "metadata": {},
   "source": [
    "### Общий вывод\n",
    "\n",
    "**1 Часть.**\n",
    "\n",
    "* При применении фреймворка ICE наиболее перспективной оказалась гипотеза:`Запустить акцию, дающую скидку на товар в день рождения` (8 гипотеза). В тройку также вошли гипотезы: `Добавить два новых канала привлечения трафика, что позволит привлекать на 30% больше пользователей` (0 гипотеза) и `Добавить форму подписки на все основные страницы, чтобы собрать базу клиентов для email-рассылок` (7 гипотеза).\n",
    "* При применении фреймворка RICE на первом месте с большим отрывом оказалась гипотеза: `Добавить форму подписки на все основные страницы, чтобы собрать базу клиентов для email-рассылок` (7 гипотеза), которая по показателю ICE была на 3-ем месте. На перестановку в приоритизации гипотез повлиял показатель reach, который в 7 гипотезе имеет максимальную оценку, то есть применение данных изменений охватит всех возможных пользователей, в 8 гипотезе, напротив, охват минимальный.\n",
    "\n",
    "**2 Часть.**\n",
    "\n",
    "* Различия в среднем количестве заказов между группами статистически значимы как по «сырым», так и по данным после фильтрации аномалий. При этом относительный прирост числа заказов в группе B относительно группы A составляет 17,2%, то есть количество заказов увеличивается.\n",
    "* Статистически значимых различий в среднем чеке заказа для групп A и B не обнаружено как по «сырым», так и по данным после фильтрации аномалий.\n",
    "* Конверсия в группе B стабильно выше, чем в группе A, что демонстрирует график относительного прироста конверсии группы B относительно группы A.\n",
    "\n",
    "Исходя из имеющихся фактов тест можно остановить и признать победу группы B."
   ]
  },
  {
   "cell_type": "code",
   "execution_count": null,
   "metadata": {},
   "outputs": [],
   "source": []
  }
 ],
 "metadata": {
  "ExecuteTimeLog": [
   {
    "duration": 1265,
    "start_time": "2022-10-10T12:46:26.017Z"
   },
   {
    "duration": 85,
    "start_time": "2022-10-10T12:47:28.865Z"
   },
   {
    "duration": 170,
    "start_time": "2022-10-10T12:48:19.385Z"
   },
   {
    "duration": 29,
    "start_time": "2022-10-10T12:51:15.632Z"
   },
   {
    "duration": 9,
    "start_time": "2022-10-10T12:52:01.789Z"
   },
   {
    "duration": 5,
    "start_time": "2022-10-10T13:02:18.578Z"
   },
   {
    "duration": 15,
    "start_time": "2022-10-10T13:07:24.049Z"
   },
   {
    "duration": 25,
    "start_time": "2022-10-10T13:07:38.208Z"
   },
   {
    "duration": 1233,
    "start_time": "2022-10-10T13:09:07.320Z"
   },
   {
    "duration": 30,
    "start_time": "2022-10-10T13:09:10.860Z"
   },
   {
    "duration": 412,
    "start_time": "2022-10-10T13:09:24.881Z"
   },
   {
    "duration": 12,
    "start_time": "2022-10-10T13:09:32.533Z"
   },
   {
    "duration": 436,
    "start_time": "2022-10-10T13:09:37.348Z"
   },
   {
    "duration": 3,
    "start_time": "2022-10-10T13:09:50.715Z"
   },
   {
    "duration": 98,
    "start_time": "2022-10-10T13:09:50.720Z"
   },
   {
    "duration": 22,
    "start_time": "2022-10-10T13:09:50.821Z"
   },
   {
    "duration": 39,
    "start_time": "2022-10-10T13:09:50.845Z"
   },
   {
    "duration": 6,
    "start_time": "2022-10-10T13:09:50.886Z"
   },
   {
    "duration": 24,
    "start_time": "2022-10-10T13:09:50.894Z"
   },
   {
    "duration": 371,
    "start_time": "2022-10-10T13:10:00.556Z"
   },
   {
    "duration": 3,
    "start_time": "2022-10-10T13:11:51.225Z"
   },
   {
    "duration": 91,
    "start_time": "2022-10-10T13:11:51.230Z"
   },
   {
    "duration": 20,
    "start_time": "2022-10-10T13:11:51.323Z"
   },
   {
    "duration": 34,
    "start_time": "2022-10-10T13:11:51.346Z"
   },
   {
    "duration": 5,
    "start_time": "2022-10-10T13:11:51.382Z"
   },
   {
    "duration": 13,
    "start_time": "2022-10-10T13:12:02.748Z"
   },
   {
    "duration": 26,
    "start_time": "2022-10-10T13:12:11.124Z"
   },
   {
    "duration": 20,
    "start_time": "2022-10-10T13:12:16.827Z"
   },
   {
    "duration": 346,
    "start_time": "2022-10-10T13:13:07.656Z"
   },
   {
    "duration": 3,
    "start_time": "2022-10-10T13:13:19.522Z"
   },
   {
    "duration": 108,
    "start_time": "2022-10-10T13:13:19.527Z"
   },
   {
    "duration": 22,
    "start_time": "2022-10-10T13:13:19.638Z"
   },
   {
    "duration": 35,
    "start_time": "2022-10-10T13:13:19.662Z"
   },
   {
    "duration": 6,
    "start_time": "2022-10-10T13:13:19.700Z"
   },
   {
    "duration": 18,
    "start_time": "2022-10-10T13:13:19.709Z"
   },
   {
    "duration": 27,
    "start_time": "2022-10-10T13:13:33.869Z"
   },
   {
    "duration": 4,
    "start_time": "2022-10-10T13:14:34.299Z"
   },
   {
    "duration": 13,
    "start_time": "2022-10-10T13:25:09.976Z"
   },
   {
    "duration": 4,
    "start_time": "2022-10-10T13:30:02.839Z"
   },
   {
    "duration": 22,
    "start_time": "2022-10-10T13:30:06.676Z"
   },
   {
    "duration": 6,
    "start_time": "2022-10-10T13:30:28.399Z"
   },
   {
    "duration": 4,
    "start_time": "2022-10-10T13:30:53.516Z"
   },
   {
    "duration": 5,
    "start_time": "2022-10-10T13:33:14.980Z"
   },
   {
    "duration": 4,
    "start_time": "2022-10-10T13:33:34.217Z"
   },
   {
    "duration": 14,
    "start_time": "2022-10-10T13:36:18.184Z"
   },
   {
    "duration": 18,
    "start_time": "2022-10-10T13:36:25.972Z"
   },
   {
    "duration": 4,
    "start_time": "2022-10-10T13:38:58.469Z"
   },
   {
    "duration": 14,
    "start_time": "2022-10-10T13:55:20.989Z"
   },
   {
    "duration": 6,
    "start_time": "2022-10-10T13:56:04.862Z"
   },
   {
    "duration": 1106,
    "start_time": "2022-10-10T14:42:36.480Z"
   },
   {
    "duration": 8,
    "start_time": "2022-10-10T14:42:51.891Z"
   },
   {
    "duration": 1104,
    "start_time": "2022-10-10T14:42:52.273Z"
   },
   {
    "duration": 14,
    "start_time": "2022-10-10T14:43:55.661Z"
   },
   {
    "duration": 11,
    "start_time": "2022-10-10T14:44:08.068Z"
   },
   {
    "duration": 190,
    "start_time": "2022-10-10T14:45:47.235Z"
   },
   {
    "duration": 210,
    "start_time": "2022-10-10T14:45:54.394Z"
   },
   {
    "duration": 176,
    "start_time": "2022-10-10T14:48:47.489Z"
   },
   {
    "duration": 169,
    "start_time": "2022-10-10T14:49:46.562Z"
   },
   {
    "duration": 277,
    "start_time": "2022-10-10T14:54:13.164Z"
   },
   {
    "duration": 268,
    "start_time": "2022-10-10T15:01:42.501Z"
   },
   {
    "duration": 10,
    "start_time": "2022-10-10T15:01:49.564Z"
   },
   {
    "duration": 12,
    "start_time": "2022-10-10T15:01:58.378Z"
   },
   {
    "duration": 12,
    "start_time": "2022-10-10T15:04:14.150Z"
   },
   {
    "duration": 7,
    "start_time": "2022-10-10T15:04:20.050Z"
   },
   {
    "duration": 6,
    "start_time": "2022-10-10T16:26:27.955Z"
   },
   {
    "duration": 328,
    "start_time": "2022-10-10T16:30:27.238Z"
   },
   {
    "duration": 191,
    "start_time": "2022-10-10T16:30:30.466Z"
   },
   {
    "duration": 12,
    "start_time": "2022-10-10T16:30:49.886Z"
   },
   {
    "duration": 243,
    "start_time": "2022-10-10T16:31:10.674Z"
   },
   {
    "duration": 221,
    "start_time": "2022-10-10T16:31:17.025Z"
   },
   {
    "duration": 207,
    "start_time": "2022-10-10T16:31:35.643Z"
   },
   {
    "duration": 229,
    "start_time": "2022-10-10T16:32:27.677Z"
   },
   {
    "duration": 205,
    "start_time": "2022-10-10T16:32:33.397Z"
   },
   {
    "duration": 287,
    "start_time": "2022-10-10T16:41:57.331Z"
   },
   {
    "duration": 18,
    "start_time": "2022-10-10T17:08:07.135Z"
   },
   {
    "duration": 175,
    "start_time": "2022-10-10T17:08:58.453Z"
   },
   {
    "duration": 19,
    "start_time": "2022-10-10T17:13:59.397Z"
   },
   {
    "duration": 9,
    "start_time": "2022-10-10T17:14:04.272Z"
   },
   {
    "duration": 210,
    "start_time": "2022-10-10T17:14:04.651Z"
   },
   {
    "duration": 197,
    "start_time": "2022-10-10T17:14:32.801Z"
   },
   {
    "duration": 199,
    "start_time": "2022-10-10T17:15:39.528Z"
   },
   {
    "duration": 361,
    "start_time": "2022-10-10T17:16:28.483Z"
   },
   {
    "duration": 339,
    "start_time": "2022-10-10T17:16:39.389Z"
   },
   {
    "duration": 354,
    "start_time": "2022-10-10T17:16:47.170Z"
   },
   {
    "duration": 6,
    "start_time": "2022-10-10T17:33:10.339Z"
   },
   {
    "duration": 192,
    "start_time": "2022-10-10T17:37:29.771Z"
   },
   {
    "duration": 1145,
    "start_time": "2022-10-11T08:02:17.664Z"
   },
   {
    "duration": 178,
    "start_time": "2022-10-11T08:02:18.811Z"
   },
   {
    "duration": 20,
    "start_time": "2022-10-11T08:02:18.990Z"
   },
   {
    "duration": 22,
    "start_time": "2022-10-11T08:02:19.012Z"
   },
   {
    "duration": 4,
    "start_time": "2022-10-11T08:02:19.036Z"
   },
   {
    "duration": 16,
    "start_time": "2022-10-11T08:02:19.042Z"
   },
   {
    "duration": 15,
    "start_time": "2022-10-11T08:02:19.060Z"
   },
   {
    "duration": 11,
    "start_time": "2022-10-11T08:02:19.076Z"
   },
   {
    "duration": 7,
    "start_time": "2022-10-11T08:02:19.088Z"
   },
   {
    "duration": 287,
    "start_time": "2022-10-11T08:02:19.096Z"
   },
   {
    "duration": 4,
    "start_time": "2022-10-11T08:02:19.384Z"
   },
   {
    "duration": 248,
    "start_time": "2022-10-11T08:02:19.389Z"
   },
   {
    "duration": 166,
    "start_time": "2022-10-11T08:02:19.639Z"
   },
   {
    "duration": 15,
    "start_time": "2022-10-11T08:02:19.807Z"
   },
   {
    "duration": 330,
    "start_time": "2022-10-11T08:02:19.823Z"
   },
   {
    "duration": 8,
    "start_time": "2022-10-11T08:02:20.155Z"
   },
   {
    "duration": 234,
    "start_time": "2022-10-11T08:02:47.269Z"
   },
   {
    "duration": 352,
    "start_time": "2022-10-11T08:04:25.286Z"
   },
   {
    "duration": 257,
    "start_time": "2022-10-11T08:07:09.286Z"
   },
   {
    "duration": 263,
    "start_time": "2022-10-11T08:08:47.777Z"
   },
   {
    "duration": 2,
    "start_time": "2022-10-11T08:09:52.745Z"
   },
   {
    "duration": 74,
    "start_time": "2022-10-11T08:09:52.749Z"
   },
   {
    "duration": 15,
    "start_time": "2022-10-11T08:09:52.825Z"
   },
   {
    "duration": 21,
    "start_time": "2022-10-11T08:09:52.841Z"
   },
   {
    "duration": 8,
    "start_time": "2022-10-11T08:09:52.863Z"
   },
   {
    "duration": 6,
    "start_time": "2022-10-11T08:10:14.071Z"
   },
   {
    "duration": 4,
    "start_time": "2022-10-11T08:10:22.868Z"
   },
   {
    "duration": 23,
    "start_time": "2022-10-11T08:10:41.715Z"
   },
   {
    "duration": 3,
    "start_time": "2022-10-11T08:11:33.187Z"
   },
   {
    "duration": 74,
    "start_time": "2022-10-11T08:11:33.192Z"
   },
   {
    "duration": 15,
    "start_time": "2022-10-11T08:11:33.268Z"
   },
   {
    "duration": 21,
    "start_time": "2022-10-11T08:11:33.285Z"
   },
   {
    "duration": 9,
    "start_time": "2022-10-11T08:11:33.307Z"
   },
   {
    "duration": 10,
    "start_time": "2022-10-11T08:11:33.317Z"
   },
   {
    "duration": 9,
    "start_time": "2022-10-11T08:11:33.328Z"
   },
   {
    "duration": 18,
    "start_time": "2022-10-11T08:11:33.338Z"
   },
   {
    "duration": 24,
    "start_time": "2022-10-11T08:11:33.358Z"
   },
   {
    "duration": 7,
    "start_time": "2022-10-11T08:11:33.384Z"
   },
   {
    "duration": 245,
    "start_time": "2022-10-11T08:11:33.393Z"
   },
   {
    "duration": 5,
    "start_time": "2022-10-11T08:11:33.640Z"
   },
   {
    "duration": 198,
    "start_time": "2022-10-11T08:11:33.647Z"
   },
   {
    "duration": 241,
    "start_time": "2022-10-11T08:11:33.847Z"
   },
   {
    "duration": 6,
    "start_time": "2022-10-11T08:11:34.090Z"
   },
   {
    "duration": 295,
    "start_time": "2022-10-11T08:11:34.097Z"
   },
   {
    "duration": 5,
    "start_time": "2022-10-11T08:11:34.393Z"
   },
   {
    "duration": 305,
    "start_time": "2022-10-11T08:11:34.399Z"
   },
   {
    "duration": 230,
    "start_time": "2022-10-11T08:14:09.674Z"
   },
   {
    "duration": 309,
    "start_time": "2022-10-11T08:14:27.792Z"
   },
   {
    "duration": 261,
    "start_time": "2022-10-11T08:14:36.361Z"
   },
   {
    "duration": 276,
    "start_time": "2022-10-11T08:16:37.286Z"
   },
   {
    "duration": 286,
    "start_time": "2022-10-11T08:19:12.986Z"
   },
   {
    "duration": 5,
    "start_time": "2022-10-11T08:19:50.596Z"
   },
   {
    "duration": 5,
    "start_time": "2022-10-11T08:21:28.708Z"
   },
   {
    "duration": 5,
    "start_time": "2022-10-11T08:21:47.752Z"
   },
   {
    "duration": 261,
    "start_time": "2022-10-11T08:21:50.354Z"
   },
   {
    "duration": 9,
    "start_time": "2022-10-11T08:22:26.517Z"
   },
   {
    "duration": 260,
    "start_time": "2022-10-11T08:22:34.880Z"
   },
   {
    "duration": 293,
    "start_time": "2022-10-11T08:22:51.405Z"
   },
   {
    "duration": 343,
    "start_time": "2022-10-11T08:23:04.286Z"
   },
   {
    "duration": 287,
    "start_time": "2022-10-11T08:24:57.020Z"
   },
   {
    "duration": 171,
    "start_time": "2022-10-11T08:25:08.923Z"
   },
   {
    "duration": 72,
    "start_time": "2022-10-11T08:34:56.392Z"
   },
   {
    "duration": 8,
    "start_time": "2022-10-11T08:35:02.598Z"
   },
   {
    "duration": 84,
    "start_time": "2022-10-11T08:38:01.264Z"
   },
   {
    "duration": 233,
    "start_time": "2022-10-11T08:38:10.374Z"
   },
   {
    "duration": 249,
    "start_time": "2022-10-11T08:38:22.750Z"
   },
   {
    "duration": 152,
    "start_time": "2022-10-11T08:51:41.295Z"
   },
   {
    "duration": 173,
    "start_time": "2022-10-11T08:52:17.950Z"
   },
   {
    "duration": 235,
    "start_time": "2022-10-11T08:54:44.453Z"
   },
   {
    "duration": 268,
    "start_time": "2022-10-11T08:54:47.727Z"
   },
   {
    "duration": 294,
    "start_time": "2022-10-11T08:57:38.537Z"
   },
   {
    "duration": 255,
    "start_time": "2022-10-11T08:57:51.951Z"
   },
   {
    "duration": 331,
    "start_time": "2022-10-11T09:00:01.182Z"
   },
   {
    "duration": 272,
    "start_time": "2022-10-11T09:00:08.206Z"
   },
   {
    "duration": 207,
    "start_time": "2022-10-11T09:00:31.580Z"
   },
   {
    "duration": 234,
    "start_time": "2022-10-11T09:00:43.363Z"
   },
   {
    "duration": 12,
    "start_time": "2022-10-11T09:07:45.464Z"
   },
   {
    "duration": 7,
    "start_time": "2022-10-11T09:07:54.677Z"
   },
   {
    "duration": 10,
    "start_time": "2022-10-11T09:08:24.607Z"
   },
   {
    "duration": 5,
    "start_time": "2022-10-11T09:09:08.400Z"
   },
   {
    "duration": 5,
    "start_time": "2022-10-11T09:09:56.321Z"
   },
   {
    "duration": 101,
    "start_time": "2022-10-11T09:10:00.165Z"
   },
   {
    "duration": 99,
    "start_time": "2022-10-11T09:10:13.358Z"
   },
   {
    "duration": 101,
    "start_time": "2022-10-11T09:10:23.777Z"
   },
   {
    "duration": 119,
    "start_time": "2022-10-11T09:10:36.657Z"
   },
   {
    "duration": 119,
    "start_time": "2022-10-11T09:10:41.025Z"
   },
   {
    "duration": 10,
    "start_time": "2022-10-11T09:13:12.727Z"
   },
   {
    "duration": 123,
    "start_time": "2022-10-11T09:14:51.021Z"
   },
   {
    "duration": 120,
    "start_time": "2022-10-11T09:15:32.420Z"
   },
   {
    "duration": 103,
    "start_time": "2022-10-11T11:02:01.561Z"
   },
   {
    "duration": 53,
    "start_time": "2022-10-11T11:02:14.460Z"
   },
   {
    "duration": 1254,
    "start_time": "2022-10-11T11:02:22.675Z"
   },
   {
    "duration": 179,
    "start_time": "2022-10-11T11:02:23.931Z"
   },
   {
    "duration": 21,
    "start_time": "2022-10-11T11:02:24.111Z"
   },
   {
    "duration": 22,
    "start_time": "2022-10-11T11:02:24.134Z"
   },
   {
    "duration": 10,
    "start_time": "2022-10-11T11:02:24.158Z"
   },
   {
    "duration": 7,
    "start_time": "2022-10-11T11:02:24.169Z"
   },
   {
    "duration": 7,
    "start_time": "2022-10-11T11:02:24.178Z"
   },
   {
    "duration": 11,
    "start_time": "2022-10-11T11:02:24.209Z"
   },
   {
    "duration": 12,
    "start_time": "2022-10-11T11:02:24.222Z"
   },
   {
    "duration": 7,
    "start_time": "2022-10-11T11:02:24.236Z"
   },
   {
    "duration": 350,
    "start_time": "2022-10-11T11:02:24.245Z"
   },
   {
    "duration": 12,
    "start_time": "2022-10-11T11:02:24.597Z"
   },
   {
    "duration": 300,
    "start_time": "2022-10-11T11:02:24.612Z"
   },
   {
    "duration": 231,
    "start_time": "2022-10-11T11:02:24.915Z"
   },
   {
    "duration": 6,
    "start_time": "2022-10-11T11:02:25.148Z"
   },
   {
    "duration": 333,
    "start_time": "2022-10-11T11:02:25.156Z"
   },
   {
    "duration": 5,
    "start_time": "2022-10-11T11:02:25.490Z"
   },
   {
    "duration": 182,
    "start_time": "2022-10-11T11:02:25.497Z"
   },
   {
    "duration": 7,
    "start_time": "2022-10-11T11:02:25.680Z"
   },
   {
    "duration": 295,
    "start_time": "2022-10-11T11:02:25.688Z"
   },
   {
    "duration": 27,
    "start_time": "2022-10-11T11:02:25.985Z"
   },
   {
    "duration": 65,
    "start_time": "2022-10-11T11:02:26.014Z"
   },
   {
    "duration": 0,
    "start_time": "2022-10-11T11:02:26.081Z"
   },
   {
    "duration": 125,
    "start_time": "2022-10-11T11:02:39.440Z"
   },
   {
    "duration": 9,
    "start_time": "2022-10-11T11:02:42.968Z"
   },
   {
    "duration": 182,
    "start_time": "2022-10-11T11:02:49.470Z"
   },
   {
    "duration": 3,
    "start_time": "2022-10-11T11:03:05.587Z"
   },
   {
    "duration": 4,
    "start_time": "2022-10-11T11:03:33.798Z"
   },
   {
    "duration": 8,
    "start_time": "2022-10-11T11:55:07.724Z"
   },
   {
    "duration": 9,
    "start_time": "2022-10-11T11:55:22.503Z"
   },
   {
    "duration": 120,
    "start_time": "2022-10-11T11:55:27.597Z"
   },
   {
    "duration": 127,
    "start_time": "2022-10-11T11:55:42.851Z"
   },
   {
    "duration": 208,
    "start_time": "2022-10-11T11:56:25.574Z"
   },
   {
    "duration": 4,
    "start_time": "2022-10-11T12:06:19.659Z"
   },
   {
    "duration": 14,
    "start_time": "2022-10-11T12:37:38.574Z"
   },
   {
    "duration": 11,
    "start_time": "2022-10-11T12:38:08.566Z"
   },
   {
    "duration": 5,
    "start_time": "2022-10-11T12:38:35.513Z"
   },
   {
    "duration": 6,
    "start_time": "2022-10-11T12:42:39.344Z"
   },
   {
    "duration": 5,
    "start_time": "2022-10-11T12:42:44.962Z"
   },
   {
    "duration": 74,
    "start_time": "2022-10-11T13:09:51.953Z"
   },
   {
    "duration": 14,
    "start_time": "2022-10-11T13:09:59.362Z"
   },
   {
    "duration": 12,
    "start_time": "2022-10-11T13:10:09.811Z"
   },
   {
    "duration": 11,
    "start_time": "2022-10-11T13:12:07.284Z"
   },
   {
    "duration": 9,
    "start_time": "2022-10-11T13:12:13.494Z"
   },
   {
    "duration": 10,
    "start_time": "2022-10-11T13:20:37.716Z"
   },
   {
    "duration": 11,
    "start_time": "2022-10-11T13:20:45.213Z"
   },
   {
    "duration": 8,
    "start_time": "2022-10-11T13:20:45.483Z"
   },
   {
    "duration": 7,
    "start_time": "2022-10-11T13:20:48.143Z"
   },
   {
    "duration": 10,
    "start_time": "2022-10-11T13:20:48.375Z"
   },
   {
    "duration": 8,
    "start_time": "2022-10-11T13:20:48.693Z"
   },
   {
    "duration": 3,
    "start_time": "2022-10-11T13:20:55.698Z"
   },
   {
    "duration": 81,
    "start_time": "2022-10-11T13:20:55.703Z"
   },
   {
    "duration": 16,
    "start_time": "2022-10-11T13:20:55.786Z"
   },
   {
    "duration": 21,
    "start_time": "2022-10-11T13:20:55.804Z"
   },
   {
    "duration": 4,
    "start_time": "2022-10-11T13:20:55.827Z"
   },
   {
    "duration": 33,
    "start_time": "2022-10-11T13:20:55.833Z"
   },
   {
    "duration": 14,
    "start_time": "2022-10-11T13:20:55.868Z"
   },
   {
    "duration": 27,
    "start_time": "2022-10-11T13:20:55.884Z"
   },
   {
    "duration": 29,
    "start_time": "2022-10-11T13:20:55.912Z"
   },
   {
    "duration": 12,
    "start_time": "2022-10-11T13:20:55.942Z"
   },
   {
    "duration": 261,
    "start_time": "2022-10-11T13:20:55.957Z"
   },
   {
    "duration": 4,
    "start_time": "2022-10-11T13:20:56.220Z"
   },
   {
    "duration": 195,
    "start_time": "2022-10-11T13:20:56.226Z"
   },
   {
    "duration": 199,
    "start_time": "2022-10-11T13:20:56.422Z"
   },
   {
    "duration": 6,
    "start_time": "2022-10-11T13:20:56.623Z"
   },
   {
    "duration": 284,
    "start_time": "2022-10-11T13:20:56.630Z"
   },
   {
    "duration": 6,
    "start_time": "2022-10-11T13:20:56.916Z"
   },
   {
    "duration": 185,
    "start_time": "2022-10-11T13:20:56.924Z"
   },
   {
    "duration": 7,
    "start_time": "2022-10-11T13:20:57.111Z"
   },
   {
    "duration": 268,
    "start_time": "2022-10-11T13:20:57.120Z"
   },
   {
    "duration": 22,
    "start_time": "2022-10-11T13:20:57.390Z"
   },
   {
    "duration": 131,
    "start_time": "2022-10-11T13:20:57.414Z"
   },
   {
    "duration": 5,
    "start_time": "2022-10-11T13:20:57.546Z"
   },
   {
    "duration": 145,
    "start_time": "2022-10-11T13:20:57.553Z"
   },
   {
    "duration": 11,
    "start_time": "2022-10-11T13:20:57.700Z"
   },
   {
    "duration": 20,
    "start_time": "2022-10-11T13:20:57.713Z"
   },
   {
    "duration": 37,
    "start_time": "2022-10-11T13:20:57.735Z"
   },
   {
    "duration": 33,
    "start_time": "2022-10-11T13:20:57.774Z"
   },
   {
    "duration": 9,
    "start_time": "2022-10-11T13:21:14.812Z"
   },
   {
    "duration": 8,
    "start_time": "2022-10-11T13:21:27.756Z"
   },
   {
    "duration": 7,
    "start_time": "2022-10-11T13:21:36.963Z"
   },
   {
    "duration": 6,
    "start_time": "2022-10-11T13:22:06.048Z"
   },
   {
    "duration": 6,
    "start_time": "2022-10-11T13:23:14.870Z"
   },
   {
    "duration": 8,
    "start_time": "2022-10-11T13:24:28.248Z"
   },
   {
    "duration": 20,
    "start_time": "2022-10-11T13:24:50.109Z"
   },
   {
    "duration": 19,
    "start_time": "2022-10-11T13:25:59.806Z"
   },
   {
    "duration": 5,
    "start_time": "2022-10-11T13:30:16.993Z"
   },
   {
    "duration": 4,
    "start_time": "2022-10-11T13:30:27.728Z"
   },
   {
    "duration": 21,
    "start_time": "2022-10-11T13:31:26.017Z"
   },
   {
    "duration": 23,
    "start_time": "2022-10-11T13:31:34.426Z"
   },
   {
    "duration": 20,
    "start_time": "2022-10-11T13:32:38.781Z"
   },
   {
    "duration": 22,
    "start_time": "2022-10-11T13:32:45.320Z"
   },
   {
    "duration": 21,
    "start_time": "2022-10-11T13:33:27.885Z"
   },
   {
    "duration": 22,
    "start_time": "2022-10-11T13:33:34.196Z"
   },
   {
    "duration": 26,
    "start_time": "2022-10-11T13:33:37.891Z"
   },
   {
    "duration": 24,
    "start_time": "2022-10-11T13:33:41.272Z"
   },
   {
    "duration": 21,
    "start_time": "2022-10-11T13:34:07.631Z"
   },
   {
    "duration": 34,
    "start_time": "2022-10-11T13:34:14.405Z"
   },
   {
    "duration": 22,
    "start_time": "2022-10-11T13:35:55.324Z"
   },
   {
    "duration": 22,
    "start_time": "2022-10-11T13:36:27.384Z"
   },
   {
    "duration": 11,
    "start_time": "2022-10-11T14:08:48.472Z"
   },
   {
    "duration": 11,
    "start_time": "2022-10-11T14:09:09.387Z"
   },
   {
    "duration": 11,
    "start_time": "2022-10-11T14:09:13.245Z"
   },
   {
    "duration": 9,
    "start_time": "2022-10-11T14:21:40.235Z"
   },
   {
    "duration": 8,
    "start_time": "2022-10-11T14:25:26.845Z"
   },
   {
    "duration": 57,
    "start_time": "2022-10-11T14:27:31.582Z"
   },
   {
    "duration": 7,
    "start_time": "2022-10-11T14:27:37.424Z"
   },
   {
    "duration": 9,
    "start_time": "2022-10-11T14:29:15.951Z"
   },
   {
    "duration": 7,
    "start_time": "2022-10-11T14:29:20.299Z"
   },
   {
    "duration": 26,
    "start_time": "2022-10-11T14:29:21.248Z"
   },
   {
    "duration": 11,
    "start_time": "2022-10-11T15:03:25.927Z"
   },
   {
    "duration": 9,
    "start_time": "2022-10-11T15:04:17.820Z"
   },
   {
    "duration": 10,
    "start_time": "2022-10-11T15:04:36.643Z"
   },
   {
    "duration": 3,
    "start_time": "2022-10-11T15:11:24.908Z"
   },
   {
    "duration": 83,
    "start_time": "2022-10-11T15:11:24.914Z"
   },
   {
    "duration": 21,
    "start_time": "2022-10-11T15:11:24.999Z"
   },
   {
    "duration": 21,
    "start_time": "2022-10-11T15:11:25.022Z"
   },
   {
    "duration": 5,
    "start_time": "2022-10-11T15:11:25.045Z"
   },
   {
    "duration": 9,
    "start_time": "2022-10-11T15:11:25.052Z"
   },
   {
    "duration": 5,
    "start_time": "2022-10-11T15:11:25.062Z"
   },
   {
    "duration": 41,
    "start_time": "2022-10-11T15:11:25.069Z"
   },
   {
    "duration": 18,
    "start_time": "2022-10-11T15:11:25.112Z"
   },
   {
    "duration": 6,
    "start_time": "2022-10-11T15:11:25.132Z"
   },
   {
    "duration": 303,
    "start_time": "2022-10-11T15:11:25.141Z"
   },
   {
    "duration": 5,
    "start_time": "2022-10-11T15:11:25.446Z"
   },
   {
    "duration": 209,
    "start_time": "2022-10-11T15:11:25.453Z"
   },
   {
    "duration": 188,
    "start_time": "2022-10-11T15:11:25.663Z"
   },
   {
    "duration": 6,
    "start_time": "2022-10-11T15:11:25.852Z"
   },
   {
    "duration": 355,
    "start_time": "2022-10-11T15:11:25.860Z"
   },
   {
    "duration": 5,
    "start_time": "2022-10-11T15:11:26.217Z"
   },
   {
    "duration": 186,
    "start_time": "2022-10-11T15:11:26.224Z"
   },
   {
    "duration": 7,
    "start_time": "2022-10-11T15:11:26.411Z"
   },
   {
    "duration": 279,
    "start_time": "2022-10-11T15:11:26.420Z"
   },
   {
    "duration": 16,
    "start_time": "2022-10-11T15:11:26.701Z"
   },
   {
    "duration": 139,
    "start_time": "2022-10-11T15:11:26.719Z"
   },
   {
    "duration": 4,
    "start_time": "2022-10-11T15:11:26.860Z"
   },
   {
    "duration": 139,
    "start_time": "2022-10-11T15:11:26.865Z"
   },
   {
    "duration": 4,
    "start_time": "2022-10-11T15:11:27.009Z"
   },
   {
    "duration": 13,
    "start_time": "2022-10-11T15:11:27.015Z"
   },
   {
    "duration": 13,
    "start_time": "2022-10-11T15:11:27.029Z"
   },
   {
    "duration": 5,
    "start_time": "2022-10-11T15:11:27.044Z"
   },
   {
    "duration": 21,
    "start_time": "2022-10-11T15:11:27.052Z"
   },
   {
    "duration": 37,
    "start_time": "2022-10-11T15:11:27.074Z"
   },
   {
    "duration": 10,
    "start_time": "2022-10-11T15:11:27.113Z"
   },
   {
    "duration": 10,
    "start_time": "2022-10-11T15:11:27.125Z"
   },
   {
    "duration": 23,
    "start_time": "2022-10-11T15:11:27.136Z"
   },
   {
    "duration": 10,
    "start_time": "2022-10-11T15:11:27.160Z"
   },
   {
    "duration": 4,
    "start_time": "2022-10-11T15:35:48.175Z"
   },
   {
    "duration": 4,
    "start_time": "2022-10-11T15:47:38.279Z"
   },
   {
    "duration": 75,
    "start_time": "2022-10-11T15:47:38.285Z"
   },
   {
    "duration": 18,
    "start_time": "2022-10-11T15:47:38.362Z"
   },
   {
    "duration": 27,
    "start_time": "2022-10-11T15:47:38.382Z"
   },
   {
    "duration": 5,
    "start_time": "2022-10-11T15:47:38.411Z"
   },
   {
    "duration": 8,
    "start_time": "2022-10-11T15:47:38.417Z"
   },
   {
    "duration": 18,
    "start_time": "2022-10-11T15:47:43.267Z"
   },
   {
    "duration": 1351,
    "start_time": "2022-10-12T11:44:35.031Z"
   },
   {
    "duration": 187,
    "start_time": "2022-10-12T11:44:36.384Z"
   },
   {
    "duration": 28,
    "start_time": "2022-10-12T11:44:36.572Z"
   },
   {
    "duration": 35,
    "start_time": "2022-10-12T11:44:36.602Z"
   },
   {
    "duration": 7,
    "start_time": "2022-10-12T11:44:36.639Z"
   },
   {
    "duration": 43,
    "start_time": "2022-10-12T11:44:36.648Z"
   },
   {
    "duration": 28,
    "start_time": "2022-10-12T11:44:36.693Z"
   },
   {
    "duration": 17,
    "start_time": "2022-10-12T11:44:36.723Z"
   },
   {
    "duration": 9,
    "start_time": "2022-10-12T11:44:36.742Z"
   },
   {
    "duration": 9,
    "start_time": "2022-10-12T11:44:36.755Z"
   },
   {
    "duration": 370,
    "start_time": "2022-10-12T11:44:36.766Z"
   },
   {
    "duration": 5,
    "start_time": "2022-10-12T11:44:37.138Z"
   },
   {
    "duration": 290,
    "start_time": "2022-10-12T11:44:37.144Z"
   },
   {
    "duration": 202,
    "start_time": "2022-10-12T11:44:37.436Z"
   },
   {
    "duration": 6,
    "start_time": "2022-10-12T11:44:37.640Z"
   },
   {
    "duration": 382,
    "start_time": "2022-10-12T11:44:37.647Z"
   },
   {
    "duration": 6,
    "start_time": "2022-10-12T11:44:38.030Z"
   },
   {
    "duration": 236,
    "start_time": "2022-10-12T11:44:38.038Z"
   },
   {
    "duration": 18,
    "start_time": "2022-10-12T11:44:38.276Z"
   },
   {
    "duration": 329,
    "start_time": "2022-10-12T11:44:38.297Z"
   },
   {
    "duration": 11,
    "start_time": "2022-10-12T11:44:38.628Z"
   },
   {
    "duration": 181,
    "start_time": "2022-10-12T11:44:38.641Z"
   },
   {
    "duration": 6,
    "start_time": "2022-10-12T11:44:38.824Z"
   },
   {
    "duration": 182,
    "start_time": "2022-10-12T11:44:38.832Z"
   },
   {
    "duration": 6,
    "start_time": "2022-10-12T11:44:39.016Z"
   },
   {
    "duration": 9,
    "start_time": "2022-10-12T11:44:39.024Z"
   },
   {
    "duration": 13,
    "start_time": "2022-10-12T11:44:39.034Z"
   },
   {
    "duration": 7,
    "start_time": "2022-10-12T11:44:39.050Z"
   },
   {
    "duration": 70,
    "start_time": "2022-10-12T11:44:39.059Z"
   },
   {
    "duration": 13,
    "start_time": "2022-10-12T11:44:39.132Z"
   },
   {
    "duration": 16,
    "start_time": "2022-10-12T11:44:39.148Z"
   },
   {
    "duration": 29,
    "start_time": "2022-10-12T11:44:39.166Z"
   },
   {
    "duration": 35,
    "start_time": "2022-10-12T11:44:39.198Z"
   },
   {
    "duration": 12,
    "start_time": "2022-10-12T11:44:39.235Z"
   },
   {
    "duration": 1169,
    "start_time": "2022-10-12T12:11:42.521Z"
   },
   {
    "duration": 74,
    "start_time": "2022-10-12T12:11:43.692Z"
   },
   {
    "duration": 23,
    "start_time": "2022-10-12T12:11:43.767Z"
   },
   {
    "duration": 30,
    "start_time": "2022-10-12T12:11:43.791Z"
   },
   {
    "duration": 4,
    "start_time": "2022-10-12T12:11:43.825Z"
   },
   {
    "duration": 8,
    "start_time": "2022-10-12T12:11:43.831Z"
   },
   {
    "duration": 16,
    "start_time": "2022-10-12T12:11:43.840Z"
   },
   {
    "duration": 12,
    "start_time": "2022-10-12T12:11:43.857Z"
   },
   {
    "duration": 8,
    "start_time": "2022-10-12T12:11:43.896Z"
   },
   {
    "duration": 13,
    "start_time": "2022-10-12T12:11:43.906Z"
   },
   {
    "duration": 321,
    "start_time": "2022-10-12T12:11:43.921Z"
   },
   {
    "duration": 5,
    "start_time": "2022-10-12T12:11:44.244Z"
   },
   {
    "duration": 308,
    "start_time": "2022-10-12T12:11:44.250Z"
   },
   {
    "duration": 213,
    "start_time": "2022-10-12T12:11:44.560Z"
   },
   {
    "duration": 6,
    "start_time": "2022-10-12T12:11:44.774Z"
   },
   {
    "duration": 341,
    "start_time": "2022-10-12T12:11:44.782Z"
   },
   {
    "duration": 6,
    "start_time": "2022-10-12T12:11:45.126Z"
   },
   {
    "duration": 219,
    "start_time": "2022-10-12T12:11:45.133Z"
   },
   {
    "duration": 7,
    "start_time": "2022-10-12T12:11:45.354Z"
   },
   {
    "duration": 343,
    "start_time": "2022-10-12T12:11:45.363Z"
   },
   {
    "duration": 15,
    "start_time": "2022-10-12T12:11:45.708Z"
   },
   {
    "duration": 163,
    "start_time": "2022-10-12T12:11:45.725Z"
   },
   {
    "duration": 6,
    "start_time": "2022-10-12T12:11:45.894Z"
   },
   {
    "duration": 167,
    "start_time": "2022-10-12T12:11:45.903Z"
   },
   {
    "duration": 5,
    "start_time": "2022-10-12T12:11:46.072Z"
   },
   {
    "duration": 22,
    "start_time": "2022-10-12T12:11:46.078Z"
   },
   {
    "duration": 21,
    "start_time": "2022-10-12T12:11:46.102Z"
   },
   {
    "duration": 8,
    "start_time": "2022-10-12T12:11:46.125Z"
   },
   {
    "duration": 32,
    "start_time": "2022-10-12T12:11:46.135Z"
   },
   {
    "duration": 32,
    "start_time": "2022-10-12T12:11:46.169Z"
   },
   {
    "duration": 13,
    "start_time": "2022-10-12T12:11:46.203Z"
   },
   {
    "duration": 13,
    "start_time": "2022-10-12T12:11:46.218Z"
   },
   {
    "duration": 23,
    "start_time": "2022-10-12T12:11:46.233Z"
   },
   {
    "duration": 12,
    "start_time": "2022-10-12T12:11:46.258Z"
   },
   {
    "duration": 51,
    "start_time": "2022-10-12T12:58:18.667Z"
   },
   {
    "duration": 1260,
    "start_time": "2022-10-12T12:58:24.938Z"
   },
   {
    "duration": 198,
    "start_time": "2022-10-12T12:58:26.200Z"
   },
   {
    "duration": 28,
    "start_time": "2022-10-12T12:58:26.401Z"
   },
   {
    "duration": 35,
    "start_time": "2022-10-12T12:58:26.431Z"
   },
   {
    "duration": 6,
    "start_time": "2022-10-12T12:58:26.469Z"
   },
   {
    "duration": 8,
    "start_time": "2022-10-12T12:58:26.477Z"
   },
   {
    "duration": 19,
    "start_time": "2022-10-12T12:58:26.486Z"
   },
   {
    "duration": 6,
    "start_time": "2022-10-12T12:58:32.653Z"
   },
   {
    "duration": 13,
    "start_time": "2022-10-12T12:58:43.397Z"
   },
   {
    "duration": 3,
    "start_time": "2022-10-12T13:33:39.895Z"
   },
   {
    "duration": 103,
    "start_time": "2022-10-12T13:33:39.901Z"
   },
   {
    "duration": 17,
    "start_time": "2022-10-12T13:33:40.006Z"
   },
   {
    "duration": 35,
    "start_time": "2022-10-12T13:33:40.024Z"
   },
   {
    "duration": 18,
    "start_time": "2022-10-12T13:33:40.062Z"
   },
   {
    "duration": 24,
    "start_time": "2022-10-12T13:33:40.082Z"
   },
   {
    "duration": 35,
    "start_time": "2022-10-12T13:33:40.108Z"
   },
   {
    "duration": 47,
    "start_time": "2022-10-12T13:33:40.145Z"
   },
   {
    "duration": 26,
    "start_time": "2022-10-12T13:33:40.194Z"
   },
   {
    "duration": 34,
    "start_time": "2022-10-12T13:33:40.222Z"
   },
   {
    "duration": 282,
    "start_time": "2022-10-12T13:33:40.259Z"
   },
   {
    "duration": 4,
    "start_time": "2022-10-12T13:33:40.543Z"
   },
   {
    "duration": 274,
    "start_time": "2022-10-12T13:33:40.548Z"
   },
   {
    "duration": 195,
    "start_time": "2022-10-12T13:33:40.824Z"
   },
   {
    "duration": 16,
    "start_time": "2022-10-12T13:33:41.021Z"
   },
   {
    "duration": 342,
    "start_time": "2022-10-12T13:33:41.039Z"
   },
   {
    "duration": 6,
    "start_time": "2022-10-12T13:33:41.383Z"
   },
   {
    "duration": 196,
    "start_time": "2022-10-12T13:33:41.391Z"
   },
   {
    "duration": 7,
    "start_time": "2022-10-12T13:33:41.589Z"
   },
   {
    "duration": 296,
    "start_time": "2022-10-12T13:33:41.597Z"
   },
   {
    "duration": 11,
    "start_time": "2022-10-12T13:33:41.895Z"
   },
   {
    "duration": 145,
    "start_time": "2022-10-12T13:33:41.907Z"
   },
   {
    "duration": 6,
    "start_time": "2022-10-12T13:33:42.054Z"
   },
   {
    "duration": 173,
    "start_time": "2022-10-12T13:33:43.955Z"
   },
   {
    "duration": 135,
    "start_time": "2022-10-12T13:35:43.223Z"
   },
   {
    "duration": 211,
    "start_time": "2022-10-12T13:36:00.532Z"
   },
   {
    "duration": 150,
    "start_time": "2022-10-12T13:36:09.433Z"
   },
   {
    "duration": 8,
    "start_time": "2022-10-12T14:44:02.645Z"
   },
   {
    "duration": 4,
    "start_time": "2022-10-12T15:43:03.685Z"
   },
   {
    "duration": 13,
    "start_time": "2022-10-12T15:43:29.317Z"
   },
   {
    "duration": 7,
    "start_time": "2022-10-12T15:46:32.760Z"
   },
   {
    "duration": 9,
    "start_time": "2022-10-12T15:47:26.896Z"
   },
   {
    "duration": 15,
    "start_time": "2022-10-12T15:49:52.751Z"
   },
   {
    "duration": 8,
    "start_time": "2022-10-12T15:50:27.278Z"
   },
   {
    "duration": 10,
    "start_time": "2022-10-12T15:50:40.153Z"
   },
   {
    "duration": 8,
    "start_time": "2022-10-12T15:50:55.022Z"
   },
   {
    "duration": 5,
    "start_time": "2022-10-12T15:51:11.830Z"
   },
   {
    "duration": 8,
    "start_time": "2022-10-12T15:51:39.945Z"
   },
   {
    "duration": 23,
    "start_time": "2022-10-12T15:51:55.327Z"
   },
   {
    "duration": 10,
    "start_time": "2022-10-12T15:52:09.699Z"
   },
   {
    "duration": 9,
    "start_time": "2022-10-12T15:52:41.215Z"
   },
   {
    "duration": 56,
    "start_time": "2022-10-13T08:11:30.558Z"
   },
   {
    "duration": 1392,
    "start_time": "2022-10-13T08:11:35.896Z"
   },
   {
    "duration": 246,
    "start_time": "2022-10-13T08:11:37.291Z"
   },
   {
    "duration": 26,
    "start_time": "2022-10-13T08:11:37.539Z"
   },
   {
    "duration": 28,
    "start_time": "2022-10-13T08:11:37.567Z"
   },
   {
    "duration": 11,
    "start_time": "2022-10-13T08:11:37.597Z"
   },
   {
    "duration": 32,
    "start_time": "2022-10-13T08:11:37.610Z"
   },
   {
    "duration": 42,
    "start_time": "2022-10-13T08:11:37.644Z"
   },
   {
    "duration": 31,
    "start_time": "2022-10-13T08:11:37.688Z"
   },
   {
    "duration": 24,
    "start_time": "2022-10-13T08:11:37.721Z"
   },
   {
    "duration": 21,
    "start_time": "2022-10-13T08:11:37.747Z"
   },
   {
    "duration": 22,
    "start_time": "2022-10-13T08:11:37.770Z"
   },
   {
    "duration": 28,
    "start_time": "2022-10-13T08:11:37.793Z"
   },
   {
    "duration": 40,
    "start_time": "2022-10-13T08:11:37.822Z"
   },
   {
    "duration": 38,
    "start_time": "2022-10-13T08:11:37.863Z"
   },
   {
    "duration": 310,
    "start_time": "2022-10-13T08:11:37.903Z"
   },
   {
    "duration": 5,
    "start_time": "2022-10-13T08:11:38.214Z"
   },
   {
    "duration": 331,
    "start_time": "2022-10-13T08:11:38.221Z"
   },
   {
    "duration": 221,
    "start_time": "2022-10-13T08:11:38.554Z"
   },
   {
    "duration": 11,
    "start_time": "2022-10-13T08:11:38.778Z"
   },
   {
    "duration": 367,
    "start_time": "2022-10-13T08:11:38.791Z"
   },
   {
    "duration": 5,
    "start_time": "2022-10-13T08:11:39.160Z"
   },
   {
    "duration": 251,
    "start_time": "2022-10-13T08:11:39.167Z"
   },
   {
    "duration": 9,
    "start_time": "2022-10-13T08:11:39.420Z"
   },
   {
    "duration": 285,
    "start_time": "2022-10-13T08:11:39.431Z"
   },
   {
    "duration": 16,
    "start_time": "2022-10-13T08:11:39.718Z"
   },
   {
    "duration": 170,
    "start_time": "2022-10-13T08:11:39.736Z"
   },
   {
    "duration": 5,
    "start_time": "2022-10-13T08:11:39.908Z"
   },
   {
    "duration": 183,
    "start_time": "2022-10-13T08:11:39.916Z"
   },
   {
    "duration": 5,
    "start_time": "2022-10-13T08:11:40.101Z"
   },
   {
    "duration": 13,
    "start_time": "2022-10-13T08:11:40.108Z"
   },
   {
    "duration": 27,
    "start_time": "2022-10-13T08:11:40.123Z"
   },
   {
    "duration": 8,
    "start_time": "2022-10-13T08:11:40.152Z"
   },
   {
    "duration": 44,
    "start_time": "2022-10-13T08:11:40.162Z"
   },
   {
    "duration": 102,
    "start_time": "2022-10-13T08:11:40.208Z"
   },
   {
    "duration": 10,
    "start_time": "2022-10-13T08:11:40.313Z"
   },
   {
    "duration": 14,
    "start_time": "2022-10-13T08:11:40.325Z"
   },
   {
    "duration": 28,
    "start_time": "2022-10-13T08:11:40.340Z"
   },
   {
    "duration": 12,
    "start_time": "2022-10-13T08:11:40.390Z"
   },
   {
    "duration": 9,
    "start_time": "2022-10-13T08:14:03.598Z"
   },
   {
    "duration": 14,
    "start_time": "2022-10-13T08:22:13.135Z"
   },
   {
    "duration": 13,
    "start_time": "2022-10-13T08:22:22.489Z"
   },
   {
    "duration": 16,
    "start_time": "2022-10-13T08:22:34.357Z"
   },
   {
    "duration": 13,
    "start_time": "2022-10-13T08:22:50.428Z"
   },
   {
    "duration": 13,
    "start_time": "2022-10-13T08:23:05.509Z"
   },
   {
    "duration": 15,
    "start_time": "2022-10-13T08:23:11.637Z"
   },
   {
    "duration": 14,
    "start_time": "2022-10-13T08:23:39.932Z"
   },
   {
    "duration": 13,
    "start_time": "2022-10-13T08:23:45.031Z"
   },
   {
    "duration": 14,
    "start_time": "2022-10-13T08:23:58.159Z"
   },
   {
    "duration": 205,
    "start_time": "2022-10-13T08:31:21.532Z"
   },
   {
    "duration": 204,
    "start_time": "2022-10-13T08:31:33.669Z"
   },
   {
    "duration": 209,
    "start_time": "2022-10-13T08:32:03.089Z"
   },
   {
    "duration": 217,
    "start_time": "2022-10-13T08:34:47.331Z"
   },
   {
    "duration": 154,
    "start_time": "2022-10-13T08:37:04.097Z"
   },
   {
    "duration": 163,
    "start_time": "2022-10-13T08:38:41.453Z"
   },
   {
    "duration": 158,
    "start_time": "2022-10-13T08:39:28.308Z"
   },
   {
    "duration": 161,
    "start_time": "2022-10-13T08:39:34.229Z"
   },
   {
    "duration": 213,
    "start_time": "2022-10-13T08:39:43.411Z"
   },
   {
    "duration": 164,
    "start_time": "2022-10-13T08:40:09.856Z"
   },
   {
    "duration": 4,
    "start_time": "2022-10-13T08:40:38.051Z"
   },
   {
    "duration": 183,
    "start_time": "2022-10-13T08:40:52.010Z"
   },
   {
    "duration": 242,
    "start_time": "2022-10-13T08:54:08.255Z"
   },
   {
    "duration": 3,
    "start_time": "2022-10-13T09:11:30.216Z"
   },
   {
    "duration": 96,
    "start_time": "2022-10-13T09:11:30.221Z"
   },
   {
    "duration": 20,
    "start_time": "2022-10-13T09:11:30.320Z"
   },
   {
    "duration": 38,
    "start_time": "2022-10-13T09:11:30.342Z"
   },
   {
    "duration": 35,
    "start_time": "2022-10-13T09:11:30.382Z"
   },
   {
    "duration": 31,
    "start_time": "2022-10-13T09:11:30.419Z"
   },
   {
    "duration": 39,
    "start_time": "2022-10-13T09:11:30.452Z"
   },
   {
    "duration": 34,
    "start_time": "2022-10-13T09:11:30.493Z"
   },
   {
    "duration": 31,
    "start_time": "2022-10-13T09:11:30.529Z"
   },
   {
    "duration": 50,
    "start_time": "2022-10-13T09:11:30.562Z"
   },
   {
    "duration": 14,
    "start_time": "2022-10-13T09:11:30.699Z"
   },
   {
    "duration": 335,
    "start_time": "2022-10-13T09:11:30.714Z"
   },
   {
    "duration": 5,
    "start_time": "2022-10-13T09:11:31.051Z"
   },
   {
    "duration": 227,
    "start_time": "2022-10-13T09:11:31.059Z"
   },
   {
    "duration": 218,
    "start_time": "2022-10-13T09:11:31.289Z"
   },
   {
    "duration": 7,
    "start_time": "2022-10-13T09:11:31.509Z"
   },
   {
    "duration": 302,
    "start_time": "2022-10-13T09:11:31.518Z"
   },
   {
    "duration": 5,
    "start_time": "2022-10-13T09:11:31.822Z"
   },
   {
    "duration": 262,
    "start_time": "2022-10-13T09:11:31.829Z"
   },
   {
    "duration": 10,
    "start_time": "2022-10-13T09:11:32.093Z"
   },
   {
    "duration": 297,
    "start_time": "2022-10-13T09:11:32.105Z"
   },
   {
    "duration": 12,
    "start_time": "2022-10-13T09:11:32.403Z"
   },
   {
    "duration": 150,
    "start_time": "2022-10-13T09:11:32.416Z"
   },
   {
    "duration": 5,
    "start_time": "2022-10-13T09:11:32.568Z"
   },
   {
    "duration": 176,
    "start_time": "2022-10-13T09:11:32.574Z"
   },
   {
    "duration": 4,
    "start_time": "2022-10-13T09:11:32.752Z"
   },
   {
    "duration": 9,
    "start_time": "2022-10-13T09:11:32.758Z"
   },
   {
    "duration": 27,
    "start_time": "2022-10-13T09:11:32.768Z"
   },
   {
    "duration": 8,
    "start_time": "2022-10-13T09:11:32.799Z"
   },
   {
    "duration": 41,
    "start_time": "2022-10-13T09:11:32.809Z"
   },
   {
    "duration": 12,
    "start_time": "2022-10-13T09:11:32.851Z"
   },
   {
    "duration": 28,
    "start_time": "2022-10-13T09:11:32.865Z"
   },
   {
    "duration": 10,
    "start_time": "2022-10-13T09:11:32.894Z"
   },
   {
    "duration": 28,
    "start_time": "2022-10-13T09:11:32.906Z"
   },
   {
    "duration": 11,
    "start_time": "2022-10-13T09:11:32.936Z"
   },
   {
    "duration": 205,
    "start_time": "2022-10-13T09:14:22.795Z"
   },
   {
    "duration": 3,
    "start_time": "2022-10-13T09:30:11.194Z"
   },
   {
    "duration": 104,
    "start_time": "2022-10-13T09:30:11.200Z"
   },
   {
    "duration": 24,
    "start_time": "2022-10-13T09:30:11.307Z"
   },
   {
    "duration": 33,
    "start_time": "2022-10-13T09:30:11.334Z"
   },
   {
    "duration": 7,
    "start_time": "2022-10-13T09:30:11.369Z"
   },
   {
    "duration": 19,
    "start_time": "2022-10-13T09:30:11.391Z"
   },
   {
    "duration": 16,
    "start_time": "2022-10-13T09:30:11.412Z"
   },
   {
    "duration": 14,
    "start_time": "2022-10-13T09:30:11.430Z"
   },
   {
    "duration": 12,
    "start_time": "2022-10-13T09:30:11.447Z"
   },
   {
    "duration": 30,
    "start_time": "2022-10-13T09:30:11.461Z"
   },
   {
    "duration": 19,
    "start_time": "2022-10-13T09:30:11.493Z"
   },
   {
    "duration": 357,
    "start_time": "2022-10-13T09:30:11.514Z"
   },
   {
    "duration": 17,
    "start_time": "2022-10-13T09:30:11.874Z"
   },
   {
    "duration": 333,
    "start_time": "2022-10-13T09:30:11.893Z"
   },
   {
    "duration": 285,
    "start_time": "2022-10-13T09:30:12.229Z"
   },
   {
    "duration": 8,
    "start_time": "2022-10-13T09:30:12.516Z"
   },
   {
    "duration": 297,
    "start_time": "2022-10-13T09:30:12.526Z"
   },
   {
    "duration": 5,
    "start_time": "2022-10-13T09:30:12.826Z"
   },
   {
    "duration": 319,
    "start_time": "2022-10-13T09:30:12.833Z"
   },
   {
    "duration": 7,
    "start_time": "2022-10-13T09:30:13.154Z"
   },
   {
    "duration": 339,
    "start_time": "2022-10-13T09:30:13.163Z"
   },
   {
    "duration": 16,
    "start_time": "2022-10-13T09:30:13.505Z"
   },
   {
    "duration": 174,
    "start_time": "2022-10-13T09:30:13.522Z"
   },
   {
    "duration": 5,
    "start_time": "2022-10-13T09:30:13.700Z"
   },
   {
    "duration": 192,
    "start_time": "2022-10-13T09:30:13.707Z"
   },
   {
    "duration": 15,
    "start_time": "2022-10-13T09:30:13.901Z"
   },
   {
    "duration": 34,
    "start_time": "2022-10-13T09:30:13.919Z"
   },
   {
    "duration": 37,
    "start_time": "2022-10-13T09:30:13.955Z"
   },
   {
    "duration": 33,
    "start_time": "2022-10-13T09:30:13.994Z"
   },
   {
    "duration": 43,
    "start_time": "2022-10-13T09:30:14.029Z"
   },
   {
    "duration": 16,
    "start_time": "2022-10-13T09:30:14.074Z"
   },
   {
    "duration": 47,
    "start_time": "2022-10-13T09:30:14.091Z"
   },
   {
    "duration": 30,
    "start_time": "2022-10-13T09:30:14.140Z"
   },
   {
    "duration": 102,
    "start_time": "2022-10-13T09:30:14.172Z"
   },
   {
    "duration": 14,
    "start_time": "2022-10-13T09:30:14.276Z"
   },
   {
    "duration": 1142,
    "start_time": "2022-10-13T14:39:49.370Z"
   },
   {
    "duration": 107,
    "start_time": "2022-10-13T14:39:50.514Z"
   },
   {
    "duration": 25,
    "start_time": "2022-10-13T14:39:50.623Z"
   },
   {
    "duration": 24,
    "start_time": "2022-10-13T14:39:50.649Z"
   },
   {
    "duration": 13,
    "start_time": "2022-10-13T14:39:50.674Z"
   },
   {
    "duration": 12,
    "start_time": "2022-10-13T14:39:50.689Z"
   },
   {
    "duration": 8,
    "start_time": "2022-10-13T14:39:50.702Z"
   },
   {
    "duration": 32,
    "start_time": "2022-10-13T14:39:50.712Z"
   },
   {
    "duration": 8,
    "start_time": "2022-10-13T14:39:50.746Z"
   },
   {
    "duration": 23,
    "start_time": "2022-10-13T14:39:50.756Z"
   },
   {
    "duration": 18,
    "start_time": "2022-10-13T14:39:50.780Z"
   },
   {
    "duration": 293,
    "start_time": "2022-10-13T14:39:50.800Z"
   },
   {
    "duration": 5,
    "start_time": "2022-10-13T14:39:51.095Z"
   },
   {
    "duration": 285,
    "start_time": "2022-10-13T14:39:51.101Z"
   },
   {
    "duration": 212,
    "start_time": "2022-10-13T14:39:51.388Z"
   },
   {
    "duration": 7,
    "start_time": "2022-10-13T14:39:51.601Z"
   },
   {
    "duration": 355,
    "start_time": "2022-10-13T14:39:51.610Z"
   },
   {
    "duration": 5,
    "start_time": "2022-10-13T14:39:51.967Z"
   },
   {
    "duration": 212,
    "start_time": "2022-10-13T14:39:51.974Z"
   },
   {
    "duration": 7,
    "start_time": "2022-10-13T14:39:52.188Z"
   },
   {
    "duration": 286,
    "start_time": "2022-10-13T14:39:52.197Z"
   },
   {
    "duration": 13,
    "start_time": "2022-10-13T14:39:52.484Z"
   },
   {
    "duration": 156,
    "start_time": "2022-10-13T14:39:52.499Z"
   },
   {
    "duration": 5,
    "start_time": "2022-10-13T14:39:52.656Z"
   },
   {
    "duration": 177,
    "start_time": "2022-10-13T14:39:52.662Z"
   },
   {
    "duration": 5,
    "start_time": "2022-10-13T14:39:52.840Z"
   },
   {
    "duration": 17,
    "start_time": "2022-10-13T14:39:52.847Z"
   },
   {
    "duration": 24,
    "start_time": "2022-10-13T14:39:52.868Z"
   },
   {
    "duration": 15,
    "start_time": "2022-10-13T14:39:52.894Z"
   },
   {
    "duration": 44,
    "start_time": "2022-10-13T14:39:52.911Z"
   },
   {
    "duration": 12,
    "start_time": "2022-10-13T14:39:52.957Z"
   },
   {
    "duration": 29,
    "start_time": "2022-10-13T14:39:52.970Z"
   },
   {
    "duration": 15,
    "start_time": "2022-10-13T14:39:53.001Z"
   },
   {
    "duration": 34,
    "start_time": "2022-10-13T14:39:53.019Z"
   },
   {
    "duration": 10,
    "start_time": "2022-10-13T14:39:53.055Z"
   },
   {
    "duration": 1069,
    "start_time": "2022-10-13T15:05:19.124Z"
   },
   {
    "duration": 39,
    "start_time": "2022-10-13T15:05:20.195Z"
   },
   {
    "duration": 21,
    "start_time": "2022-10-13T15:05:20.235Z"
   },
   {
    "duration": 22,
    "start_time": "2022-10-13T15:05:20.258Z"
   },
   {
    "duration": 8,
    "start_time": "2022-10-13T15:05:20.281Z"
   },
   {
    "duration": 8,
    "start_time": "2022-10-13T15:05:20.290Z"
   },
   {
    "duration": 7,
    "start_time": "2022-10-13T15:05:20.299Z"
   },
   {
    "duration": 39,
    "start_time": "2022-10-13T15:05:20.307Z"
   },
   {
    "duration": 8,
    "start_time": "2022-10-13T15:05:20.348Z"
   },
   {
    "duration": 13,
    "start_time": "2022-10-13T15:05:20.358Z"
   },
   {
    "duration": 12,
    "start_time": "2022-10-13T15:05:20.373Z"
   },
   {
    "duration": 288,
    "start_time": "2022-10-13T15:05:20.386Z"
   },
   {
    "duration": 4,
    "start_time": "2022-10-13T15:05:20.676Z"
   },
   {
    "duration": 277,
    "start_time": "2022-10-13T15:05:20.682Z"
   },
   {
    "duration": 197,
    "start_time": "2022-10-13T15:05:20.962Z"
   },
   {
    "duration": 7,
    "start_time": "2022-10-13T15:05:21.161Z"
   },
   {
    "duration": 273,
    "start_time": "2022-10-13T15:05:21.170Z"
   },
   {
    "duration": 6,
    "start_time": "2022-10-13T15:05:21.445Z"
   },
   {
    "duration": 189,
    "start_time": "2022-10-13T15:05:21.452Z"
   },
   {
    "duration": 6,
    "start_time": "2022-10-13T15:05:21.643Z"
   },
   {
    "duration": 268,
    "start_time": "2022-10-13T15:05:21.651Z"
   },
   {
    "duration": 20,
    "start_time": "2022-10-13T15:05:21.922Z"
   },
   {
    "duration": 137,
    "start_time": "2022-10-13T15:05:21.944Z"
   },
   {
    "duration": 5,
    "start_time": "2022-10-13T15:05:22.083Z"
   },
   {
    "duration": 152,
    "start_time": "2022-10-13T15:05:22.089Z"
   },
   {
    "duration": 5,
    "start_time": "2022-10-13T15:05:22.243Z"
   },
   {
    "duration": 7,
    "start_time": "2022-10-13T15:05:22.250Z"
   },
   {
    "duration": 13,
    "start_time": "2022-10-13T15:05:22.261Z"
   },
   {
    "duration": 7,
    "start_time": "2022-10-13T15:05:22.276Z"
   },
   {
    "duration": 56,
    "start_time": "2022-10-13T15:05:22.284Z"
   },
   {
    "duration": 12,
    "start_time": "2022-10-13T15:05:22.342Z"
   },
   {
    "duration": 10,
    "start_time": "2022-10-13T15:05:22.356Z"
   },
   {
    "duration": 8,
    "start_time": "2022-10-13T15:05:22.368Z"
   },
   {
    "duration": 25,
    "start_time": "2022-10-13T15:05:22.378Z"
   },
   {
    "duration": 10,
    "start_time": "2022-10-13T15:05:22.438Z"
   }
  ],
  "kernelspec": {
   "display_name": "Python 3 (ipykernel)",
   "language": "python",
   "name": "python3"
  },
  "language_info": {
   "codemirror_mode": {
    "name": "ipython",
    "version": 3
   },
   "file_extension": ".py",
   "mimetype": "text/x-python",
   "name": "python",
   "nbconvert_exporter": "python",
   "pygments_lexer": "ipython3",
   "version": "3.9.13"
  },
  "toc": {
   "base_numbering": 1,
   "nav_menu": {
    "height": "317px",
    "width": "572px"
   },
   "number_sections": true,
   "sideBar": true,
   "skip_h1_title": true,
   "title_cell": "Table of Contents",
   "title_sidebar": "Contents",
   "toc_cell": false,
   "toc_position": {},
   "toc_section_display": true,
   "toc_window_display": false
  }
 },
 "nbformat": 4,
 "nbformat_minor": 2
}
