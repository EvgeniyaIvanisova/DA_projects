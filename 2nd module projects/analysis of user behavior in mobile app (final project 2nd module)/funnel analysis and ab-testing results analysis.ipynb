{
 "cells": [
  {
   "cell_type": "markdown",
   "metadata": {},
   "source": [
    "# Анализ пользовательского поведения в мобильном приложении\n",
    "\n",
    "Необходимо разобраться, как ведут себя пользователи мобильного приложения для продажи продуктов питания. Для этого нужно изучить путь пользователя в приложении и построить воронку продаж. \n",
    "\n",
    "Во второй части проекта необходимо исследовать результаты A/A/B-эксперимента. Проверялась гипотеза о том, что изменение шрифтов в приложении улучшит конверсию пользователей в покупателей. Пользователей разбили на 3 группы: 2 контрольные со старыми шрифтами и одну экспериментальную — с новыми.\n",
    "\n",
    "Результаты эксперимента хранятся в логе, в котором каждая запись это действие пользователя или событие:\n",
    "\n",
    "* `EventName` - название события;\n",
    "* `DeviceIDHash`- уникальный идентификатор пользователя;\n",
    "* `EventTimestamp` - время события;\n",
    "* `ExpId` - номер эксперимента: 246 и 247 — контрольные группы, а 248 — экспериментальная.\n",
    "\n",
    "**Задачи:**\n",
    "\n",
    "1. Изучить путь пользователя до покупки (воронку продаж).\n",
    "2. Определить, на каких шагах «застревает» наибольшее количество пользователей.\n",
    "3. По результатам A/A/B-эксперимента опеределить, стоит ли менять шрифты в приложении.\n",
    "\n",
    "**План исследования:**\n",
    "\n",
    "**1.** Обзор и предобработка данных\n",
    "\n",
    "**2.** Проверка данных\n",
    "\n",
    "**3.** Изучение воронки событий:\n",
    "\n",
    "* Выстраивание воронки продаж\n",
    "* Рассчет общей конверсии для каждого шага\n",
    "* Рассчет конверсии в шаг\n",
    "\n",
    "**4.** Анализ результатов A/A/B-эксперимента\n",
    "    \n",
    "\n"
   ]
  },
  {
   "cell_type": "markdown",
   "metadata": {},
   "source": [
    "### Обзор данных"
   ]
  },
  {
   "cell_type": "code",
   "execution_count": 37,
   "metadata": {
    "scrolled": true
   },
   "outputs": [],
   "source": [
    "import pandas as pd\n",
    "import numpy as np\n",
    "import matplotlib.pyplot as plt\n",
    "from plotly import graph_objects as go\n",
    "from statsmodels.stats.proportion import proportions_ztest\n",
    "import datetime as dt\n",
    "from pandas.plotting import register_matplotlib_converters\n",
    "import warnings\n",
    "register_matplotlib_converters()"
   ]
  },
  {
   "cell_type": "code",
   "execution_count": 2,
   "metadata": {
    "scrolled": true
   },
   "outputs": [
    {
     "data": {
      "text/html": [
       "<div>\n",
       "<style scoped>\n",
       "    .dataframe tbody tr th:only-of-type {\n",
       "        vertical-align: middle;\n",
       "    }\n",
       "\n",
       "    .dataframe tbody tr th {\n",
       "        vertical-align: top;\n",
       "    }\n",
       "\n",
       "    .dataframe thead th {\n",
       "        text-align: right;\n",
       "    }\n",
       "</style>\n",
       "<table border=\"1\" class=\"dataframe\">\n",
       "  <thead>\n",
       "    <tr style=\"text-align: right;\">\n",
       "      <th></th>\n",
       "      <th>EventName</th>\n",
       "      <th>DeviceIDHash</th>\n",
       "      <th>EventTimestamp</th>\n",
       "      <th>ExpId</th>\n",
       "    </tr>\n",
       "  </thead>\n",
       "  <tbody>\n",
       "    <tr>\n",
       "      <th>0</th>\n",
       "      <td>MainScreenAppear</td>\n",
       "      <td>4575588528974610257</td>\n",
       "      <td>1564029816</td>\n",
       "      <td>246</td>\n",
       "    </tr>\n",
       "    <tr>\n",
       "      <th>1</th>\n",
       "      <td>MainScreenAppear</td>\n",
       "      <td>7416695313311560658</td>\n",
       "      <td>1564053102</td>\n",
       "      <td>246</td>\n",
       "    </tr>\n",
       "    <tr>\n",
       "      <th>2</th>\n",
       "      <td>PaymentScreenSuccessful</td>\n",
       "      <td>3518123091307005509</td>\n",
       "      <td>1564054127</td>\n",
       "      <td>248</td>\n",
       "    </tr>\n",
       "    <tr>\n",
       "      <th>3</th>\n",
       "      <td>CartScreenAppear</td>\n",
       "      <td>3518123091307005509</td>\n",
       "      <td>1564054127</td>\n",
       "      <td>248</td>\n",
       "    </tr>\n",
       "    <tr>\n",
       "      <th>4</th>\n",
       "      <td>PaymentScreenSuccessful</td>\n",
       "      <td>6217807653094995999</td>\n",
       "      <td>1564055322</td>\n",
       "      <td>248</td>\n",
       "    </tr>\n",
       "    <tr>\n",
       "      <th>5</th>\n",
       "      <td>CartScreenAppear</td>\n",
       "      <td>6217807653094995999</td>\n",
       "      <td>1564055323</td>\n",
       "      <td>248</td>\n",
       "    </tr>\n",
       "    <tr>\n",
       "      <th>6</th>\n",
       "      <td>OffersScreenAppear</td>\n",
       "      <td>8351860793733343758</td>\n",
       "      <td>1564066242</td>\n",
       "      <td>246</td>\n",
       "    </tr>\n",
       "    <tr>\n",
       "      <th>7</th>\n",
       "      <td>MainScreenAppear</td>\n",
       "      <td>5682100281902512875</td>\n",
       "      <td>1564085677</td>\n",
       "      <td>246</td>\n",
       "    </tr>\n",
       "    <tr>\n",
       "      <th>8</th>\n",
       "      <td>MainScreenAppear</td>\n",
       "      <td>1850981295691852772</td>\n",
       "      <td>1564086702</td>\n",
       "      <td>247</td>\n",
       "    </tr>\n",
       "    <tr>\n",
       "      <th>9</th>\n",
       "      <td>MainScreenAppear</td>\n",
       "      <td>5407636962369102641</td>\n",
       "      <td>1564112112</td>\n",
       "      <td>246</td>\n",
       "    </tr>\n",
       "  </tbody>\n",
       "</table>\n",
       "</div>"
      ],
      "text/plain": [
       "                 EventName         DeviceIDHash  EventTimestamp  ExpId\n",
       "0         MainScreenAppear  4575588528974610257      1564029816    246\n",
       "1         MainScreenAppear  7416695313311560658      1564053102    246\n",
       "2  PaymentScreenSuccessful  3518123091307005509      1564054127    248\n",
       "3         CartScreenAppear  3518123091307005509      1564054127    248\n",
       "4  PaymentScreenSuccessful  6217807653094995999      1564055322    248\n",
       "5         CartScreenAppear  6217807653094995999      1564055323    248\n",
       "6       OffersScreenAppear  8351860793733343758      1564066242    246\n",
       "7         MainScreenAppear  5682100281902512875      1564085677    246\n",
       "8         MainScreenAppear  1850981295691852772      1564086702    247\n",
       "9         MainScreenAppear  5407636962369102641      1564112112    246"
      ]
     },
     "execution_count": 2,
     "metadata": {},
     "output_type": "execute_result"
    }
   ],
   "source": [
    "try:\n",
    "    data = pd.read_csv('/datasets/logs_exp.csv', sep='\\t')\n",
    "except:\n",
    "    data = pd.read_csv('logs_exp.csv', sep='\\t')\n",
    "data.head(10)"
   ]
  },
  {
   "cell_type": "code",
   "execution_count": 3,
   "metadata": {
    "scrolled": true
   },
   "outputs": [
    {
     "name": "stdout",
     "output_type": "stream",
     "text": [
      "<class 'pandas.core.frame.DataFrame'>\n",
      "RangeIndex: 244126 entries, 0 to 244125\n",
      "Data columns (total 4 columns):\n",
      " #   Column          Non-Null Count   Dtype \n",
      "---  ------          --------------   ----- \n",
      " 0   EventName       244126 non-null  object\n",
      " 1   DeviceIDHash    244126 non-null  int64 \n",
      " 2   EventTimestamp  244126 non-null  int64 \n",
      " 3   ExpId           244126 non-null  int64 \n",
      "dtypes: int64(3), object(1)\n",
      "memory usage: 7.5+ MB\n"
     ]
    }
   ],
   "source": [
    "data.info()"
   ]
  },
  {
   "cell_type": "markdown",
   "metadata": {},
   "source": [
    "Пропусков в данных нет."
   ]
  },
  {
   "cell_type": "markdown",
   "metadata": {},
   "source": [
    "### Предобработка данных"
   ]
  },
  {
   "cell_type": "markdown",
   "metadata": {},
   "source": [
    "**Скорректируем названия столбцов**"
   ]
  },
  {
   "cell_type": "code",
   "execution_count": 4,
   "metadata": {
    "scrolled": true
   },
   "outputs": [
    {
     "data": {
      "text/plain": [
       "Index(['event_name', 'user_id', 'event_dt', 'group'], dtype='object')"
      ]
     },
     "execution_count": 4,
     "metadata": {},
     "output_type": "execute_result"
    }
   ],
   "source": [
    "data = data.rename(columns={'EventName': 'event_name', 'DeviceIDHash': 'user_id', \n",
    "                            'EventTimestamp': 'event_dt', 'ExpId': 'group'})\n",
    "data.columns"
   ]
  },
  {
   "cell_type": "markdown",
   "metadata": {},
   "source": [
    "**Преобразуем формат даты в формат datetime и добавим отдельный столбец с датой.**"
   ]
  },
  {
   "cell_type": "code",
   "execution_count": 5,
   "metadata": {
    "scrolled": true
   },
   "outputs": [],
   "source": [
    "data['event_dt'] = pd.to_datetime(data['event_dt'], unit='s', origin='unix')\n",
    "data['dt'] = data['event_dt'].dt.date"
   ]
  },
  {
   "cell_type": "code",
   "execution_count": 6,
   "metadata": {
    "scrolled": true
   },
   "outputs": [
    {
     "data": {
      "text/html": [
       "<div>\n",
       "<style scoped>\n",
       "    .dataframe tbody tr th:only-of-type {\n",
       "        vertical-align: middle;\n",
       "    }\n",
       "\n",
       "    .dataframe tbody tr th {\n",
       "        vertical-align: top;\n",
       "    }\n",
       "\n",
       "    .dataframe thead th {\n",
       "        text-align: right;\n",
       "    }\n",
       "</style>\n",
       "<table border=\"1\" class=\"dataframe\">\n",
       "  <thead>\n",
       "    <tr style=\"text-align: right;\">\n",
       "      <th></th>\n",
       "      <th>event_name</th>\n",
       "      <th>user_id</th>\n",
       "      <th>event_dt</th>\n",
       "      <th>group</th>\n",
       "      <th>dt</th>\n",
       "    </tr>\n",
       "  </thead>\n",
       "  <tbody>\n",
       "    <tr>\n",
       "      <th>0</th>\n",
       "      <td>MainScreenAppear</td>\n",
       "      <td>4575588528974610257</td>\n",
       "      <td>2019-07-25 04:43:36</td>\n",
       "      <td>246</td>\n",
       "      <td>2019-07-25</td>\n",
       "    </tr>\n",
       "    <tr>\n",
       "      <th>1</th>\n",
       "      <td>MainScreenAppear</td>\n",
       "      <td>7416695313311560658</td>\n",
       "      <td>2019-07-25 11:11:42</td>\n",
       "      <td>246</td>\n",
       "      <td>2019-07-25</td>\n",
       "    </tr>\n",
       "    <tr>\n",
       "      <th>2</th>\n",
       "      <td>PaymentScreenSuccessful</td>\n",
       "      <td>3518123091307005509</td>\n",
       "      <td>2019-07-25 11:28:47</td>\n",
       "      <td>248</td>\n",
       "      <td>2019-07-25</td>\n",
       "    </tr>\n",
       "    <tr>\n",
       "      <th>3</th>\n",
       "      <td>CartScreenAppear</td>\n",
       "      <td>3518123091307005509</td>\n",
       "      <td>2019-07-25 11:28:47</td>\n",
       "      <td>248</td>\n",
       "      <td>2019-07-25</td>\n",
       "    </tr>\n",
       "    <tr>\n",
       "      <th>4</th>\n",
       "      <td>PaymentScreenSuccessful</td>\n",
       "      <td>6217807653094995999</td>\n",
       "      <td>2019-07-25 11:48:42</td>\n",
       "      <td>248</td>\n",
       "      <td>2019-07-25</td>\n",
       "    </tr>\n",
       "  </tbody>\n",
       "</table>\n",
       "</div>"
      ],
      "text/plain": [
       "                event_name              user_id            event_dt  group  \\\n",
       "0         MainScreenAppear  4575588528974610257 2019-07-25 04:43:36    246   \n",
       "1         MainScreenAppear  7416695313311560658 2019-07-25 11:11:42    246   \n",
       "2  PaymentScreenSuccessful  3518123091307005509 2019-07-25 11:28:47    248   \n",
       "3         CartScreenAppear  3518123091307005509 2019-07-25 11:28:47    248   \n",
       "4  PaymentScreenSuccessful  6217807653094995999 2019-07-25 11:48:42    248   \n",
       "\n",
       "           dt  \n",
       "0  2019-07-25  \n",
       "1  2019-07-25  \n",
       "2  2019-07-25  \n",
       "3  2019-07-25  \n",
       "4  2019-07-25  "
      ]
     },
     "execution_count": 6,
     "metadata": {},
     "output_type": "execute_result"
    }
   ],
   "source": [
    "data.head()"
   ]
  },
  {
   "cell_type": "markdown",
   "metadata": {},
   "source": [
    "### Изучение и проверка данных"
   ]
  },
  {
   "cell_type": "markdown",
   "metadata": {},
   "source": [
    "**Проверим, есть ли в данных явные дубликаты.**"
   ]
  },
  {
   "cell_type": "code",
   "execution_count": 7,
   "metadata": {
    "scrolled": true
   },
   "outputs": [
    {
     "data": {
      "text/plain": [
       "413"
      ]
     },
     "execution_count": 7,
     "metadata": {},
     "output_type": "execute_result"
    }
   ],
   "source": [
    "data.duplicated().sum()"
   ]
  },
  {
   "cell_type": "markdown",
   "metadata": {},
   "source": [
    "Удалим явные дубликаты из данных"
   ]
  },
  {
   "cell_type": "code",
   "execution_count": 8,
   "metadata": {
    "scrolled": true
   },
   "outputs": [
    {
     "data": {
      "text/plain": [
       "0"
      ]
     },
     "execution_count": 8,
     "metadata": {},
     "output_type": "execute_result"
    }
   ],
   "source": [
    "data = data .drop_duplicates().reset_index(drop=True)\n",
    "# check\n",
    "data.duplicated().sum()"
   ]
  },
  {
   "cell_type": "markdown",
   "metadata": {},
   "source": [
    "**Проверим, не попали ли пользователи с одним id в разные групппы.**"
   ]
  },
  {
   "cell_type": "code",
   "execution_count": 9,
   "metadata": {
    "scrolled": false
   },
   "outputs": [
    {
     "name": "stdout",
     "output_type": "stream",
     "text": [
      "Количество пользователей, попавших в несколько групп 0\n"
     ]
    }
   ],
   "source": [
    "group_246 = pd.Series(data[data['group'] == 246]['user_id'].unique(), name='user_id')\n",
    "group_247 = pd.Series(data[data['group'] == 247]['user_id'].unique(), name='user_id')\n",
    "group_248 = pd.Series(data[data['group'] == 248]['user_id'].unique(), name='user_id')\n",
    "users_unique = pd.concat([group_246, group_247, group_248], axis=0)\n",
    "print(f'Количество пользователей, попавших в несколько групп {users_unique.duplicated().sum()}')"
   ]
  },
  {
   "cell_type": "markdown",
   "metadata": {},
   "source": [
    "Пользователей, оказавшихся одновременно в нескольких группах, в данных нет."
   ]
  },
  {
   "cell_type": "markdown",
   "metadata": {},
   "source": [
    "**Посмотрим, какое количество пользователей в логе и сколько уникальных событий зафиксировали.**"
   ]
  },
  {
   "cell_type": "code",
   "execution_count": 10,
   "metadata": {
    "scrolled": true
   },
   "outputs": [
    {
     "name": "stdout",
     "output_type": "stream",
     "text": [
      "Всего пользователей: 7551\n",
      "Всего событий в логе: 5\n"
     ]
    }
   ],
   "source": [
    "print(f'Всего пользователей: {len(data[\"user_id\"].unique())}')\n",
    "print(f'Всего событий в логе: {len(data[\"event_name\"].unique())}')"
   ]
  },
  {
   "cell_type": "markdown",
   "metadata": {},
   "source": [
    "**Посмотрим, сколько событий приходится на пользователя в среднем.**"
   ]
  },
  {
   "cell_type": "code",
   "execution_count": 11,
   "metadata": {
    "scrolled": false
   },
   "outputs": [],
   "source": [
    "events_per_user = data.groupby('user_id').agg({'event_name': 'count'}).reset_index()\n",
    "events_per_user.columns = ['user_id', 'events']"
   ]
  },
  {
   "cell_type": "markdown",
   "metadata": {},
   "source": [
    "Посмотрим как распределено количество событий на пользователя."
   ]
  },
  {
   "cell_type": "code",
   "execution_count": 12,
   "metadata": {},
   "outputs": [
    {
     "data": {
      "image/png": "[encoded data removed]",
      "text/plain": [
       "<Figure size 576x432 with 1 Axes>"
      ]
     },
     "metadata": {
      "needs_background": "light"
     },
     "output_type": "display_data"
    }
   ],
   "source": [
    "plt.figure(figsize=(8,6))\n",
    "plt.hist(events_per_user['events'], bins=100)\n",
    "plt.title('Распределение пользователей по количеству событий\\n', fontsize=14)\n",
    "plt.xlabel('Кол-во событий', fontsize=12)\n",
    "plt.ylabel('Кол-во пользователей', fontsize=12);"
   ]
  },
  {
   "cell_type": "markdown",
   "metadata": {},
   "source": [
    "Большинство значений количества событий на пользователя находятся в пределах 50, при этом есть аномально большие значения, например, более 2000 событий на пользователя. Чтобы корректно опеределить сколько событий приходится в среднем на пользователя, необходимо вычислить медиану, что позволит избежать влияния аномально больших значений на вычисления."
   ]
  },
  {
   "cell_type": "code",
   "execution_count": 13,
   "metadata": {},
   "outputs": [
    {
     "name": "stdout",
     "output_type": "stream",
     "text": [
      "Медианное количество событий на пользователя: 20.0\n"
     ]
    }
   ],
   "source": [
    "print(f'Медианное количество событий на пользователя: {round(events_per_user[\"events\"].median(), 2)}')"
   ]
  },
  {
   "cell_type": "markdown",
   "metadata": {},
   "source": [
    "**Определим данными за какой период мы располагаем.**"
   ]
  },
  {
   "cell_type": "code",
   "execution_count": 14,
   "metadata": {
    "scrolled": true
   },
   "outputs": [
    {
     "name": "stdout",
     "output_type": "stream",
     "text": [
      "2019-07-25 04:43:36\n",
      "2019-08-07 21:15:17\n"
     ]
    }
   ],
   "source": [
    "min_analysis_date = data['event_dt'].min()\n",
    "max_analysis_date = data['event_dt'].max()\n",
    "print(min_analysis_date, max_analysis_date, sep='\\n')"
   ]
  },
  {
   "cell_type": "markdown",
   "metadata": {},
   "source": [
    "В логе событий представлены данные за две недели."
   ]
  },
  {
   "cell_type": "markdown",
   "metadata": {},
   "source": [
    "Построим гистограмму, отображающую количество фиксируемых событий по дням."
   ]
  },
  {
   "cell_type": "code",
   "execution_count": 15,
   "metadata": {
    "scrolled": false
   },
   "outputs": [
    {
     "data": {
      "image/png": "[encoded data removed]",
      "text/plain": [
       "<Figure size 864x432 with 1 Axes>"
      ]
     },
     "metadata": {
      "needs_background": "light"
     },
     "output_type": "display_data"
    }
   ],
   "source": [
    "plt.figure(figsize=(12,6))\n",
    "data['dt'].hist(bins=14)\n",
    "plt.title('Распределение количества событий по датам\\n', fontsize=14)\n",
    "plt.ylabel('Количество событий', fontsize=12);"
   ]
  },
  {
   "cell_type": "markdown",
   "metadata": {},
   "source": [
    "Количество фиксируемых событий резко возрастает 1 августа, спустя неделю после начала регистрации данных. Это связано с тем, что информация о событии может доходить с опозданием. Таким образом, наиболее полные данные были собраны за период с 1 по 7 августа, их мы и оставим для дальнейшего анализа. "
   ]
  },
  {
   "cell_type": "markdown",
   "metadata": {},
   "source": [
    "**Отбросим данные за конец июня и проверим, сколько событий и пользователей оказалось в отброшенных данных.**"
   ]
  },
  {
   "cell_type": "code",
   "execution_count": 16,
   "metadata": {
    "scrolled": true
   },
   "outputs": [
    {
     "name": "stdout",
     "output_type": "stream",
     "text": [
      "Количество потерянных событий = 2826\n",
      "Количество потерянных событий (%) = 1.16%\n",
      "Количество потерянных пользователей = 17\n",
      "Количество потерянных событий (%) = 0.23%\n"
     ]
    }
   ],
   "source": [
    "initial_data_shape = data.shape[0]\n",
    "initial_data_users = len(data['user_id'].unique())\n",
    "filtered_data = data.query('dt > datetime(2019, 7, 31).date()')\n",
    "filtered_data_shape = filtered_data.shape[0]\n",
    "filtered_data_users = len(filtered_data['user_id'].unique())\n",
    "print(f'Количество потерянных событий = {initial_data_shape - filtered_data_shape}')\n",
    "print(f'Количество потерянных событий (%) = {round((1 - filtered_data_shape/initial_data_shape) * 100, 2)}%')\n",
    "print(f'Количество потерянных пользователей = {initial_data_users - filtered_data_users}')\n",
    "print(f'Количество потерянных событий (%) = {round((1 - filtered_data_users/initial_data_users) * 100, 2)}%')"
   ]
  },
  {
   "cell_type": "markdown",
   "metadata": {},
   "source": [
    "В процессе фильтрации было отброшено 1,16% событий и 0,23% пользователей от общего количества, что не должно сказаться на качестве анализа, так как количество отброшенных данных минимально по сравнению с общей выборкой."
   ]
  },
  {
   "cell_type": "markdown",
   "metadata": {},
   "source": [
    "**Посмотрим, как распределено количество пользователей по группам.**"
   ]
  },
  {
   "cell_type": "code",
   "execution_count": 17,
   "metadata": {
    "scrolled": true
   },
   "outputs": [
    {
     "data": {
      "text/html": [
       "<div>\n",
       "<style scoped>\n",
       "    .dataframe tbody tr th:only-of-type {\n",
       "        vertical-align: middle;\n",
       "    }\n",
       "\n",
       "    .dataframe tbody tr th {\n",
       "        vertical-align: top;\n",
       "    }\n",
       "\n",
       "    .dataframe thead th {\n",
       "        text-align: right;\n",
       "    }\n",
       "</style>\n",
       "<table border=\"1\" class=\"dataframe\">\n",
       "  <thead>\n",
       "    <tr style=\"text-align: right;\">\n",
       "      <th></th>\n",
       "      <th>group</th>\n",
       "      <th>users_number</th>\n",
       "    </tr>\n",
       "  </thead>\n",
       "  <tbody>\n",
       "    <tr>\n",
       "      <th>0</th>\n",
       "      <td>246</td>\n",
       "      <td>2484</td>\n",
       "    </tr>\n",
       "    <tr>\n",
       "      <th>1</th>\n",
       "      <td>247</td>\n",
       "      <td>2513</td>\n",
       "    </tr>\n",
       "    <tr>\n",
       "      <th>2</th>\n",
       "      <td>248</td>\n",
       "      <td>2537</td>\n",
       "    </tr>\n",
       "  </tbody>\n",
       "</table>\n",
       "</div>"
      ],
      "text/plain": [
       "   group  users_number\n",
       "0    246          2484\n",
       "1    247          2513\n",
       "2    248          2537"
      ]
     },
     "execution_count": 17,
     "metadata": {},
     "output_type": "execute_result"
    }
   ],
   "source": [
    "users_number = filtered_data.groupby('group', as_index=False).agg({'user_id': 'nunique'})\n",
    "users_number.columns = ['group', 'users_number']\n",
    "users_number"
   ]
  },
  {
   "cell_type": "markdown",
   "metadata": {},
   "source": [
    "В каждой из трех групп есть пользователи, при этом выборки распределились достаточно равномерно."
   ]
  },
  {
   "cell_type": "markdown",
   "metadata": {},
   "source": [
    "### Изучение воронки событий"
   ]
  },
  {
   "cell_type": "markdown",
   "metadata": {},
   "source": [
    "#### Посмотрим, сколько раз зафиксировали каждое из событий."
   ]
  },
  {
   "cell_type": "code",
   "execution_count": 18,
   "metadata": {
    "scrolled": true
   },
   "outputs": [
    {
     "data": {
      "text/html": [
       "<style  type=\"text/css\" >\n",
       "</style><table id=\"T_88b26_\" ><thead>    <tr>        <th class=\"blank level0\" ></th>        <th class=\"col_heading level0 col0\" >event_name</th>        <th class=\"col_heading level0 col1\" >events_number</th>    </tr></thead><tbody>\n",
       "                <tr>\n",
       "                        <th id=\"T_88b26_level0_row0\" class=\"row_heading level0 row0\" >1</th>\n",
       "                        <td id=\"T_88b26_row0_col0\" class=\"data row0 col0\" >MainScreenAppear</td>\n",
       "                        <td id=\"T_88b26_row0_col1\" class=\"data row0 col1\" >117,328</td>\n",
       "            </tr>\n",
       "            <tr>\n",
       "                        <th id=\"T_88b26_level0_row1\" class=\"row_heading level0 row1\" >2</th>\n",
       "                        <td id=\"T_88b26_row1_col0\" class=\"data row1 col0\" >OffersScreenAppear</td>\n",
       "                        <td id=\"T_88b26_row1_col1\" class=\"data row1 col1\" >46,333</td>\n",
       "            </tr>\n",
       "            <tr>\n",
       "                        <th id=\"T_88b26_level0_row2\" class=\"row_heading level0 row2\" >0</th>\n",
       "                        <td id=\"T_88b26_row2_col0\" class=\"data row2 col0\" >CartScreenAppear</td>\n",
       "                        <td id=\"T_88b26_row2_col1\" class=\"data row2 col1\" >42,303</td>\n",
       "            </tr>\n",
       "            <tr>\n",
       "                        <th id=\"T_88b26_level0_row3\" class=\"row_heading level0 row3\" >3</th>\n",
       "                        <td id=\"T_88b26_row3_col0\" class=\"data row3 col0\" >PaymentScreenSuccessful</td>\n",
       "                        <td id=\"T_88b26_row3_col1\" class=\"data row3 col1\" >33,918</td>\n",
       "            </tr>\n",
       "            <tr>\n",
       "                        <th id=\"T_88b26_level0_row4\" class=\"row_heading level0 row4\" >4</th>\n",
       "                        <td id=\"T_88b26_row4_col0\" class=\"data row4 col0\" >Tutorial</td>\n",
       "                        <td id=\"T_88b26_row4_col1\" class=\"data row4 col1\" >1,005</td>\n",
       "            </tr>\n",
       "    </tbody></table>"
      ],
      "text/plain": [
       "<pandas.io.formats.style.Styler at 0x1cc6da35d30>"
      ]
     },
     "execution_count": 18,
     "metadata": {},
     "output_type": "execute_result"
    }
   ],
   "source": [
    "event_grouped = filtered_data.groupby('event_name', as_index=False).agg({'user_id': 'count'})\n",
    "event_grouped.columns = ['event_name', 'events_number']\n",
    "event_grouped.sort_values(by='events_number', ascending=False).style.format({'events_number': '{:,.0f}'})"
   ]
  },
  {
   "cell_type": "markdown",
   "metadata": {},
   "source": [
    "Наиболее популярным является событие просмотра главного экрана, наиболее редким оказалось событие просмотра тьюториала."
   ]
  },
  {
   "cell_type": "markdown",
   "metadata": {},
   "source": [
    "#### Посмотрим, сколько пользователей совершили каждое из событий.\n",
    "\n",
    "Также рассчитаем конверсию общего количества уникальных пользователей в каждый шаг."
   ]
  },
  {
   "cell_type": "code",
   "execution_count": 19,
   "metadata": {
    "scrolled": true
   },
   "outputs": [
    {
     "data": {
      "text/html": [
       "<style  type=\"text/css\" >\n",
       "</style><table id=\"T_4de86_\" ><thead>    <tr>        <th class=\"blank level0\" ></th>        <th class=\"col_heading level0 col0\" >event_name</th>        <th class=\"col_heading level0 col1\" >users_number</th>        <th class=\"col_heading level0 col2\" >conversion</th>    </tr></thead><tbody>\n",
       "                <tr>\n",
       "                        <th id=\"T_4de86_level0_row0\" class=\"row_heading level0 row0\" >0</th>\n",
       "                        <td id=\"T_4de86_row0_col0\" class=\"data row0 col0\" >MainScreenAppear</td>\n",
       "                        <td id=\"T_4de86_row0_col1\" class=\"data row0 col1\" >7419</td>\n",
       "                        <td id=\"T_4de86_row0_col2\" class=\"data row0 col2\" >98.47%</td>\n",
       "            </tr>\n",
       "            <tr>\n",
       "                        <th id=\"T_4de86_level0_row1\" class=\"row_heading level0 row1\" >1</th>\n",
       "                        <td id=\"T_4de86_row1_col0\" class=\"data row1 col0\" >OffersScreenAppear</td>\n",
       "                        <td id=\"T_4de86_row1_col1\" class=\"data row1 col1\" >4593</td>\n",
       "                        <td id=\"T_4de86_row1_col2\" class=\"data row1 col2\" >60.96%</td>\n",
       "            </tr>\n",
       "            <tr>\n",
       "                        <th id=\"T_4de86_level0_row2\" class=\"row_heading level0 row2\" >2</th>\n",
       "                        <td id=\"T_4de86_row2_col0\" class=\"data row2 col0\" >CartScreenAppear</td>\n",
       "                        <td id=\"T_4de86_row2_col1\" class=\"data row2 col1\" >3734</td>\n",
       "                        <td id=\"T_4de86_row2_col2\" class=\"data row2 col2\" >49.56%</td>\n",
       "            </tr>\n",
       "            <tr>\n",
       "                        <th id=\"T_4de86_level0_row3\" class=\"row_heading level0 row3\" >3</th>\n",
       "                        <td id=\"T_4de86_row3_col0\" class=\"data row3 col0\" >PaymentScreenSuccessful</td>\n",
       "                        <td id=\"T_4de86_row3_col1\" class=\"data row3 col1\" >3539</td>\n",
       "                        <td id=\"T_4de86_row3_col2\" class=\"data row3 col2\" >46.97%</td>\n",
       "            </tr>\n",
       "            <tr>\n",
       "                        <th id=\"T_4de86_level0_row4\" class=\"row_heading level0 row4\" >4</th>\n",
       "                        <td id=\"T_4de86_row4_col0\" class=\"data row4 col0\" >Tutorial</td>\n",
       "                        <td id=\"T_4de86_row4_col1\" class=\"data row4 col1\" >840</td>\n",
       "                        <td id=\"T_4de86_row4_col2\" class=\"data row4 col2\" >11.15%</td>\n",
       "            </tr>\n",
       "    </tbody></table>"
      ],
      "text/plain": [
       "<pandas.io.formats.style.Styler at 0x1cc6c0bb790>"
      ]
     },
     "execution_count": 19,
     "metadata": {},
     "output_type": "execute_result"
    }
   ],
   "source": [
    "user_num_per_event = filtered_data.groupby('event_name', as_index=False).agg({'user_id': 'nunique'})\n",
    "user_num_per_event.columns = ['event_name', 'users_number']\n",
    "user_num_per_event['conversion'] = user_num_per_event['users_number'] / filtered_data_users\n",
    "user_num_per_event = user_num_per_event.sort_values(by='users_number', ascending=False).reset_index(drop=True)\n",
    "user_num_per_event.style.format({'conversion': '{:.2%}'})"
   ]
  },
  {
   "cell_type": "markdown",
   "metadata": {},
   "source": [
    "Практически все пользователи просматривали главную страницу, 61% пользователей видели страницу с предложением, около 50% пользователей заходили в корзину и успешну совершили покупку. Тьюториал просмотрели 11% пользователей.\n",
    "\n",
    "Воронка событий выстраивается следующим образом: `появление главного экрана` &rarr; `появление страницы с предложением` &rarr; `появление страницы с корзиной` &rarr; `появление страницы с сообщением об успешной оплате`. Шаг с просмотром обучения не является обязательным и многие пользователи его пропускали, поэтому в воронке его быть не должно."
   ]
  },
  {
   "cell_type": "code",
   "execution_count": 20,
   "metadata": {},
   "outputs": [],
   "source": [
    "user_num_per_event = user_num_per_event.drop([4], axis=0)"
   ]
  },
  {
   "cell_type": "markdown",
   "metadata": {},
   "source": [
    "#### Посчитаем, какая доля пользователей проходит на следующий шаг воронки (от числа пользователей на предыдущем)."
   ]
  },
  {
   "cell_type": "code",
   "execution_count": 21,
   "metadata": {
    "scrolled": false
   },
   "outputs": [
    {
     "data": {
      "text/html": [
       "<style  type=\"text/css\" >\n",
       "</style><table id=\"T_655d8_\" ><thead>    <tr>        <th class=\"blank level0\" ></th>        <th class=\"col_heading level0 col0\" >event_name</th>        <th class=\"col_heading level0 col1\" >users_number</th>        <th class=\"col_heading level0 col2\" >conversion</th>        <th class=\"col_heading level0 col3\" >conversion_in_step</th>    </tr></thead><tbody>\n",
       "                <tr>\n",
       "                        <th id=\"T_655d8_level0_row0\" class=\"row_heading level0 row0\" >0</th>\n",
       "                        <td id=\"T_655d8_row0_col0\" class=\"data row0 col0\" >MainScreenAppear</td>\n",
       "                        <td id=\"T_655d8_row0_col1\" class=\"data row0 col1\" >7419</td>\n",
       "                        <td id=\"T_655d8_row0_col2\" class=\"data row0 col2\" >98.47%</td>\n",
       "                        <td id=\"T_655d8_row0_col3\" class=\"data row0 col3\" >100.00%</td>\n",
       "            </tr>\n",
       "            <tr>\n",
       "                        <th id=\"T_655d8_level0_row1\" class=\"row_heading level0 row1\" >1</th>\n",
       "                        <td id=\"T_655d8_row1_col0\" class=\"data row1 col0\" >OffersScreenAppear</td>\n",
       "                        <td id=\"T_655d8_row1_col1\" class=\"data row1 col1\" >4593</td>\n",
       "                        <td id=\"T_655d8_row1_col2\" class=\"data row1 col2\" >60.96%</td>\n",
       "                        <td id=\"T_655d8_row1_col3\" class=\"data row1 col3\" >61.91%</td>\n",
       "            </tr>\n",
       "            <tr>\n",
       "                        <th id=\"T_655d8_level0_row2\" class=\"row_heading level0 row2\" >2</th>\n",
       "                        <td id=\"T_655d8_row2_col0\" class=\"data row2 col0\" >CartScreenAppear</td>\n",
       "                        <td id=\"T_655d8_row2_col1\" class=\"data row2 col1\" >3734</td>\n",
       "                        <td id=\"T_655d8_row2_col2\" class=\"data row2 col2\" >49.56%</td>\n",
       "                        <td id=\"T_655d8_row2_col3\" class=\"data row2 col3\" >81.30%</td>\n",
       "            </tr>\n",
       "            <tr>\n",
       "                        <th id=\"T_655d8_level0_row3\" class=\"row_heading level0 row3\" >3</th>\n",
       "                        <td id=\"T_655d8_row3_col0\" class=\"data row3 col0\" >PaymentScreenSuccessful</td>\n",
       "                        <td id=\"T_655d8_row3_col1\" class=\"data row3 col1\" >3539</td>\n",
       "                        <td id=\"T_655d8_row3_col2\" class=\"data row3 col2\" >46.97%</td>\n",
       "                        <td id=\"T_655d8_row3_col3\" class=\"data row3 col3\" >94.78%</td>\n",
       "            </tr>\n",
       "    </tbody></table>"
      ],
      "text/plain": [
       "<pandas.io.formats.style.Styler at 0x1cc6da35e80>"
      ]
     },
     "execution_count": 21,
     "metadata": {},
     "output_type": "execute_result"
    }
   ],
   "source": [
    "user_num_per_event['previous_step_users'] = user_num_per_event['users_number'].shift(1)\n",
    "user_num_per_event = user_num_per_event.fillna(user_num_per_event['users_number'][0])\n",
    "user_num_per_event['conversion_in_step'] = user_num_per_event['users_number'] / user_num_per_event['previous_step_users']\n",
    "user_num_per_event = user_num_per_event.drop(['previous_step_users'], axis=1)\n",
    "user_num_per_event.style.format({'conversion': '{:.2%}', 'conversion_in_step': '{:.2%}'})"
   ]
  },
  {
   "cell_type": "code",
   "execution_count": 57,
   "metadata": {},
   "outputs": [
    {
     "data": {
      "application/vnd.plotly.v1+json": {
       "config": {
        "plotlyServerURL": "https://plot.ly"
       },
       "data": [
        {
         "textinfo": "value+percent initial",
         "textposition": "inside",
         "type": "funnel",
         "x": [
          7419,
          4593,
          3734,
          3539
         ],
         "y": [
          "MainScreenAppear",
          "OffersScreenAppear",
          "CartScreenAppear",
          "PaymentScreenSuccessful"
         ]
        }
       ],
       "layout": {
        "font": {
         "color": "Black",
         "size": 14
        },
        "template": {
         "data": {
          "bar": [
           {
            "error_x": {
             "color": "#2a3f5f"
            },
            "error_y": {
             "color": "#2a3f5f"
            },
            "marker": {
             "line": {
              "color": "#E5ECF6",
              "width": 0.5
             },
             "pattern": {
              "fillmode": "overlay",
              "size": 10,
              "solidity": 0.2
             }
            },
            "type": "bar"
           }
          ],
          "barpolar": [
           {
            "marker": {
             "line": {
              "color": "#E5ECF6",
              "width": 0.5
             },
             "pattern": {
              "fillmode": "overlay",
              "size": 10,
              "solidity": 0.2
             }
            },
            "type": "barpolar"
           }
          ],
          "carpet": [
           {
            "aaxis": {
             "endlinecolor": "#2a3f5f",
             "gridcolor": "white",
             "linecolor": "white",
             "minorgridcolor": "white",
             "startlinecolor": "#2a3f5f"
            },
            "baxis": {
             "endlinecolor": "#2a3f5f",
             "gridcolor": "white",
             "linecolor": "white",
             "minorgridcolor": "white",
             "startlinecolor": "#2a3f5f"
            },
            "type": "carpet"
           }
          ],
          "choropleth": [
           {
            "colorbar": {
             "outlinewidth": 0,
             "ticks": ""
            },
            "type": "choropleth"
           }
          ],
          "contour": [
           {
            "colorbar": {
             "outlinewidth": 0,
             "ticks": ""
            },
            "colorscale": [
             [
              0,
              "#0d0887"
             ],
             [
              0.1111111111111111,
              "#46039f"
             ],
             [
              0.2222222222222222,
              "#7201a8"
             ],
             [
              0.3333333333333333,
              "#9c179e"
             ],
             [
              0.4444444444444444,
              "#bd3786"
             ],
             [
              0.5555555555555556,
              "#d8576b"
             ],
             [
              0.6666666666666666,
              "#ed7953"
             ],
             [
              0.7777777777777778,
              "#fb9f3a"
             ],
             [
              0.8888888888888888,
              "#fdca26"
             ],
             [
              1,
              "#f0f921"
             ]
            ],
            "type": "contour"
           }
          ],
          "contourcarpet": [
           {
            "colorbar": {
             "outlinewidth": 0,
             "ticks": ""
            },
            "type": "contourcarpet"
           }
          ],
          "heatmap": [
           {
            "colorbar": {
             "outlinewidth": 0,
             "ticks": ""
            },
            "colorscale": [
             [
              0,
              "#0d0887"
             ],
             [
              0.1111111111111111,
              "#46039f"
             ],
             [
              0.2222222222222222,
              "#7201a8"
             ],
             [
              0.3333333333333333,
              "#9c179e"
             ],
             [
              0.4444444444444444,
              "#bd3786"
             ],
             [
              0.5555555555555556,
              "#d8576b"
             ],
             [
              0.6666666666666666,
              "#ed7953"
             ],
             [
              0.7777777777777778,
              "#fb9f3a"
             ],
             [
              0.8888888888888888,
              "#fdca26"
             ],
             [
              1,
              "#f0f921"
             ]
            ],
            "type": "heatmap"
           }
          ],
          "heatmapgl": [
           {
            "colorbar": {
             "outlinewidth": 0,
             "ticks": ""
            },
            "colorscale": [
             [
              0,
              "#0d0887"
             ],
             [
              0.1111111111111111,
              "#46039f"
             ],
             [
              0.2222222222222222,
              "#7201a8"
             ],
             [
              0.3333333333333333,
              "#9c179e"
             ],
             [
              0.4444444444444444,
              "#bd3786"
             ],
             [
              0.5555555555555556,
              "#d8576b"
             ],
             [
              0.6666666666666666,
              "#ed7953"
             ],
             [
              0.7777777777777778,
              "#fb9f3a"
             ],
             [
              0.8888888888888888,
              "#fdca26"
             ],
             [
              1,
              "#f0f921"
             ]
            ],
            "type": "heatmapgl"
           }
          ],
          "histogram": [
           {
            "marker": {
             "pattern": {
              "fillmode": "overlay",
              "size": 10,
              "solidity": 0.2
             }
            },
            "type": "histogram"
           }
          ],
          "histogram2d": [
           {
            "colorbar": {
             "outlinewidth": 0,
             "ticks": ""
            },
            "colorscale": [
             [
              0,
              "#0d0887"
             ],
             [
              0.1111111111111111,
              "#46039f"
             ],
             [
              0.2222222222222222,
              "#7201a8"
             ],
             [
              0.3333333333333333,
              "#9c179e"
             ],
             [
              0.4444444444444444,
              "#bd3786"
             ],
             [
              0.5555555555555556,
              "#d8576b"
             ],
             [
              0.6666666666666666,
              "#ed7953"
             ],
             [
              0.7777777777777778,
              "#fb9f3a"
             ],
             [
              0.8888888888888888,
              "#fdca26"
             ],
             [
              1,
              "#f0f921"
             ]
            ],
            "type": "histogram2d"
           }
          ],
          "histogram2dcontour": [
           {
            "colorbar": {
             "outlinewidth": 0,
             "ticks": ""
            },
            "colorscale": [
             [
              0,
              "#0d0887"
             ],
             [
              0.1111111111111111,
              "#46039f"
             ],
             [
              0.2222222222222222,
              "#7201a8"
             ],
             [
              0.3333333333333333,
              "#9c179e"
             ],
             [
              0.4444444444444444,
              "#bd3786"
             ],
             [
              0.5555555555555556,
              "#d8576b"
             ],
             [
              0.6666666666666666,
              "#ed7953"
             ],
             [
              0.7777777777777778,
              "#fb9f3a"
             ],
             [
              0.8888888888888888,
              "#fdca26"
             ],
             [
              1,
              "#f0f921"
             ]
            ],
            "type": "histogram2dcontour"
           }
          ],
          "mesh3d": [
           {
            "colorbar": {
             "outlinewidth": 0,
             "ticks": ""
            },
            "type": "mesh3d"
           }
          ],
          "parcoords": [
           {
            "line": {
             "colorbar": {
              "outlinewidth": 0,
              "ticks": ""
             }
            },
            "type": "parcoords"
           }
          ],
          "pie": [
           {
            "automargin": true,
            "type": "pie"
           }
          ],
          "scatter": [
           {
            "marker": {
             "colorbar": {
              "outlinewidth": 0,
              "ticks": ""
             }
            },
            "type": "scatter"
           }
          ],
          "scatter3d": [
           {
            "line": {
             "colorbar": {
              "outlinewidth": 0,
              "ticks": ""
             }
            },
            "marker": {
             "colorbar": {
              "outlinewidth": 0,
              "ticks": ""
             }
            },
            "type": "scatter3d"
           }
          ],
          "scattercarpet": [
           {
            "marker": {
             "colorbar": {
              "outlinewidth": 0,
              "ticks": ""
             }
            },
            "type": "scattercarpet"
           }
          ],
          "scattergeo": [
           {
            "marker": {
             "colorbar": {
              "outlinewidth": 0,
              "ticks": ""
             }
            },
            "type": "scattergeo"
           }
          ],
          "scattergl": [
           {
            "marker": {
             "colorbar": {
              "outlinewidth": 0,
              "ticks": ""
             }
            },
            "type": "scattergl"
           }
          ],
          "scattermapbox": [
           {
            "marker": {
             "colorbar": {
              "outlinewidth": 0,
              "ticks": ""
             }
            },
            "type": "scattermapbox"
           }
          ],
          "scatterpolar": [
           {
            "marker": {
             "colorbar": {
              "outlinewidth": 0,
              "ticks": ""
             }
            },
            "type": "scatterpolar"
           }
          ],
          "scatterpolargl": [
           {
            "marker": {
             "colorbar": {
              "outlinewidth": 0,
              "ticks": ""
             }
            },
            "type": "scatterpolargl"
           }
          ],
          "scatterternary": [
           {
            "marker": {
             "colorbar": {
              "outlinewidth": 0,
              "ticks": ""
             }
            },
            "type": "scatterternary"
           }
          ],
          "surface": [
           {
            "colorbar": {
             "outlinewidth": 0,
             "ticks": ""
            },
            "colorscale": [
             [
              0,
              "#0d0887"
             ],
             [
              0.1111111111111111,
              "#46039f"
             ],
             [
              0.2222222222222222,
              "#7201a8"
             ],
             [
              0.3333333333333333,
              "#9c179e"
             ],
             [
              0.4444444444444444,
              "#bd3786"
             ],
             [
              0.5555555555555556,
              "#d8576b"
             ],
             [
              0.6666666666666666,
              "#ed7953"
             ],
             [
              0.7777777777777778,
              "#fb9f3a"
             ],
             [
              0.8888888888888888,
              "#fdca26"
             ],
             [
              1,
              "#f0f921"
             ]
            ],
            "type": "surface"
           }
          ],
          "table": [
           {
            "cells": {
             "fill": {
              "color": "#EBF0F8"
             },
             "line": {
              "color": "white"
             }
            },
            "header": {
             "fill": {
              "color": "#C8D4E3"
             },
             "line": {
              "color": "white"
             }
            },
            "type": "table"
           }
          ]
         },
         "layout": {
          "annotationdefaults": {
           "arrowcolor": "#2a3f5f",
           "arrowhead": 0,
           "arrowwidth": 1
          },
          "autotypenumbers": "strict",
          "coloraxis": {
           "colorbar": {
            "outlinewidth": 0,
            "ticks": ""
           }
          },
          "colorscale": {
           "diverging": [
            [
             0,
             "#8e0152"
            ],
            [
             0.1,
             "#c51b7d"
            ],
            [
             0.2,
             "#de77ae"
            ],
            [
             0.3,
             "#f1b6da"
            ],
            [
             0.4,
             "#fde0ef"
            ],
            [
             0.5,
             "#f7f7f7"
            ],
            [
             0.6,
             "#e6f5d0"
            ],
            [
             0.7,
             "#b8e186"
            ],
            [
             0.8,
             "#7fbc41"
            ],
            [
             0.9,
             "#4d9221"
            ],
            [
             1,
             "#276419"
            ]
           ],
           "sequential": [
            [
             0,
             "#0d0887"
            ],
            [
             0.1111111111111111,
             "#46039f"
            ],
            [
             0.2222222222222222,
             "#7201a8"
            ],
            [
             0.3333333333333333,
             "#9c179e"
            ],
            [
             0.4444444444444444,
             "#bd3786"
            ],
            [
             0.5555555555555556,
             "#d8576b"
            ],
            [
             0.6666666666666666,
             "#ed7953"
            ],
            [
             0.7777777777777778,
             "#fb9f3a"
            ],
            [
             0.8888888888888888,
             "#fdca26"
            ],
            [
             1,
             "#f0f921"
            ]
           ],
           "sequentialminus": [
            [
             0,
             "#0d0887"
            ],
            [
             0.1111111111111111,
             "#46039f"
            ],
            [
             0.2222222222222222,
             "#7201a8"
            ],
            [
             0.3333333333333333,
             "#9c179e"
            ],
            [
             0.4444444444444444,
             "#bd3786"
            ],
            [
             0.5555555555555556,
             "#d8576b"
            ],
            [
             0.6666666666666666,
             "#ed7953"
            ],
            [
             0.7777777777777778,
             "#fb9f3a"
            ],
            [
             0.8888888888888888,
             "#fdca26"
            ],
            [
             1,
             "#f0f921"
            ]
           ]
          },
          "colorway": [
           "#636efa",
           "#EF553B",
           "#00cc96",
           "#ab63fa",
           "#FFA15A",
           "#19d3f3",
           "#FF6692",
           "#B6E880",
           "#FF97FF",
           "#FECB52"
          ],
          "font": {
           "color": "#2a3f5f"
          },
          "geo": {
           "bgcolor": "white",
           "lakecolor": "white",
           "landcolor": "#E5ECF6",
           "showlakes": true,
           "showland": true,
           "subunitcolor": "white"
          },
          "hoverlabel": {
           "align": "left"
          },
          "hovermode": "closest",
          "mapbox": {
           "style": "light"
          },
          "paper_bgcolor": "white",
          "plot_bgcolor": "#E5ECF6",
          "polar": {
           "angularaxis": {
            "gridcolor": "white",
            "linecolor": "white",
            "ticks": ""
           },
           "bgcolor": "#E5ECF6",
           "radialaxis": {
            "gridcolor": "white",
            "linecolor": "white",
            "ticks": ""
           }
          },
          "scene": {
           "xaxis": {
            "backgroundcolor": "#E5ECF6",
            "gridcolor": "white",
            "gridwidth": 2,
            "linecolor": "white",
            "showbackground": true,
            "ticks": "",
            "zerolinecolor": "white"
           },
           "yaxis": {
            "backgroundcolor": "#E5ECF6",
            "gridcolor": "white",
            "gridwidth": 2,
            "linecolor": "white",
            "showbackground": true,
            "ticks": "",
            "zerolinecolor": "white"
           },
           "zaxis": {
            "backgroundcolor": "#E5ECF6",
            "gridcolor": "white",
            "gridwidth": 2,
            "linecolor": "white",
            "showbackground": true,
            "ticks": "",
            "zerolinecolor": "white"
           }
          },
          "shapedefaults": {
           "line": {
            "color": "#2a3f5f"
           }
          },
          "ternary": {
           "aaxis": {
            "gridcolor": "white",
            "linecolor": "white",
            "ticks": ""
           },
           "baxis": {
            "gridcolor": "white",
            "linecolor": "white",
            "ticks": ""
           },
           "bgcolor": "#E5ECF6",
           "caxis": {
            "gridcolor": "white",
            "linecolor": "white",
            "ticks": ""
           }
          },
          "title": {
           "x": 0.05
          },
          "xaxis": {
           "automargin": true,
           "gridcolor": "white",
           "linecolor": "white",
           "ticks": "",
           "title": {
            "standoff": 15
           },
           "zerolinecolor": "white",
           "zerolinewidth": 2
          },
          "yaxis": {
           "automargin": true,
           "gridcolor": "white",
           "linecolor": "white",
           "ticks": "",
           "title": {
            "standoff": 15
           },
           "zerolinecolor": "white",
           "zerolinewidth": 2
          }
         }
        },
        "title": {
         "text": "Воронка событий",
         "x": 0.562,
         "xanchor": "center",
         "y": 0.87,
         "yanchor": "top"
        }
       }
      },
      "text/html": [
       "<div>                            <div id=\"f2089cb7-29df-42d9-848d-034ea290c16a\" class=\"plotly-graph-div\" style=\"height:525px; width:100%;\"></div>            <script type=\"text/javascript\">                require([\"plotly\"], function(Plotly) {                    window.PLOTLYENV=window.PLOTLYENV || {};                                    if (document.getElementById(\"f2089cb7-29df-42d9-848d-034ea290c16a\")) {                    Plotly.newPlot(                        \"f2089cb7-29df-42d9-848d-034ea290c16a\",                        [{\"textinfo\":\"value+percent initial\",\"textposition\":\"inside\",\"x\":[7419,4593,3734,3539],\"y\":[\"MainScreenAppear\",\"OffersScreenAppear\",\"CartScreenAppear\",\"PaymentScreenSuccessful\"],\"type\":\"funnel\"}],                        {\"template\":{\"data\":{\"bar\":[{\"error_x\":{\"color\":\"#2a3f5f\"},\"error_y\":{\"color\":\"#2a3f5f\"},\"marker\":{\"line\":{\"color\":\"#E5ECF6\",\"width\":0.5},\"pattern\":{\"fillmode\":\"overlay\",\"size\":10,\"solidity\":0.2}},\"type\":\"bar\"}],\"barpolar\":[{\"marker\":{\"line\":{\"color\":\"#E5ECF6\",\"width\":0.5},\"pattern\":{\"fillmode\":\"overlay\",\"size\":10,\"solidity\":0.2}},\"type\":\"barpolar\"}],\"carpet\":[{\"aaxis\":{\"endlinecolor\":\"#2a3f5f\",\"gridcolor\":\"white\",\"linecolor\":\"white\",\"minorgridcolor\":\"white\",\"startlinecolor\":\"#2a3f5f\"},\"baxis\":{\"endlinecolor\":\"#2a3f5f\",\"gridcolor\":\"white\",\"linecolor\":\"white\",\"minorgridcolor\":\"white\",\"startlinecolor\":\"#2a3f5f\"},\"type\":\"carpet\"}],\"choropleth\":[{\"colorbar\":{\"outlinewidth\":0,\"ticks\":\"\"},\"type\":\"choropleth\"}],\"contour\":[{\"colorbar\":{\"outlinewidth\":0,\"ticks\":\"\"},\"colorscale\":[[0.0,\"#0d0887\"],[0.1111111111111111,\"#46039f\"],[0.2222222222222222,\"#7201a8\"],[0.3333333333333333,\"#9c179e\"],[0.4444444444444444,\"#bd3786\"],[0.5555555555555556,\"#d8576b\"],[0.6666666666666666,\"#ed7953\"],[0.7777777777777778,\"#fb9f3a\"],[0.8888888888888888,\"#fdca26\"],[1.0,\"#f0f921\"]],\"type\":\"contour\"}],\"contourcarpet\":[{\"colorbar\":{\"outlinewidth\":0,\"ticks\":\"\"},\"type\":\"contourcarpet\"}],\"heatmap\":[{\"colorbar\":{\"outlinewidth\":0,\"ticks\":\"\"},\"colorscale\":[[0.0,\"#0d0887\"],[0.1111111111111111,\"#46039f\"],[0.2222222222222222,\"#7201a8\"],[0.3333333333333333,\"#9c179e\"],[0.4444444444444444,\"#bd3786\"],[0.5555555555555556,\"#d8576b\"],[0.6666666666666666,\"#ed7953\"],[0.7777777777777778,\"#fb9f3a\"],[0.8888888888888888,\"#fdca26\"],[1.0,\"#f0f921\"]],\"type\":\"heatmap\"}],\"heatmapgl\":[{\"colorbar\":{\"outlinewidth\":0,\"ticks\":\"\"},\"colorscale\":[[0.0,\"#0d0887\"],[0.1111111111111111,\"#46039f\"],[0.2222222222222222,\"#7201a8\"],[0.3333333333333333,\"#9c179e\"],[0.4444444444444444,\"#bd3786\"],[0.5555555555555556,\"#d8576b\"],[0.6666666666666666,\"#ed7953\"],[0.7777777777777778,\"#fb9f3a\"],[0.8888888888888888,\"#fdca26\"],[1.0,\"#f0f921\"]],\"type\":\"heatmapgl\"}],\"histogram\":[{\"marker\":{\"pattern\":{\"fillmode\":\"overlay\",\"size\":10,\"solidity\":0.2}},\"type\":\"histogram\"}],\"histogram2d\":[{\"colorbar\":{\"outlinewidth\":0,\"ticks\":\"\"},\"colorscale\":[[0.0,\"#0d0887\"],[0.1111111111111111,\"#46039f\"],[0.2222222222222222,\"#7201a8\"],[0.3333333333333333,\"#9c179e\"],[0.4444444444444444,\"#bd3786\"],[0.5555555555555556,\"#d8576b\"],[0.6666666666666666,\"#ed7953\"],[0.7777777777777778,\"#fb9f3a\"],[0.8888888888888888,\"#fdca26\"],[1.0,\"#f0f921\"]],\"type\":\"histogram2d\"}],\"histogram2dcontour\":[{\"colorbar\":{\"outlinewidth\":0,\"ticks\":\"\"},\"colorscale\":[[0.0,\"#0d0887\"],[0.1111111111111111,\"#46039f\"],[0.2222222222222222,\"#7201a8\"],[0.3333333333333333,\"#9c179e\"],[0.4444444444444444,\"#bd3786\"],[0.5555555555555556,\"#d8576b\"],[0.6666666666666666,\"#ed7953\"],[0.7777777777777778,\"#fb9f3a\"],[0.8888888888888888,\"#fdca26\"],[1.0,\"#f0f921\"]],\"type\":\"histogram2dcontour\"}],\"mesh3d\":[{\"colorbar\":{\"outlinewidth\":0,\"ticks\":\"\"},\"type\":\"mesh3d\"}],\"parcoords\":[{\"line\":{\"colorbar\":{\"outlinewidth\":0,\"ticks\":\"\"}},\"type\":\"parcoords\"}],\"pie\":[{\"automargin\":true,\"type\":\"pie\"}],\"scatter\":[{\"marker\":{\"colorbar\":{\"outlinewidth\":0,\"ticks\":\"\"}},\"type\":\"scatter\"}],\"scatter3d\":[{\"line\":{\"colorbar\":{\"outlinewidth\":0,\"ticks\":\"\"}},\"marker\":{\"colorbar\":{\"outlinewidth\":0,\"ticks\":\"\"}},\"type\":\"scatter3d\"}],\"scattercarpet\":[{\"marker\":{\"colorbar\":{\"outlinewidth\":0,\"ticks\":\"\"}},\"type\":\"scattercarpet\"}],\"scattergeo\":[{\"marker\":{\"colorbar\":{\"outlinewidth\":0,\"ticks\":\"\"}},\"type\":\"scattergeo\"}],\"scattergl\":[{\"marker\":{\"colorbar\":{\"outlinewidth\":0,\"ticks\":\"\"}},\"type\":\"scattergl\"}],\"scattermapbox\":[{\"marker\":{\"colorbar\":{\"outlinewidth\":0,\"ticks\":\"\"}},\"type\":\"scattermapbox\"}],\"scatterpolar\":[{\"marker\":{\"colorbar\":{\"outlinewidth\":0,\"ticks\":\"\"}},\"type\":\"scatterpolar\"}],\"scatterpolargl\":[{\"marker\":{\"colorbar\":{\"outlinewidth\":0,\"ticks\":\"\"}},\"type\":\"scatterpolargl\"}],\"scatterternary\":[{\"marker\":{\"colorbar\":{\"outlinewidth\":0,\"ticks\":\"\"}},\"type\":\"scatterternary\"}],\"surface\":[{\"colorbar\":{\"outlinewidth\":0,\"ticks\":\"\"},\"colorscale\":[[0.0,\"#0d0887\"],[0.1111111111111111,\"#46039f\"],[0.2222222222222222,\"#7201a8\"],[0.3333333333333333,\"#9c179e\"],[0.4444444444444444,\"#bd3786\"],[0.5555555555555556,\"#d8576b\"],[0.6666666666666666,\"#ed7953\"],[0.7777777777777778,\"#fb9f3a\"],[0.8888888888888888,\"#fdca26\"],[1.0,\"#f0f921\"]],\"type\":\"surface\"}],\"table\":[{\"cells\":{\"fill\":{\"color\":\"#EBF0F8\"},\"line\":{\"color\":\"white\"}},\"header\":{\"fill\":{\"color\":\"#C8D4E3\"},\"line\":{\"color\":\"white\"}},\"type\":\"table\"}]},\"layout\":{\"annotationdefaults\":{\"arrowcolor\":\"#2a3f5f\",\"arrowhead\":0,\"arrowwidth\":1},\"autotypenumbers\":\"strict\",\"coloraxis\":{\"colorbar\":{\"outlinewidth\":0,\"ticks\":\"\"}},\"colorscale\":{\"diverging\":[[0,\"#8e0152\"],[0.1,\"#c51b7d\"],[0.2,\"#de77ae\"],[0.3,\"#f1b6da\"],[0.4,\"#fde0ef\"],[0.5,\"#f7f7f7\"],[0.6,\"#e6f5d0\"],[0.7,\"#b8e186\"],[0.8,\"#7fbc41\"],[0.9,\"#4d9221\"],[1,\"#276419\"]],\"sequential\":[[0.0,\"#0d0887\"],[0.1111111111111111,\"#46039f\"],[0.2222222222222222,\"#7201a8\"],[0.3333333333333333,\"#9c179e\"],[0.4444444444444444,\"#bd3786\"],[0.5555555555555556,\"#d8576b\"],[0.6666666666666666,\"#ed7953\"],[0.7777777777777778,\"#fb9f3a\"],[0.8888888888888888,\"#fdca26\"],[1.0,\"#f0f921\"]],\"sequentialminus\":[[0.0,\"#0d0887\"],[0.1111111111111111,\"#46039f\"],[0.2222222222222222,\"#7201a8\"],[0.3333333333333333,\"#9c179e\"],[0.4444444444444444,\"#bd3786\"],[0.5555555555555556,\"#d8576b\"],[0.6666666666666666,\"#ed7953\"],[0.7777777777777778,\"#fb9f3a\"],[0.8888888888888888,\"#fdca26\"],[1.0,\"#f0f921\"]]},\"colorway\":[\"#636efa\",\"#EF553B\",\"#00cc96\",\"#ab63fa\",\"#FFA15A\",\"#19d3f3\",\"#FF6692\",\"#B6E880\",\"#FF97FF\",\"#FECB52\"],\"font\":{\"color\":\"#2a3f5f\"},\"geo\":{\"bgcolor\":\"white\",\"lakecolor\":\"white\",\"landcolor\":\"#E5ECF6\",\"showlakes\":true,\"showland\":true,\"subunitcolor\":\"white\"},\"hoverlabel\":{\"align\":\"left\"},\"hovermode\":\"closest\",\"mapbox\":{\"style\":\"light\"},\"paper_bgcolor\":\"white\",\"plot_bgcolor\":\"#E5ECF6\",\"polar\":{\"angularaxis\":{\"gridcolor\":\"white\",\"linecolor\":\"white\",\"ticks\":\"\"},\"bgcolor\":\"#E5ECF6\",\"radialaxis\":{\"gridcolor\":\"white\",\"linecolor\":\"white\",\"ticks\":\"\"}},\"scene\":{\"xaxis\":{\"backgroundcolor\":\"#E5ECF6\",\"gridcolor\":\"white\",\"gridwidth\":2,\"linecolor\":\"white\",\"showbackground\":true,\"ticks\":\"\",\"zerolinecolor\":\"white\"},\"yaxis\":{\"backgroundcolor\":\"#E5ECF6\",\"gridcolor\":\"white\",\"gridwidth\":2,\"linecolor\":\"white\",\"showbackground\":true,\"ticks\":\"\",\"zerolinecolor\":\"white\"},\"zaxis\":{\"backgroundcolor\":\"#E5ECF6\",\"gridcolor\":\"white\",\"gridwidth\":2,\"linecolor\":\"white\",\"showbackground\":true,\"ticks\":\"\",\"zerolinecolor\":\"white\"}},\"shapedefaults\":{\"line\":{\"color\":\"#2a3f5f\"}},\"ternary\":{\"aaxis\":{\"gridcolor\":\"white\",\"linecolor\":\"white\",\"ticks\":\"\"},\"baxis\":{\"gridcolor\":\"white\",\"linecolor\":\"white\",\"ticks\":\"\"},\"bgcolor\":\"#E5ECF6\",\"caxis\":{\"gridcolor\":\"white\",\"linecolor\":\"white\",\"ticks\":\"\"}},\"title\":{\"x\":0.05},\"xaxis\":{\"automargin\":true,\"gridcolor\":\"white\",\"linecolor\":\"white\",\"ticks\":\"\",\"title\":{\"standoff\":15},\"zerolinecolor\":\"white\",\"zerolinewidth\":2},\"yaxis\":{\"automargin\":true,\"gridcolor\":\"white\",\"linecolor\":\"white\",\"ticks\":\"\",\"title\":{\"standoff\":15},\"zerolinecolor\":\"white\",\"zerolinewidth\":2}}},\"title\":{\"text\":\"\\u0412\\u043e\\u0440\\u043e\\u043d\\u043a\\u0430 \\u0441\\u043e\\u0431\\u044b\\u0442\\u0438\\u0439\",\"y\":0.87,\"x\":0.562,\"xanchor\":\"center\",\"yanchor\":\"top\"},\"font\":{\"size\":14,\"color\":\"Black\"}},                        {\"responsive\": true}                    ).then(function(){\n",
       "                            \n",
       "var gd = document.getElementById('f2089cb7-29df-42d9-848d-034ea290c16a');\n",
       "var x = new MutationObserver(function (mutations, observer) {{\n",
       "        var display = window.getComputedStyle(gd).display;\n",
       "        if (!display || display === 'none') {{\n",
       "            console.log([gd, 'removed!']);\n",
       "            Plotly.purge(gd);\n",
       "            observer.disconnect();\n",
       "        }}\n",
       "}});\n",
       "\n",
       "// Listen for the removal of the full notebook cells\n",
       "var notebookContainer = gd.closest('#notebook-container');\n",
       "if (notebookContainer) {{\n",
       "    x.observe(notebookContainer, {childList: true});\n",
       "}}\n",
       "\n",
       "// Listen for the clearing of the current output cell\n",
       "var outputEl = gd.closest('.output');\n",
       "if (outputEl) {{\n",
       "    x.observe(outputEl, {childList: true});\n",
       "}}\n",
       "\n",
       "                        })                };                });            </script>        </div>"
      ]
     },
     "metadata": {},
     "output_type": "display_data"
    }
   ],
   "source": [
    "fig = go.Figure(go.Funnel(\n",
    "    y = list(user_num_per_event['event_name'].unique()),\n",
    "    x = list(user_num_per_event['users_number'].unique()),\n",
    "    textposition = \"inside\",\n",
    "    textinfo = \"value+percent initial\"))\n",
    "\n",
    "fig.update_layout(\n",
    "    title={\n",
    "        'text': \"Воронка событий\",\n",
    "        'y':0.87,\n",
    "        'x':0.562,\n",
    "        'xanchor': 'center',\n",
    "        'yanchor': 'top'},\n",
    "    font=dict(\n",
    "        size=14,\n",
    "        color='Black'\n",
    "    )\n",
    ")\n",
    "\n",
    "fig.show()"
   ]
  },
  {
   "cell_type": "markdown",
   "metadata": {},
   "source": [
    "Наибольшая потеря пользователей - около 38% - происходит при переходе в шаг `просмотр страницы предложения`. Возможно для данных пользователей предложение оказалось не таким привлекательным, чтобы продолжить покупки."
   ]
  },
  {
   "cell_type": "markdown",
   "metadata": {},
   "source": [
    "#### Посмотрим, какая доля пользователей доходит от первого шага в воронке событий до оплаты покупки."
   ]
  },
  {
   "cell_type": "code",
   "execution_count": 23,
   "metadata": {},
   "outputs": [
    {
     "name": "stdout",
     "output_type": "stream",
     "text": [
      "До оплаты покупки доходит 47.7% пользователей.\n"
     ]
    }
   ],
   "source": [
    "print(f'До оплаты покупки доходит \\\n",
    "{round((user_num_per_event[\"users_number\"].iloc[-1] / user_num_per_event[\"users_number\"].iloc[0]) * 100, 2)}% пользователей.')"
   ]
  },
  {
   "cell_type": "markdown",
   "metadata": {},
   "source": [
    "Примерно половина пришедших в приложение пользователей доходит до покупки, что является достаточно высоким показателем."
   ]
  },
  {
   "cell_type": "markdown",
   "metadata": {},
   "source": [
    "#### Рассмотрим воронку событий для каждой из групп по отдельности."
   ]
  },
  {
   "cell_type": "code",
   "execution_count": 24,
   "metadata": {},
   "outputs": [],
   "source": [
    "def events_funnel_by_group(data: pd.DataFrame, group_num: list, display_table=True) -> pd.DataFrame:\n",
    "    group_data = data.query('group in @group_num')\n",
    "    group_data_funnel = group_data.groupby('event_name', as_index=False).agg({'user_id': 'nunique'})\n",
    "    group_data_funnel.columns = ['event_name', 'users_number']\n",
    "    # подсчет общей конверсии\n",
    "    group_data_funnel['conversion'] = group_data_funnel['users_number'] / len(group_data['user_id'].unique())\n",
    "    # подсчет конверсии в шаг\n",
    "    group_data_funnel = group_data_funnel.sort_values(by='users_number', ascending=False).reset_index(drop=True)\n",
    "    group_data_funnel['previous_step_users'] = group_data_funnel['users_number'].shift(1)\n",
    "    group_data_funnel = group_data_funnel.fillna(group_data_funnel['users_number'][0])\n",
    "    group_data_funnel['conversion_in_step'] = group_data_funnel['users_number'] / group_data_funnel['previous_step_users']\n",
    "    group_data_funnel = group_data_funnel.drop(['previous_step_users'], axis=1)\n",
    "    if display_table:\n",
    "        display(group_data_funnel.iloc[0:4].style.format({'conversion': '{:.2%}', 'conversion_in_step': '{:.2%}', \\\n",
    "                                               'previous_step_users': '{:.0f}'}))\n",
    "    return group_data_funnel"
   ]
  },
  {
   "cell_type": "code",
   "execution_count": 25,
   "metadata": {
    "scrolled": false
   },
   "outputs": [
    {
     "data": {
      "text/html": [
       "<style  type=\"text/css\" >\n",
       "</style><table id=\"T_1c193_\" ><thead>    <tr>        <th class=\"blank level0\" ></th>        <th class=\"col_heading level0 col0\" >event_name</th>        <th class=\"col_heading level0 col1\" >users_number</th>        <th class=\"col_heading level0 col2\" >conversion</th>        <th class=\"col_heading level0 col3\" >conversion_in_step</th>    </tr></thead><tbody>\n",
       "                <tr>\n",
       "                        <th id=\"T_1c193_level0_row0\" class=\"row_heading level0 row0\" >0</th>\n",
       "                        <td id=\"T_1c193_row0_col0\" class=\"data row0 col0\" >MainScreenAppear</td>\n",
       "                        <td id=\"T_1c193_row0_col1\" class=\"data row0 col1\" >2450</td>\n",
       "                        <td id=\"T_1c193_row0_col2\" class=\"data row0 col2\" >98.63%</td>\n",
       "                        <td id=\"T_1c193_row0_col3\" class=\"data row0 col3\" >100.00%</td>\n",
       "            </tr>\n",
       "            <tr>\n",
       "                        <th id=\"T_1c193_level0_row1\" class=\"row_heading level0 row1\" >1</th>\n",
       "                        <td id=\"T_1c193_row1_col0\" class=\"data row1 col0\" >OffersScreenAppear</td>\n",
       "                        <td id=\"T_1c193_row1_col1\" class=\"data row1 col1\" >1542</td>\n",
       "                        <td id=\"T_1c193_row1_col2\" class=\"data row1 col2\" >62.08%</td>\n",
       "                        <td id=\"T_1c193_row1_col3\" class=\"data row1 col3\" >62.94%</td>\n",
       "            </tr>\n",
       "            <tr>\n",
       "                        <th id=\"T_1c193_level0_row2\" class=\"row_heading level0 row2\" >2</th>\n",
       "                        <td id=\"T_1c193_row2_col0\" class=\"data row2 col0\" >CartScreenAppear</td>\n",
       "                        <td id=\"T_1c193_row2_col1\" class=\"data row2 col1\" >1266</td>\n",
       "                        <td id=\"T_1c193_row2_col2\" class=\"data row2 col2\" >50.97%</td>\n",
       "                        <td id=\"T_1c193_row2_col3\" class=\"data row2 col3\" >82.10%</td>\n",
       "            </tr>\n",
       "            <tr>\n",
       "                        <th id=\"T_1c193_level0_row3\" class=\"row_heading level0 row3\" >3</th>\n",
       "                        <td id=\"T_1c193_row3_col0\" class=\"data row3 col0\" >PaymentScreenSuccessful</td>\n",
       "                        <td id=\"T_1c193_row3_col1\" class=\"data row3 col1\" >1200</td>\n",
       "                        <td id=\"T_1c193_row3_col2\" class=\"data row3 col2\" >48.31%</td>\n",
       "                        <td id=\"T_1c193_row3_col3\" class=\"data row3 col3\" >94.79%</td>\n",
       "            </tr>\n",
       "    </tbody></table>"
      ],
      "text/plain": [
       "<pandas.io.formats.style.Styler at 0x1cc6d7bd820>"
      ]
     },
     "metadata": {},
     "output_type": "display_data"
    },
    {
     "data": {
      "text/html": [
       "<style  type=\"text/css\" >\n",
       "</style><table id=\"T_28852_\" ><thead>    <tr>        <th class=\"blank level0\" ></th>        <th class=\"col_heading level0 col0\" >event_name</th>        <th class=\"col_heading level0 col1\" >users_number</th>        <th class=\"col_heading level0 col2\" >conversion</th>        <th class=\"col_heading level0 col3\" >conversion_in_step</th>    </tr></thead><tbody>\n",
       "                <tr>\n",
       "                        <th id=\"T_28852_level0_row0\" class=\"row_heading level0 row0\" >0</th>\n",
       "                        <td id=\"T_28852_row0_col0\" class=\"data row0 col0\" >MainScreenAppear</td>\n",
       "                        <td id=\"T_28852_row0_col1\" class=\"data row0 col1\" >2476</td>\n",
       "                        <td id=\"T_28852_row0_col2\" class=\"data row0 col2\" >98.53%</td>\n",
       "                        <td id=\"T_28852_row0_col3\" class=\"data row0 col3\" >100.00%</td>\n",
       "            </tr>\n",
       "            <tr>\n",
       "                        <th id=\"T_28852_level0_row1\" class=\"row_heading level0 row1\" >1</th>\n",
       "                        <td id=\"T_28852_row1_col0\" class=\"data row1 col0\" >OffersScreenAppear</td>\n",
       "                        <td id=\"T_28852_row1_col1\" class=\"data row1 col1\" >1520</td>\n",
       "                        <td id=\"T_28852_row1_col2\" class=\"data row1 col2\" >60.49%</td>\n",
       "                        <td id=\"T_28852_row1_col3\" class=\"data row1 col3\" >61.39%</td>\n",
       "            </tr>\n",
       "            <tr>\n",
       "                        <th id=\"T_28852_level0_row2\" class=\"row_heading level0 row2\" >2</th>\n",
       "                        <td id=\"T_28852_row2_col0\" class=\"data row2 col0\" >CartScreenAppear</td>\n",
       "                        <td id=\"T_28852_row2_col1\" class=\"data row2 col1\" >1238</td>\n",
       "                        <td id=\"T_28852_row2_col2\" class=\"data row2 col2\" >49.26%</td>\n",
       "                        <td id=\"T_28852_row2_col3\" class=\"data row2 col3\" >81.45%</td>\n",
       "            </tr>\n",
       "            <tr>\n",
       "                        <th id=\"T_28852_level0_row3\" class=\"row_heading level0 row3\" >3</th>\n",
       "                        <td id=\"T_28852_row3_col0\" class=\"data row3 col0\" >PaymentScreenSuccessful</td>\n",
       "                        <td id=\"T_28852_row3_col1\" class=\"data row3 col1\" >1158</td>\n",
       "                        <td id=\"T_28852_row3_col2\" class=\"data row3 col2\" >46.08%</td>\n",
       "                        <td id=\"T_28852_row3_col3\" class=\"data row3 col3\" >93.54%</td>\n",
       "            </tr>\n",
       "    </tbody></table>"
      ],
      "text/plain": [
       "<pandas.io.formats.style.Styler at 0x1cc6e600550>"
      ]
     },
     "metadata": {},
     "output_type": "display_data"
    },
    {
     "data": {
      "text/html": [
       "<style  type=\"text/css\" >\n",
       "</style><table id=\"T_67d2b_\" ><thead>    <tr>        <th class=\"blank level0\" ></th>        <th class=\"col_heading level0 col0\" >event_name</th>        <th class=\"col_heading level0 col1\" >users_number</th>        <th class=\"col_heading level0 col2\" >conversion</th>        <th class=\"col_heading level0 col3\" >conversion_in_step</th>    </tr></thead><tbody>\n",
       "                <tr>\n",
       "                        <th id=\"T_67d2b_level0_row0\" class=\"row_heading level0 row0\" >0</th>\n",
       "                        <td id=\"T_67d2b_row0_col0\" class=\"data row0 col0\" >MainScreenAppear</td>\n",
       "                        <td id=\"T_67d2b_row0_col1\" class=\"data row0 col1\" >2493</td>\n",
       "                        <td id=\"T_67d2b_row0_col2\" class=\"data row0 col2\" >98.27%</td>\n",
       "                        <td id=\"T_67d2b_row0_col3\" class=\"data row0 col3\" >100.00%</td>\n",
       "            </tr>\n",
       "            <tr>\n",
       "                        <th id=\"T_67d2b_level0_row1\" class=\"row_heading level0 row1\" >1</th>\n",
       "                        <td id=\"T_67d2b_row1_col0\" class=\"data row1 col0\" >OffersScreenAppear</td>\n",
       "                        <td id=\"T_67d2b_row1_col1\" class=\"data row1 col1\" >1531</td>\n",
       "                        <td id=\"T_67d2b_row1_col2\" class=\"data row1 col2\" >60.35%</td>\n",
       "                        <td id=\"T_67d2b_row1_col3\" class=\"data row1 col3\" >61.41%</td>\n",
       "            </tr>\n",
       "            <tr>\n",
       "                        <th id=\"T_67d2b_level0_row2\" class=\"row_heading level0 row2\" >2</th>\n",
       "                        <td id=\"T_67d2b_row2_col0\" class=\"data row2 col0\" >CartScreenAppear</td>\n",
       "                        <td id=\"T_67d2b_row2_col1\" class=\"data row2 col1\" >1230</td>\n",
       "                        <td id=\"T_67d2b_row2_col2\" class=\"data row2 col2\" >48.48%</td>\n",
       "                        <td id=\"T_67d2b_row2_col3\" class=\"data row2 col3\" >80.34%</td>\n",
       "            </tr>\n",
       "            <tr>\n",
       "                        <th id=\"T_67d2b_level0_row3\" class=\"row_heading level0 row3\" >3</th>\n",
       "                        <td id=\"T_67d2b_row3_col0\" class=\"data row3 col0\" >PaymentScreenSuccessful</td>\n",
       "                        <td id=\"T_67d2b_row3_col1\" class=\"data row3 col1\" >1181</td>\n",
       "                        <td id=\"T_67d2b_row3_col2\" class=\"data row3 col2\" >46.55%</td>\n",
       "                        <td id=\"T_67d2b_row3_col3\" class=\"data row3 col3\" >96.02%</td>\n",
       "            </tr>\n",
       "    </tbody></table>"
      ],
      "text/plain": [
       "<pandas.io.formats.style.Styler at 0x1cc6e6001f0>"
      ]
     },
     "metadata": {},
     "output_type": "display_data"
    }
   ],
   "source": [
    "events_funnel_246 = events_funnel_by_group(data=filtered_data, group_num=[246])\n",
    "events_funnel_247 = events_funnel_by_group(data=filtered_data, group_num=[247])\n",
    "events_funnel_248 = events_funnel_by_group(data=filtered_data, group_num=[248])"
   ]
  },
  {
   "cell_type": "code",
   "execution_count": 63,
   "metadata": {},
   "outputs": [
    {
     "data": {
      "application/vnd.plotly.v1+json": {
       "config": {
        "plotlyServerURL": "https://plot.ly"
       },
       "data": [
        {
         "name": "group_246",
         "textinfo": "value+percent initial",
         "type": "funnel",
         "x": [
          2450,
          1542,
          1266,
          1200
         ],
         "y": [
          "MainScreenAppear",
          "OffersScreenAppear",
          "CartScreenAppear",
          "PaymentScreenSuccessful"
         ]
        },
        {
         "name": "group_247",
         "orientation": "h",
         "textinfo": "value+percent initial",
         "textposition": "inside",
         "type": "funnel",
         "x": [
          2476,
          1520,
          1238,
          1158
         ],
         "y": [
          "MainScreenAppear",
          "OffersScreenAppear",
          "CartScreenAppear",
          "PaymentScreenSuccessful"
         ]
        },
        {
         "name": "group_248",
         "orientation": "h",
         "textinfo": "value+percent initial",
         "textposition": "inside",
         "type": "funnel",
         "x": [
          2493,
          1531,
          1230,
          1181
         ],
         "y": [
          "MainScreenAppear",
          "OffersScreenAppear",
          "CartScreenAppear",
          "PaymentScreenSuccessful"
         ]
        }
       ],
       "layout": {
        "font": {
         "color": "Black",
         "size": 14
        },
        "template": {
         "data": {
          "bar": [
           {
            "error_x": {
             "color": "#2a3f5f"
            },
            "error_y": {
             "color": "#2a3f5f"
            },
            "marker": {
             "line": {
              "color": "#E5ECF6",
              "width": 0.5
             },
             "pattern": {
              "fillmode": "overlay",
              "size": 10,
              "solidity": 0.2
             }
            },
            "type": "bar"
           }
          ],
          "barpolar": [
           {
            "marker": {
             "line": {
              "color": "#E5ECF6",
              "width": 0.5
             },
             "pattern": {
              "fillmode": "overlay",
              "size": 10,
              "solidity": 0.2
             }
            },
            "type": "barpolar"
           }
          ],
          "carpet": [
           {
            "aaxis": {
             "endlinecolor": "#2a3f5f",
             "gridcolor": "white",
             "linecolor": "white",
             "minorgridcolor": "white",
             "startlinecolor": "#2a3f5f"
            },
            "baxis": {
             "endlinecolor": "#2a3f5f",
             "gridcolor": "white",
             "linecolor": "white",
             "minorgridcolor": "white",
             "startlinecolor": "#2a3f5f"
            },
            "type": "carpet"
           }
          ],
          "choropleth": [
           {
            "colorbar": {
             "outlinewidth": 0,
             "ticks": ""
            },
            "type": "choropleth"
           }
          ],
          "contour": [
           {
            "colorbar": {
             "outlinewidth": 0,
             "ticks": ""
            },
            "colorscale": [
             [
              0,
              "#0d0887"
             ],
             [
              0.1111111111111111,
              "#46039f"
             ],
             [
              0.2222222222222222,
              "#7201a8"
             ],
             [
              0.3333333333333333,
              "#9c179e"
             ],
             [
              0.4444444444444444,
              "#bd3786"
             ],
             [
              0.5555555555555556,
              "#d8576b"
             ],
             [
              0.6666666666666666,
              "#ed7953"
             ],
             [
              0.7777777777777778,
              "#fb9f3a"
             ],
             [
              0.8888888888888888,
              "#fdca26"
             ],
             [
              1,
              "#f0f921"
             ]
            ],
            "type": "contour"
           }
          ],
          "contourcarpet": [
           {
            "colorbar": {
             "outlinewidth": 0,
             "ticks": ""
            },
            "type": "contourcarpet"
           }
          ],
          "heatmap": [
           {
            "colorbar": {
             "outlinewidth": 0,
             "ticks": ""
            },
            "colorscale": [
             [
              0,
              "#0d0887"
             ],
             [
              0.1111111111111111,
              "#46039f"
             ],
             [
              0.2222222222222222,
              "#7201a8"
             ],
             [
              0.3333333333333333,
              "#9c179e"
             ],
             [
              0.4444444444444444,
              "#bd3786"
             ],
             [
              0.5555555555555556,
              "#d8576b"
             ],
             [
              0.6666666666666666,
              "#ed7953"
             ],
             [
              0.7777777777777778,
              "#fb9f3a"
             ],
             [
              0.8888888888888888,
              "#fdca26"
             ],
             [
              1,
              "#f0f921"
             ]
            ],
            "type": "heatmap"
           }
          ],
          "heatmapgl": [
           {
            "colorbar": {
             "outlinewidth": 0,
             "ticks": ""
            },
            "colorscale": [
             [
              0,
              "#0d0887"
             ],
             [
              0.1111111111111111,
              "#46039f"
             ],
             [
              0.2222222222222222,
              "#7201a8"
             ],
             [
              0.3333333333333333,
              "#9c179e"
             ],
             [
              0.4444444444444444,
              "#bd3786"
             ],
             [
              0.5555555555555556,
              "#d8576b"
             ],
             [
              0.6666666666666666,
              "#ed7953"
             ],
             [
              0.7777777777777778,
              "#fb9f3a"
             ],
             [
              0.8888888888888888,
              "#fdca26"
             ],
             [
              1,
              "#f0f921"
             ]
            ],
            "type": "heatmapgl"
           }
          ],
          "histogram": [
           {
            "marker": {
             "pattern": {
              "fillmode": "overlay",
              "size": 10,
              "solidity": 0.2
             }
            },
            "type": "histogram"
           }
          ],
          "histogram2d": [
           {
            "colorbar": {
             "outlinewidth": 0,
             "ticks": ""
            },
            "colorscale": [
             [
              0,
              "#0d0887"
             ],
             [
              0.1111111111111111,
              "#46039f"
             ],
             [
              0.2222222222222222,
              "#7201a8"
             ],
             [
              0.3333333333333333,
              "#9c179e"
             ],
             [
              0.4444444444444444,
              "#bd3786"
             ],
             [
              0.5555555555555556,
              "#d8576b"
             ],
             [
              0.6666666666666666,
              "#ed7953"
             ],
             [
              0.7777777777777778,
              "#fb9f3a"
             ],
             [
              0.8888888888888888,
              "#fdca26"
             ],
             [
              1,
              "#f0f921"
             ]
            ],
            "type": "histogram2d"
           }
          ],
          "histogram2dcontour": [
           {
            "colorbar": {
             "outlinewidth": 0,
             "ticks": ""
            },
            "colorscale": [
             [
              0,
              "#0d0887"
             ],
             [
              0.1111111111111111,
              "#46039f"
             ],
             [
              0.2222222222222222,
              "#7201a8"
             ],
             [
              0.3333333333333333,
              "#9c179e"
             ],
             [
              0.4444444444444444,
              "#bd3786"
             ],
             [
              0.5555555555555556,
              "#d8576b"
             ],
             [
              0.6666666666666666,
              "#ed7953"
             ],
             [
              0.7777777777777778,
              "#fb9f3a"
             ],
             [
              0.8888888888888888,
              "#fdca26"
             ],
             [
              1,
              "#f0f921"
             ]
            ],
            "type": "histogram2dcontour"
           }
          ],
          "mesh3d": [
           {
            "colorbar": {
             "outlinewidth": 0,
             "ticks": ""
            },
            "type": "mesh3d"
           }
          ],
          "parcoords": [
           {
            "line": {
             "colorbar": {
              "outlinewidth": 0,
              "ticks": ""
             }
            },
            "type": "parcoords"
           }
          ],
          "pie": [
           {
            "automargin": true,
            "type": "pie"
           }
          ],
          "scatter": [
           {
            "marker": {
             "colorbar": {
              "outlinewidth": 0,
              "ticks": ""
             }
            },
            "type": "scatter"
           }
          ],
          "scatter3d": [
           {
            "line": {
             "colorbar": {
              "outlinewidth": 0,
              "ticks": ""
             }
            },
            "marker": {
             "colorbar": {
              "outlinewidth": 0,
              "ticks": ""
             }
            },
            "type": "scatter3d"
           }
          ],
          "scattercarpet": [
           {
            "marker": {
             "colorbar": {
              "outlinewidth": 0,
              "ticks": ""
             }
            },
            "type": "scattercarpet"
           }
          ],
          "scattergeo": [
           {
            "marker": {
             "colorbar": {
              "outlinewidth": 0,
              "ticks": ""
             }
            },
            "type": "scattergeo"
           }
          ],
          "scattergl": [
           {
            "marker": {
             "colorbar": {
              "outlinewidth": 0,
              "ticks": ""
             }
            },
            "type": "scattergl"
           }
          ],
          "scattermapbox": [
           {
            "marker": {
             "colorbar": {
              "outlinewidth": 0,
              "ticks": ""
             }
            },
            "type": "scattermapbox"
           }
          ],
          "scatterpolar": [
           {
            "marker": {
             "colorbar": {
              "outlinewidth": 0,
              "ticks": ""
             }
            },
            "type": "scatterpolar"
           }
          ],
          "scatterpolargl": [
           {
            "marker": {
             "colorbar": {
              "outlinewidth": 0,
              "ticks": ""
             }
            },
            "type": "scatterpolargl"
           }
          ],
          "scatterternary": [
           {
            "marker": {
             "colorbar": {
              "outlinewidth": 0,
              "ticks": ""
             }
            },
            "type": "scatterternary"
           }
          ],
          "surface": [
           {
            "colorbar": {
             "outlinewidth": 0,
             "ticks": ""
            },
            "colorscale": [
             [
              0,
              "#0d0887"
             ],
             [
              0.1111111111111111,
              "#46039f"
             ],
             [
              0.2222222222222222,
              "#7201a8"
             ],
             [
              0.3333333333333333,
              "#9c179e"
             ],
             [
              0.4444444444444444,
              "#bd3786"
             ],
             [
              0.5555555555555556,
              "#d8576b"
             ],
             [
              0.6666666666666666,
              "#ed7953"
             ],
             [
              0.7777777777777778,
              "#fb9f3a"
             ],
             [
              0.8888888888888888,
              "#fdca26"
             ],
             [
              1,
              "#f0f921"
             ]
            ],
            "type": "surface"
           }
          ],
          "table": [
           {
            "cells": {
             "fill": {
              "color": "#EBF0F8"
             },
             "line": {
              "color": "white"
             }
            },
            "header": {
             "fill": {
              "color": "#C8D4E3"
             },
             "line": {
              "color": "white"
             }
            },
            "type": "table"
           }
          ]
         },
         "layout": {
          "annotationdefaults": {
           "arrowcolor": "#2a3f5f",
           "arrowhead": 0,
           "arrowwidth": 1
          },
          "autotypenumbers": "strict",
          "coloraxis": {
           "colorbar": {
            "outlinewidth": 0,
            "ticks": ""
           }
          },
          "colorscale": {
           "diverging": [
            [
             0,
             "#8e0152"
            ],
            [
             0.1,
             "#c51b7d"
            ],
            [
             0.2,
             "#de77ae"
            ],
            [
             0.3,
             "#f1b6da"
            ],
            [
             0.4,
             "#fde0ef"
            ],
            [
             0.5,
             "#f7f7f7"
            ],
            [
             0.6,
             "#e6f5d0"
            ],
            [
             0.7,
             "#b8e186"
            ],
            [
             0.8,
             "#7fbc41"
            ],
            [
             0.9,
             "#4d9221"
            ],
            [
             1,
             "#276419"
            ]
           ],
           "sequential": [
            [
             0,
             "#0d0887"
            ],
            [
             0.1111111111111111,
             "#46039f"
            ],
            [
             0.2222222222222222,
             "#7201a8"
            ],
            [
             0.3333333333333333,
             "#9c179e"
            ],
            [
             0.4444444444444444,
             "#bd3786"
            ],
            [
             0.5555555555555556,
             "#d8576b"
            ],
            [
             0.6666666666666666,
             "#ed7953"
            ],
            [
             0.7777777777777778,
             "#fb9f3a"
            ],
            [
             0.8888888888888888,
             "#fdca26"
            ],
            [
             1,
             "#f0f921"
            ]
           ],
           "sequentialminus": [
            [
             0,
             "#0d0887"
            ],
            [
             0.1111111111111111,
             "#46039f"
            ],
            [
             0.2222222222222222,
             "#7201a8"
            ],
            [
             0.3333333333333333,
             "#9c179e"
            ],
            [
             0.4444444444444444,
             "#bd3786"
            ],
            [
             0.5555555555555556,
             "#d8576b"
            ],
            [
             0.6666666666666666,
             "#ed7953"
            ],
            [
             0.7777777777777778,
             "#fb9f3a"
            ],
            [
             0.8888888888888888,
             "#fdca26"
            ],
            [
             1,
             "#f0f921"
            ]
           ]
          },
          "colorway": [
           "#636efa",
           "#EF553B",
           "#00cc96",
           "#ab63fa",
           "#FFA15A",
           "#19d3f3",
           "#FF6692",
           "#B6E880",
           "#FF97FF",
           "#FECB52"
          ],
          "font": {
           "color": "#2a3f5f"
          },
          "geo": {
           "bgcolor": "white",
           "lakecolor": "white",
           "landcolor": "#E5ECF6",
           "showlakes": true,
           "showland": true,
           "subunitcolor": "white"
          },
          "hoverlabel": {
           "align": "left"
          },
          "hovermode": "closest",
          "mapbox": {
           "style": "light"
          },
          "paper_bgcolor": "white",
          "plot_bgcolor": "#E5ECF6",
          "polar": {
           "angularaxis": {
            "gridcolor": "white",
            "linecolor": "white",
            "ticks": ""
           },
           "bgcolor": "#E5ECF6",
           "radialaxis": {
            "gridcolor": "white",
            "linecolor": "white",
            "ticks": ""
           }
          },
          "scene": {
           "xaxis": {
            "backgroundcolor": "#E5ECF6",
            "gridcolor": "white",
            "gridwidth": 2,
            "linecolor": "white",
            "showbackground": true,
            "ticks": "",
            "zerolinecolor": "white"
           },
           "yaxis": {
            "backgroundcolor": "#E5ECF6",
            "gridcolor": "white",
            "gridwidth": 2,
            "linecolor": "white",
            "showbackground": true,
            "ticks": "",
            "zerolinecolor": "white"
           },
           "zaxis": {
            "backgroundcolor": "#E5ECF6",
            "gridcolor": "white",
            "gridwidth": 2,
            "linecolor": "white",
            "showbackground": true,
            "ticks": "",
            "zerolinecolor": "white"
           }
          },
          "shapedefaults": {
           "line": {
            "color": "#2a3f5f"
           }
          },
          "ternary": {
           "aaxis": {
            "gridcolor": "white",
            "linecolor": "white",
            "ticks": ""
           },
           "baxis": {
            "gridcolor": "white",
            "linecolor": "white",
            "ticks": ""
           },
           "bgcolor": "#E5ECF6",
           "caxis": {
            "gridcolor": "white",
            "linecolor": "white",
            "ticks": ""
           }
          },
          "title": {
           "x": 0.05
          },
          "xaxis": {
           "automargin": true,
           "gridcolor": "white",
           "linecolor": "white",
           "ticks": "",
           "title": {
            "standoff": 15
           },
           "zerolinecolor": "white",
           "zerolinewidth": 2
          },
          "yaxis": {
           "automargin": true,
           "gridcolor": "white",
           "linecolor": "white",
           "ticks": "",
           "title": {
            "standoff": 15
           },
           "zerolinecolor": "white",
           "zerolinewidth": 2
          }
         }
        },
        "title": {
         "text": "Воронка событий в разбивке по группам",
         "x": 0.52,
         "xanchor": "center",
         "y": 0.87,
         "yanchor": "top"
        }
       }
      },
      "text/html": [
       "<div>                            <div id=\"85c2b459-f024-45bf-8e90-8b993b508e22\" class=\"plotly-graph-div\" style=\"height:525px; width:100%;\"></div>            <script type=\"text/javascript\">                require([\"plotly\"], function(Plotly) {                    window.PLOTLYENV=window.PLOTLYENV || {};                                    if (document.getElementById(\"85c2b459-f024-45bf-8e90-8b993b508e22\")) {                    Plotly.newPlot(                        \"85c2b459-f024-45bf-8e90-8b993b508e22\",                        [{\"name\":\"group_246\",\"textinfo\":\"value+percent initial\",\"x\":[2450,1542,1266,1200],\"y\":[\"MainScreenAppear\",\"OffersScreenAppear\",\"CartScreenAppear\",\"PaymentScreenSuccessful\"],\"type\":\"funnel\"},{\"name\":\"group_247\",\"orientation\":\"h\",\"textinfo\":\"value+percent initial\",\"textposition\":\"inside\",\"x\":[2476,1520,1238,1158],\"y\":[\"MainScreenAppear\",\"OffersScreenAppear\",\"CartScreenAppear\",\"PaymentScreenSuccessful\"],\"type\":\"funnel\"},{\"name\":\"group_248\",\"orientation\":\"h\",\"textinfo\":\"value+percent initial\",\"textposition\":\"inside\",\"x\":[2493,1531,1230,1181],\"y\":[\"MainScreenAppear\",\"OffersScreenAppear\",\"CartScreenAppear\",\"PaymentScreenSuccessful\"],\"type\":\"funnel\"}],                        {\"template\":{\"data\":{\"bar\":[{\"error_x\":{\"color\":\"#2a3f5f\"},\"error_y\":{\"color\":\"#2a3f5f\"},\"marker\":{\"line\":{\"color\":\"#E5ECF6\",\"width\":0.5},\"pattern\":{\"fillmode\":\"overlay\",\"size\":10,\"solidity\":0.2}},\"type\":\"bar\"}],\"barpolar\":[{\"marker\":{\"line\":{\"color\":\"#E5ECF6\",\"width\":0.5},\"pattern\":{\"fillmode\":\"overlay\",\"size\":10,\"solidity\":0.2}},\"type\":\"barpolar\"}],\"carpet\":[{\"aaxis\":{\"endlinecolor\":\"#2a3f5f\",\"gridcolor\":\"white\",\"linecolor\":\"white\",\"minorgridcolor\":\"white\",\"startlinecolor\":\"#2a3f5f\"},\"baxis\":{\"endlinecolor\":\"#2a3f5f\",\"gridcolor\":\"white\",\"linecolor\":\"white\",\"minorgridcolor\":\"white\",\"startlinecolor\":\"#2a3f5f\"},\"type\":\"carpet\"}],\"choropleth\":[{\"colorbar\":{\"outlinewidth\":0,\"ticks\":\"\"},\"type\":\"choropleth\"}],\"contour\":[{\"colorbar\":{\"outlinewidth\":0,\"ticks\":\"\"},\"colorscale\":[[0.0,\"#0d0887\"],[0.1111111111111111,\"#46039f\"],[0.2222222222222222,\"#7201a8\"],[0.3333333333333333,\"#9c179e\"],[0.4444444444444444,\"#bd3786\"],[0.5555555555555556,\"#d8576b\"],[0.6666666666666666,\"#ed7953\"],[0.7777777777777778,\"#fb9f3a\"],[0.8888888888888888,\"#fdca26\"],[1.0,\"#f0f921\"]],\"type\":\"contour\"}],\"contourcarpet\":[{\"colorbar\":{\"outlinewidth\":0,\"ticks\":\"\"},\"type\":\"contourcarpet\"}],\"heatmap\":[{\"colorbar\":{\"outlinewidth\":0,\"ticks\":\"\"},\"colorscale\":[[0.0,\"#0d0887\"],[0.1111111111111111,\"#46039f\"],[0.2222222222222222,\"#7201a8\"],[0.3333333333333333,\"#9c179e\"],[0.4444444444444444,\"#bd3786\"],[0.5555555555555556,\"#d8576b\"],[0.6666666666666666,\"#ed7953\"],[0.7777777777777778,\"#fb9f3a\"],[0.8888888888888888,\"#fdca26\"],[1.0,\"#f0f921\"]],\"type\":\"heatmap\"}],\"heatmapgl\":[{\"colorbar\":{\"outlinewidth\":0,\"ticks\":\"\"},\"colorscale\":[[0.0,\"#0d0887\"],[0.1111111111111111,\"#46039f\"],[0.2222222222222222,\"#7201a8\"],[0.3333333333333333,\"#9c179e\"],[0.4444444444444444,\"#bd3786\"],[0.5555555555555556,\"#d8576b\"],[0.6666666666666666,\"#ed7953\"],[0.7777777777777778,\"#fb9f3a\"],[0.8888888888888888,\"#fdca26\"],[1.0,\"#f0f921\"]],\"type\":\"heatmapgl\"}],\"histogram\":[{\"marker\":{\"pattern\":{\"fillmode\":\"overlay\",\"size\":10,\"solidity\":0.2}},\"type\":\"histogram\"}],\"histogram2d\":[{\"colorbar\":{\"outlinewidth\":0,\"ticks\":\"\"},\"colorscale\":[[0.0,\"#0d0887\"],[0.1111111111111111,\"#46039f\"],[0.2222222222222222,\"#7201a8\"],[0.3333333333333333,\"#9c179e\"],[0.4444444444444444,\"#bd3786\"],[0.5555555555555556,\"#d8576b\"],[0.6666666666666666,\"#ed7953\"],[0.7777777777777778,\"#fb9f3a\"],[0.8888888888888888,\"#fdca26\"],[1.0,\"#f0f921\"]],\"type\":\"histogram2d\"}],\"histogram2dcontour\":[{\"colorbar\":{\"outlinewidth\":0,\"ticks\":\"\"},\"colorscale\":[[0.0,\"#0d0887\"],[0.1111111111111111,\"#46039f\"],[0.2222222222222222,\"#7201a8\"],[0.3333333333333333,\"#9c179e\"],[0.4444444444444444,\"#bd3786\"],[0.5555555555555556,\"#d8576b\"],[0.6666666666666666,\"#ed7953\"],[0.7777777777777778,\"#fb9f3a\"],[0.8888888888888888,\"#fdca26\"],[1.0,\"#f0f921\"]],\"type\":\"histogram2dcontour\"}],\"mesh3d\":[{\"colorbar\":{\"outlinewidth\":0,\"ticks\":\"\"},\"type\":\"mesh3d\"}],\"parcoords\":[{\"line\":{\"colorbar\":{\"outlinewidth\":0,\"ticks\":\"\"}},\"type\":\"parcoords\"}],\"pie\":[{\"automargin\":true,\"type\":\"pie\"}],\"scatter\":[{\"marker\":{\"colorbar\":{\"outlinewidth\":0,\"ticks\":\"\"}},\"type\":\"scatter\"}],\"scatter3d\":[{\"line\":{\"colorbar\":{\"outlinewidth\":0,\"ticks\":\"\"}},\"marker\":{\"colorbar\":{\"outlinewidth\":0,\"ticks\":\"\"}},\"type\":\"scatter3d\"}],\"scattercarpet\":[{\"marker\":{\"colorbar\":{\"outlinewidth\":0,\"ticks\":\"\"}},\"type\":\"scattercarpet\"}],\"scattergeo\":[{\"marker\":{\"colorbar\":{\"outlinewidth\":0,\"ticks\":\"\"}},\"type\":\"scattergeo\"}],\"scattergl\":[{\"marker\":{\"colorbar\":{\"outlinewidth\":0,\"ticks\":\"\"}},\"type\":\"scattergl\"}],\"scattermapbox\":[{\"marker\":{\"colorbar\":{\"outlinewidth\":0,\"ticks\":\"\"}},\"type\":\"scattermapbox\"}],\"scatterpolar\":[{\"marker\":{\"colorbar\":{\"outlinewidth\":0,\"ticks\":\"\"}},\"type\":\"scatterpolar\"}],\"scatterpolargl\":[{\"marker\":{\"colorbar\":{\"outlinewidth\":0,\"ticks\":\"\"}},\"type\":\"scatterpolargl\"}],\"scatterternary\":[{\"marker\":{\"colorbar\":{\"outlinewidth\":0,\"ticks\":\"\"}},\"type\":\"scatterternary\"}],\"surface\":[{\"colorbar\":{\"outlinewidth\":0,\"ticks\":\"\"},\"colorscale\":[[0.0,\"#0d0887\"],[0.1111111111111111,\"#46039f\"],[0.2222222222222222,\"#7201a8\"],[0.3333333333333333,\"#9c179e\"],[0.4444444444444444,\"#bd3786\"],[0.5555555555555556,\"#d8576b\"],[0.6666666666666666,\"#ed7953\"],[0.7777777777777778,\"#fb9f3a\"],[0.8888888888888888,\"#fdca26\"],[1.0,\"#f0f921\"]],\"type\":\"surface\"}],\"table\":[{\"cells\":{\"fill\":{\"color\":\"#EBF0F8\"},\"line\":{\"color\":\"white\"}},\"header\":{\"fill\":{\"color\":\"#C8D4E3\"},\"line\":{\"color\":\"white\"}},\"type\":\"table\"}]},\"layout\":{\"annotationdefaults\":{\"arrowcolor\":\"#2a3f5f\",\"arrowhead\":0,\"arrowwidth\":1},\"autotypenumbers\":\"strict\",\"coloraxis\":{\"colorbar\":{\"outlinewidth\":0,\"ticks\":\"\"}},\"colorscale\":{\"diverging\":[[0,\"#8e0152\"],[0.1,\"#c51b7d\"],[0.2,\"#de77ae\"],[0.3,\"#f1b6da\"],[0.4,\"#fde0ef\"],[0.5,\"#f7f7f7\"],[0.6,\"#e6f5d0\"],[0.7,\"#b8e186\"],[0.8,\"#7fbc41\"],[0.9,\"#4d9221\"],[1,\"#276419\"]],\"sequential\":[[0.0,\"#0d0887\"],[0.1111111111111111,\"#46039f\"],[0.2222222222222222,\"#7201a8\"],[0.3333333333333333,\"#9c179e\"],[0.4444444444444444,\"#bd3786\"],[0.5555555555555556,\"#d8576b\"],[0.6666666666666666,\"#ed7953\"],[0.7777777777777778,\"#fb9f3a\"],[0.8888888888888888,\"#fdca26\"],[1.0,\"#f0f921\"]],\"sequentialminus\":[[0.0,\"#0d0887\"],[0.1111111111111111,\"#46039f\"],[0.2222222222222222,\"#7201a8\"],[0.3333333333333333,\"#9c179e\"],[0.4444444444444444,\"#bd3786\"],[0.5555555555555556,\"#d8576b\"],[0.6666666666666666,\"#ed7953\"],[0.7777777777777778,\"#fb9f3a\"],[0.8888888888888888,\"#fdca26\"],[1.0,\"#f0f921\"]]},\"colorway\":[\"#636efa\",\"#EF553B\",\"#00cc96\",\"#ab63fa\",\"#FFA15A\",\"#19d3f3\",\"#FF6692\",\"#B6E880\",\"#FF97FF\",\"#FECB52\"],\"font\":{\"color\":\"#2a3f5f\"},\"geo\":{\"bgcolor\":\"white\",\"lakecolor\":\"white\",\"landcolor\":\"#E5ECF6\",\"showlakes\":true,\"showland\":true,\"subunitcolor\":\"white\"},\"hoverlabel\":{\"align\":\"left\"},\"hovermode\":\"closest\",\"mapbox\":{\"style\":\"light\"},\"paper_bgcolor\":\"white\",\"plot_bgcolor\":\"#E5ECF6\",\"polar\":{\"angularaxis\":{\"gridcolor\":\"white\",\"linecolor\":\"white\",\"ticks\":\"\"},\"bgcolor\":\"#E5ECF6\",\"radialaxis\":{\"gridcolor\":\"white\",\"linecolor\":\"white\",\"ticks\":\"\"}},\"scene\":{\"xaxis\":{\"backgroundcolor\":\"#E5ECF6\",\"gridcolor\":\"white\",\"gridwidth\":2,\"linecolor\":\"white\",\"showbackground\":true,\"ticks\":\"\",\"zerolinecolor\":\"white\"},\"yaxis\":{\"backgroundcolor\":\"#E5ECF6\",\"gridcolor\":\"white\",\"gridwidth\":2,\"linecolor\":\"white\",\"showbackground\":true,\"ticks\":\"\",\"zerolinecolor\":\"white\"},\"zaxis\":{\"backgroundcolor\":\"#E5ECF6\",\"gridcolor\":\"white\",\"gridwidth\":2,\"linecolor\":\"white\",\"showbackground\":true,\"ticks\":\"\",\"zerolinecolor\":\"white\"}},\"shapedefaults\":{\"line\":{\"color\":\"#2a3f5f\"}},\"ternary\":{\"aaxis\":{\"gridcolor\":\"white\",\"linecolor\":\"white\",\"ticks\":\"\"},\"baxis\":{\"gridcolor\":\"white\",\"linecolor\":\"white\",\"ticks\":\"\"},\"bgcolor\":\"#E5ECF6\",\"caxis\":{\"gridcolor\":\"white\",\"linecolor\":\"white\",\"ticks\":\"\"}},\"title\":{\"x\":0.05},\"xaxis\":{\"automargin\":true,\"gridcolor\":\"white\",\"linecolor\":\"white\",\"ticks\":\"\",\"title\":{\"standoff\":15},\"zerolinecolor\":\"white\",\"zerolinewidth\":2},\"yaxis\":{\"automargin\":true,\"gridcolor\":\"white\",\"linecolor\":\"white\",\"ticks\":\"\",\"title\":{\"standoff\":15},\"zerolinecolor\":\"white\",\"zerolinewidth\":2}}},\"title\":{\"text\":\"\\u0412\\u043e\\u0440\\u043e\\u043d\\u043a\\u0430 \\u0441\\u043e\\u0431\\u044b\\u0442\\u0438\\u0439 \\u0432 \\u0440\\u0430\\u0437\\u0431\\u0438\\u0432\\u043a\\u0435 \\u043f\\u043e \\u0433\\u0440\\u0443\\u043f\\u043f\\u0430\\u043c\",\"y\":0.87,\"x\":0.52,\"xanchor\":\"center\",\"yanchor\":\"top\"},\"font\":{\"size\":14,\"color\":\"Black\"}},                        {\"responsive\": true}                    ).then(function(){\n",
       "                            \n",
       "var gd = document.getElementById('85c2b459-f024-45bf-8e90-8b993b508e22');\n",
       "var x = new MutationObserver(function (mutations, observer) {{\n",
       "        var display = window.getComputedStyle(gd).display;\n",
       "        if (!display || display === 'none') {{\n",
       "            console.log([gd, 'removed!']);\n",
       "            Plotly.purge(gd);\n",
       "            observer.disconnect();\n",
       "        }}\n",
       "}});\n",
       "\n",
       "// Listen for the removal of the full notebook cells\n",
       "var notebookContainer = gd.closest('#notebook-container');\n",
       "if (notebookContainer) {{\n",
       "    x.observe(notebookContainer, {childList: true});\n",
       "}}\n",
       "\n",
       "// Listen for the clearing of the current output cell\n",
       "var outputEl = gd.closest('.output');\n",
       "if (outputEl) {{\n",
       "    x.observe(outputEl, {childList: true});\n",
       "}}\n",
       "\n",
       "                        })                };                });            </script>        </div>"
      ]
     },
     "metadata": {},
     "output_type": "display_data"
    }
   ],
   "source": [
    "fig = go.Figure()\n",
    "\n",
    "fig.add_trace(go.Funnel(\n",
    "    name = 'group_246',\n",
    "    y = list(events_funnel_246['event_name'][0:4]),\n",
    "    x = list(events_funnel_246['users_number'][0:4]),\n",
    "    textinfo = \"value+percent initial\")\n",
    ")\n",
    "\n",
    "fig.add_trace(go.Funnel(\n",
    "    name = 'group_247',\n",
    "    orientation = \"h\",\n",
    "    y = list(events_funnel_247['event_name'][0:4]),\n",
    "    x = list(events_funnel_247['users_number'][0:4]),\n",
    "    textposition = \"inside\",\n",
    "    textinfo = \"value+percent initial\")\n",
    ")\n",
    "\n",
    "fig.add_trace(go.Funnel(\n",
    "    name = 'group_248',\n",
    "    orientation = \"h\",\n",
    "    y = list(events_funnel_248['event_name'][0:4]),\n",
    "    x = list(events_funnel_248['users_number'][0:4]),\n",
    "    textposition = \"inside\",\n",
    "    textinfo = \"value+percent initial\")\n",
    ")\n",
    "\n",
    "fig.update_layout(\n",
    "    title={\n",
    "        'text': \"Воронка событий в разбивке по группам\",\n",
    "        'y':0.87,\n",
    "        'x':0.52,\n",
    "        'xanchor': 'center',\n",
    "        'yanchor': 'top'},\n",
    "    font=dict(\n",
    "        size=14,\n",
    "        color='Black'\n",
    "    )\n",
    ")\n",
    "\n",
    "fig.show()"
   ]
  },
  {
   "cell_type": "markdown",
   "metadata": {},
   "source": [
    "При рассмотрении каждой группы в отдельности в целом картина не меняется. Больше всего пользователей тяряется при переходе на шаг `просмотр страницы предложения`."
   ]
  },
  {
   "cell_type": "markdown",
   "metadata": {},
   "source": [
    "### Анализ результатов A/A/B-эксперимента"
   ]
  },
  {
   "cell_type": "markdown",
   "metadata": {},
   "source": [
    "#### Посмотрим, сколько пользователей в каждой группе"
   ]
  },
  {
   "cell_type": "code",
   "execution_count": 27,
   "metadata": {
    "scrolled": true
   },
   "outputs": [
    {
     "data": {
      "text/html": [
       "<div>\n",
       "<style scoped>\n",
       "    .dataframe tbody tr th:only-of-type {\n",
       "        vertical-align: middle;\n",
       "    }\n",
       "\n",
       "    .dataframe tbody tr th {\n",
       "        vertical-align: top;\n",
       "    }\n",
       "\n",
       "    .dataframe thead th {\n",
       "        text-align: right;\n",
       "    }\n",
       "</style>\n",
       "<table border=\"1\" class=\"dataframe\">\n",
       "  <thead>\n",
       "    <tr style=\"text-align: right;\">\n",
       "      <th></th>\n",
       "      <th>group</th>\n",
       "      <th>users_number</th>\n",
       "    </tr>\n",
       "  </thead>\n",
       "  <tbody>\n",
       "    <tr>\n",
       "      <th>0</th>\n",
       "      <td>246</td>\n",
       "      <td>2484</td>\n",
       "    </tr>\n",
       "    <tr>\n",
       "      <th>1</th>\n",
       "      <td>247</td>\n",
       "      <td>2513</td>\n",
       "    </tr>\n",
       "    <tr>\n",
       "      <th>2</th>\n",
       "      <td>248</td>\n",
       "      <td>2537</td>\n",
       "    </tr>\n",
       "  </tbody>\n",
       "</table>\n",
       "</div>"
      ],
      "text/plain": [
       "   group  users_number\n",
       "0    246          2484\n",
       "1    247          2513\n",
       "2    248          2537"
      ]
     },
     "execution_count": 27,
     "metadata": {},
     "output_type": "execute_result"
    }
   ],
   "source": [
    "users_number = filtered_data.groupby('group', as_index=False).agg({'user_id': 'nunique'})\n",
    "users_number.columns = ['group', 'users_number']\n",
    "users_number"
   ]
  },
  {
   "cell_type": "markdown",
   "metadata": {},
   "source": [
    "#### Посмотрим, есть ли статистически значимые различия между контрольными группами. \n",
    "Если между контрольными группами будут различия, то результаты эксперимента могут быть искажены, так как пользователи распределились между группами неравномерно (есть отличия в каком-то значимом признаке)."
   ]
  },
  {
   "cell_type": "markdown",
   "metadata": {},
   "source": [
    "С помощью Z-критерия, выясним есть ли различия между контрольными группами. \n",
    "\n",
    "Уровень значимости необходимо рассчитать с учетом поправки на множественные сравнения. Для этого воспользуемся методом Шидака, при этом количество сравнений будет равно 20 (так как всего сравнений будет 20), а $\\alpha$&nbsp;=&nbsp;0,05.\n",
    "\n",
    "Гипотезы:\n",
    "```\n",
    "H_0: Различий между группами нет.\n",
    "H_1: Различия в группах есть.\n",
    "```"
   ]
  },
  {
   "cell_type": "code",
   "execution_count": 28,
   "metadata": {},
   "outputs": [
    {
     "name": "stdout",
     "output_type": "stream",
     "text": [
      "Уровень значимости с поправкой = 0.00256\n"
     ]
    }
   ],
   "source": [
    "alpha = 0.05\n",
    "experiments_num = 20\n",
    "# метод Шидака\n",
    "alpha_m = round(1 - np.power((1 - alpha), (1 / experiments_num)), 5)\n",
    "print(f'Уровень значимости с поправкой = {alpha_m}')"
   ]
  },
  {
   "cell_type": "code",
   "execution_count": 29,
   "metadata": {},
   "outputs": [],
   "source": [
    "def group_comparison(users_quantity: pd.DataFrame, group_1_num: list, group_2_num: list,\n",
    "                    group_1: pd.DataFrame, group_2: pd.DataFrame, ):\n",
    "    group_1_size = users_quantity.query('group in @group_1_num')['users_number'].sum()\n",
    "    group_2_size = users_quantity.query('group in @group_2_num')['users_number'].sum()\n",
    "    nobs = list([group_1_size, group_2_size])\n",
    "    for i in range(len(group_1['event_name'])):\n",
    "        count = [group_1['users_number'][i], group_2['users_number'][i]]\n",
    "        stat, pval = proportions_ztest(count, nobs)\n",
    "        print(f'Сравнение долей на шаге {group_1[\"event_name\"][i]}:')\n",
    "        print(f'p-value = {pval:.3f}')\n",
    "        print()"
   ]
  },
  {
   "cell_type": "code",
   "execution_count": 30,
   "metadata": {},
   "outputs": [
    {
     "name": "stdout",
     "output_type": "stream",
     "text": [
      "Сравнение долей на шаге MainScreenAppear:\n",
      "p-value = 0.757\n",
      "\n",
      "Сравнение долей на шаге OffersScreenAppear:\n",
      "p-value = 0.248\n",
      "\n",
      "Сравнение долей на шаге CartScreenAppear:\n",
      "p-value = 0.229\n",
      "\n",
      "Сравнение долей на шаге PaymentScreenSuccessful:\n",
      "p-value = 0.115\n",
      "\n",
      "Сравнение долей на шаге Tutorial:\n",
      "p-value = 0.938\n",
      "\n"
     ]
    }
   ],
   "source": [
    "group_comparison(users_number, group_1_num=[246], group_2_num=[247], \n",
    "                 group_1=events_funnel_246, group_2=events_funnel_247)"
   ]
  },
  {
   "cell_type": "markdown",
   "metadata": {},
   "source": [
    "**Вывод:**\n",
    "\n",
    "Статистически значимых различий между контрольными группами нет. Можно сделать вывод о том, что разделение пользователей на группы прошло корректно."
   ]
  },
  {
   "cell_type": "markdown",
   "metadata": {},
   "source": [
    "#### Рассчитаем статистическую значимость различий для контрольных и тестовой групп попарно."
   ]
  },
  {
   "cell_type": "code",
   "execution_count": 31,
   "metadata": {
    "scrolled": false
   },
   "outputs": [
    {
     "name": "stdout",
     "output_type": "stream",
     "text": [
      "Сравнение долей на шаге MainScreenAppear:\n",
      "p-value = 0.295\n",
      "\n",
      "Сравнение долей на шаге OffersScreenAppear:\n",
      "p-value = 0.208\n",
      "\n",
      "Сравнение долей на шаге CartScreenAppear:\n",
      "p-value = 0.078\n",
      "\n",
      "Сравнение долей на шаге PaymentScreenSuccessful:\n",
      "p-value = 0.212\n",
      "\n",
      "Сравнение долей на шаге Tutorial:\n",
      "p-value = 0.826\n",
      "\n"
     ]
    }
   ],
   "source": [
    "group_comparison(users_number, group_1_num=[246], group_2_num=[248],\n",
    "                 group_1=events_funnel_246, group_2=events_funnel_248)"
   ]
  },
  {
   "cell_type": "markdown",
   "metadata": {},
   "source": [
    "**Вывод:**\n",
    "\n",
    "При сравнении контрольной группы 246 и тестовой 248 статистически значимых различий обнаружено не было."
   ]
  },
  {
   "cell_type": "code",
   "execution_count": 32,
   "metadata": {
    "scrolled": true
   },
   "outputs": [
    {
     "name": "stdout",
     "output_type": "stream",
     "text": [
      "Сравнение долей на шаге MainScreenAppear:\n",
      "p-value = 0.459\n",
      "\n",
      "Сравнение долей на шаге OffersScreenAppear:\n",
      "p-value = 0.920\n",
      "\n",
      "Сравнение долей на шаге CartScreenAppear:\n",
      "p-value = 0.579\n",
      "\n",
      "Сравнение долей на шаге PaymentScreenSuccessful:\n",
      "p-value = 0.737\n",
      "\n",
      "Сравнение долей на шаге Tutorial:\n",
      "p-value = 0.765\n",
      "\n"
     ]
    }
   ],
   "source": [
    "group_comparison(users_number, group_1_num=[247], group_2_num=[248],\n",
    "                 group_1=events_funnel_247, group_2=events_funnel_248)"
   ]
  },
  {
   "cell_type": "markdown",
   "metadata": {},
   "source": [
    "**Вывод:**\n",
    "\n",
    "При сравнении контрольной группы 247 и тестовой 248 статистически значимых различий обнаружено не было."
   ]
  },
  {
   "cell_type": "markdown",
   "metadata": {},
   "source": [
    "#### Рассчитаем статистическую значимость различий для объединенной контрольной и тестовой группы."
   ]
  },
  {
   "cell_type": "code",
   "execution_count": 33,
   "metadata": {},
   "outputs": [],
   "source": [
    "events_funnel_246_247 = events_funnel_by_group(data=filtered_data, group_num=[246, 247], display_table=False)"
   ]
  },
  {
   "cell_type": "code",
   "execution_count": 34,
   "metadata": {
    "scrolled": true
   },
   "outputs": [
    {
     "name": "stdout",
     "output_type": "stream",
     "text": [
      "Сравнение долей на шаге MainScreenAppear:\n",
      "p-value = 0.294\n",
      "\n",
      "Сравнение долей на шаге OffersScreenAppear:\n",
      "p-value = 0.434\n",
      "\n",
      "Сравнение долей на шаге CartScreenAppear:\n",
      "p-value = 0.182\n",
      "\n",
      "Сравнение долей на шаге PaymentScreenSuccessful:\n",
      "p-value = 0.600\n",
      "\n",
      "Сравнение долей на шаге Tutorial:\n",
      "p-value = 0.765\n",
      "\n"
     ]
    }
   ],
   "source": [
    "group_comparison(users_number, group_1_num=[246, 247], group_2_num=[248],\n",
    "                 group_1=events_funnel_246_247, group_2=events_funnel_248)"
   ]
  },
  {
   "cell_type": "markdown",
   "metadata": {},
   "source": [
    "**Вывод:**\n",
    "\n",
    "При сравнении объединенной контрольной групы и тестовой 248 статистически значимых различий обнаружено не было."
   ]
  },
  {
   "cell_type": "markdown",
   "metadata": {},
   "source": [
    "### Общий вывод:\n",
    "\n",
    "1. Воронка событий была выстроена следующим образом: `появление главного экрана` &rarr; `появление страницы с предложением` &rarr; `появление страницы с корзиной` &rarr; `появление страницы с сообщением об успешной оплате`. Шаг с просмотром обучения не вошел в воронку событий, так как он является не обязательным и большинство пользователей его не проходило.\n",
    "\n",
    "Практически все пользователи просматривали главную страницу, 61% пользователей видели страницу с предложением, около 50% пользователей заходили в корзину и успешну совершили покупку. Тьюториал просмотрели 11% пользователей.\n",
    "\n",
    "2. Наибольшая потеря пользователей - около 38% - происходит при переходе в шаг `просмотр страницы предложения`. Возможно для данных пользователей предложение оказалось не таким привлекательным, чтобы продолжить покупки.\n",
    "\n",
    "3. От шага `появление главного экрана` до совершения покупки дошли 47,7% пользователей.\n",
    "\n",
    "4. При сравнении контрольных групп между собой статистически значимых различий обнаружено не было, следовательно можно считать, что пользователи распределились по выборкам честно.\n",
    "\n",
    "5. При сравнени к контрольных групп с тестовой и объединенной контрольной группы с тестовой статистически значимых различий обнаружено не было. Поэтому можно сделать вывод, что изменение шрифтов в приложении никак не повлияло на поведение пользователей и можно оставить старую версию приложения."
   ]
  },
  {
   "cell_type": "code",
   "execution_count": null,
   "metadata": {},
   "outputs": [],
   "source": []
  }
 ],
 "metadata": {
  "ExecuteTimeLog": [
   {
    "duration": 1199,
    "start_time": "2022-10-18T09:50:19.457Z"
   },
   {
    "duration": 829,
    "start_time": "2022-10-18T09:52:21.577Z"
   },
   {
    "duration": 149,
    "start_time": "2022-10-18T09:52:43.126Z"
   },
   {
    "duration": 17,
    "start_time": "2022-10-18T09:53:27.621Z"
   },
   {
    "duration": 9,
    "start_time": "2022-10-18T10:10:32.239Z"
   },
   {
    "duration": 32,
    "start_time": "2022-10-18T10:11:35.578Z"
   },
   {
    "duration": 18,
    "start_time": "2022-10-18T10:11:37.873Z"
   },
   {
    "duration": 7,
    "start_time": "2022-10-18T10:12:23.542Z"
   },
   {
    "duration": 107,
    "start_time": "2022-10-18T10:19:50.813Z"
   },
   {
    "duration": 88,
    "start_time": "2022-10-18T10:19:58.957Z"
   },
   {
    "duration": 8,
    "start_time": "2022-10-18T10:20:02.045Z"
   },
   {
    "duration": 8,
    "start_time": "2022-10-18T10:20:13.673Z"
   },
   {
    "duration": 80,
    "start_time": "2022-10-18T10:24:59.113Z"
   },
   {
    "duration": 8,
    "start_time": "2022-10-18T10:25:02.296Z"
   },
   {
    "duration": 10,
    "start_time": "2022-10-18T10:25:06.819Z"
   },
   {
    "duration": 97,
    "start_time": "2022-10-18T10:25:28.240Z"
   },
   {
    "duration": 68,
    "start_time": "2022-10-18T10:25:34.588Z"
   },
   {
    "duration": 9,
    "start_time": "2022-10-18T10:25:35.932Z"
   },
   {
    "duration": 9,
    "start_time": "2022-10-18T10:25:46.983Z"
   },
   {
    "duration": 4,
    "start_time": "2022-10-18T10:30:46.327Z"
   },
   {
    "duration": 157,
    "start_time": "2022-10-18T10:30:46.332Z"
   },
   {
    "duration": 17,
    "start_time": "2022-10-18T10:30:46.491Z"
   },
   {
    "duration": 26,
    "start_time": "2022-10-18T10:30:46.510Z"
   },
   {
    "duration": 85,
    "start_time": "2022-10-18T10:30:49.156Z"
   },
   {
    "duration": 9,
    "start_time": "2022-10-18T10:30:49.987Z"
   },
   {
    "duration": 10,
    "start_time": "2022-10-18T10:31:14.996Z"
   },
   {
    "duration": 3,
    "start_time": "2022-10-18T10:32:35.339Z"
   },
   {
    "duration": 177,
    "start_time": "2022-10-18T10:32:35.343Z"
   },
   {
    "duration": 16,
    "start_time": "2022-10-18T10:32:35.521Z"
   },
   {
    "duration": 14,
    "start_time": "2022-10-18T10:32:35.538Z"
   },
   {
    "duration": 72,
    "start_time": "2022-10-18T10:32:37.419Z"
   },
   {
    "duration": 9,
    "start_time": "2022-10-18T10:32:37.905Z"
   },
   {
    "duration": 8,
    "start_time": "2022-10-18T10:38:12.204Z"
   },
   {
    "duration": 35,
    "start_time": "2022-10-18T10:53:31.662Z"
   },
   {
    "duration": 25,
    "start_time": "2022-10-18T11:10:14.924Z"
   },
   {
    "duration": 27,
    "start_time": "2022-10-18T11:10:44.151Z"
   },
   {
    "duration": 4,
    "start_time": "2022-10-18T11:11:33.895Z"
   },
   {
    "duration": 18,
    "start_time": "2022-10-18T11:11:57.527Z"
   },
   {
    "duration": 82,
    "start_time": "2022-10-18T11:13:09.101Z"
   },
   {
    "duration": 105,
    "start_time": "2022-10-18T11:13:43.429Z"
   },
   {
    "duration": 20,
    "start_time": "2022-10-18T11:14:02.880Z"
   },
   {
    "duration": 4,
    "start_time": "2022-10-18T11:15:55.583Z"
   },
   {
    "duration": 32,
    "start_time": "2022-10-18T11:19:16.752Z"
   },
   {
    "duration": 16,
    "start_time": "2022-10-18T11:19:46.285Z"
   },
   {
    "duration": 3,
    "start_time": "2022-10-18T11:20:10.283Z"
   },
   {
    "duration": 5,
    "start_time": "2022-10-18T11:21:53.759Z"
   },
   {
    "duration": 5,
    "start_time": "2022-10-18T11:22:13.304Z"
   },
   {
    "duration": 73,
    "start_time": "2022-10-18T11:22:35.792Z"
   },
   {
    "duration": 5,
    "start_time": "2022-10-18T11:22:46.084Z"
   },
   {
    "duration": 20,
    "start_time": "2022-10-18T11:35:19.817Z"
   },
   {
    "duration": 33,
    "start_time": "2022-10-18T11:43:31.027Z"
   },
   {
    "duration": 25,
    "start_time": "2022-10-18T11:43:58.135Z"
   },
   {
    "duration": 28,
    "start_time": "2022-10-18T11:44:34.212Z"
   },
   {
    "duration": 28,
    "start_time": "2022-10-18T11:47:41.071Z"
   },
   {
    "duration": 76,
    "start_time": "2022-10-18T11:52:03.311Z"
   },
   {
    "duration": 52,
    "start_time": "2022-10-18T11:52:10.720Z"
   },
   {
    "duration": 57,
    "start_time": "2022-10-18T11:56:42.597Z"
   },
   {
    "duration": 78,
    "start_time": "2022-10-18T11:57:47.222Z"
   },
   {
    "duration": 46,
    "start_time": "2022-10-18T11:57:58.195Z"
   },
   {
    "duration": 49,
    "start_time": "2022-10-18T11:58:14.751Z"
   },
   {
    "duration": 5,
    "start_time": "2022-10-18T12:01:37.862Z"
   },
   {
    "duration": 5,
    "start_time": "2022-10-18T12:34:46.745Z"
   },
   {
    "duration": 6,
    "start_time": "2022-10-18T12:34:57.415Z"
   },
   {
    "duration": 472,
    "start_time": "2022-10-18T12:35:46.862Z"
   },
   {
    "duration": 186,
    "start_time": "2022-10-18T12:36:10.957Z"
   },
   {
    "duration": 174,
    "start_time": "2022-10-18T12:36:31.839Z"
   },
   {
    "duration": 230,
    "start_time": "2022-10-18T12:36:52.179Z"
   },
   {
    "duration": 189,
    "start_time": "2022-10-18T12:36:58.146Z"
   },
   {
    "duration": 212,
    "start_time": "2022-10-18T12:37:13.332Z"
   },
   {
    "duration": 182,
    "start_time": "2022-10-18T12:37:25.541Z"
   },
   {
    "duration": 180,
    "start_time": "2022-10-18T12:37:31.717Z"
   },
   {
    "duration": 222,
    "start_time": "2022-10-18T12:40:48.837Z"
   },
   {
    "duration": 215,
    "start_time": "2022-10-18T12:40:57.832Z"
   },
   {
    "duration": 199,
    "start_time": "2022-10-18T12:41:49.801Z"
   },
   {
    "duration": 217,
    "start_time": "2022-10-18T12:42:29.066Z"
   },
   {
    "duration": 23,
    "start_time": "2022-10-18T12:45:16.459Z"
   },
   {
    "duration": 35,
    "start_time": "2022-10-18T12:45:25.018Z"
   },
   {
    "duration": 11,
    "start_time": "2022-10-18T12:45:59.014Z"
   },
   {
    "duration": 6,
    "start_time": "2022-10-18T12:46:08.331Z"
   },
   {
    "duration": 178,
    "start_time": "2022-10-18T12:48:42.615Z"
   },
   {
    "duration": 159,
    "start_time": "2022-10-18T12:49:04.360Z"
   },
   {
    "duration": 265,
    "start_time": "2022-10-18T12:49:09.898Z"
   },
   {
    "duration": 189,
    "start_time": "2022-10-18T12:49:15.378Z"
   },
   {
    "duration": 3,
    "start_time": "2022-10-18T12:49:25.936Z"
   },
   {
    "duration": 195,
    "start_time": "2022-10-18T12:49:32.547Z"
   },
   {
    "duration": 198,
    "start_time": "2022-10-18T12:50:43.955Z"
   },
   {
    "duration": 215,
    "start_time": "2022-10-18T12:50:55.337Z"
   },
   {
    "duration": 304,
    "start_time": "2022-10-18T12:53:06.541Z"
   },
   {
    "duration": 1259,
    "start_time": "2022-10-19T09:14:44.004Z"
   },
   {
    "duration": 501,
    "start_time": "2022-10-19T09:14:45.265Z"
   },
   {
    "duration": 20,
    "start_time": "2022-10-19T09:14:45.767Z"
   },
   {
    "duration": 119,
    "start_time": "2022-10-19T09:14:45.789Z"
   },
   {
    "duration": 101,
    "start_time": "2022-10-19T09:14:45.910Z"
   },
   {
    "duration": 10,
    "start_time": "2022-10-19T09:14:46.012Z"
   },
   {
    "duration": 54,
    "start_time": "2022-10-19T09:14:46.023Z"
   },
   {
    "duration": 21,
    "start_time": "2022-10-19T09:14:46.079Z"
   },
   {
    "duration": 31,
    "start_time": "2022-10-19T09:14:46.101Z"
   },
   {
    "duration": 76,
    "start_time": "2022-10-19T09:14:46.134Z"
   },
   {
    "duration": 5,
    "start_time": "2022-10-19T09:14:46.212Z"
   },
   {
    "duration": 342,
    "start_time": "2022-10-19T09:14:46.219Z"
   },
   {
    "duration": 220,
    "start_time": "2022-10-19T09:18:14.060Z"
   },
   {
    "duration": 228,
    "start_time": "2022-10-19T09:18:23.374Z"
   },
   {
    "duration": 254,
    "start_time": "2022-10-19T09:18:29.845Z"
   },
   {
    "duration": 223,
    "start_time": "2022-10-19T09:18:42.224Z"
   },
   {
    "duration": 522,
    "start_time": "2022-10-19T10:41:10.111Z"
   },
   {
    "duration": 58,
    "start_time": "2022-10-19T10:41:39.317Z"
   },
   {
    "duration": 42,
    "start_time": "2022-10-19T10:43:20.448Z"
   },
   {
    "duration": 43,
    "start_time": "2022-10-19T10:44:24.049Z"
   },
   {
    "duration": 43,
    "start_time": "2022-10-19T10:44:35.665Z"
   },
   {
    "duration": 4,
    "start_time": "2022-10-19T10:45:19.296Z"
   },
   {
    "duration": 10,
    "start_time": "2022-10-19T10:45:24.341Z"
   },
   {
    "duration": 30,
    "start_time": "2022-10-19T10:45:38.565Z"
   },
   {
    "duration": 6,
    "start_time": "2022-10-19T10:45:45.371Z"
   },
   {
    "duration": 259,
    "start_time": "2022-10-19T10:45:51.641Z"
   },
   {
    "duration": 12,
    "start_time": "2022-10-19T10:46:01.855Z"
   },
   {
    "duration": 165,
    "start_time": "2022-10-19T10:46:01.870Z"
   },
   {
    "duration": 31,
    "start_time": "2022-10-19T10:46:02.037Z"
   },
   {
    "duration": 43,
    "start_time": "2022-10-19T10:46:02.070Z"
   },
   {
    "duration": 80,
    "start_time": "2022-10-19T10:46:02.115Z"
   },
   {
    "duration": 9,
    "start_time": "2022-10-19T10:46:02.196Z"
   },
   {
    "duration": 57,
    "start_time": "2022-10-19T10:46:02.207Z"
   },
   {
    "duration": 22,
    "start_time": "2022-10-19T10:46:02.266Z"
   },
   {
    "duration": 31,
    "start_time": "2022-10-19T10:46:02.290Z"
   },
   {
    "duration": 69,
    "start_time": "2022-10-19T10:46:02.322Z"
   },
   {
    "duration": 6,
    "start_time": "2022-10-19T10:46:02.393Z"
   },
   {
    "duration": 240,
    "start_time": "2022-10-19T10:46:02.400Z"
   },
   {
    "duration": 40,
    "start_time": "2022-10-19T10:46:02.642Z"
   },
   {
    "duration": 10,
    "start_time": "2022-10-19T10:46:39.431Z"
   },
   {
    "duration": 120,
    "start_time": "2022-10-19T10:46:44.402Z"
   },
   {
    "duration": 28,
    "start_time": "2022-10-19T10:46:48.151Z"
   },
   {
    "duration": 24,
    "start_time": "2022-10-19T10:49:41.329Z"
   },
   {
    "duration": 4,
    "start_time": "2022-10-19T10:49:49.573Z"
   },
   {
    "duration": 163,
    "start_time": "2022-10-19T10:49:49.578Z"
   },
   {
    "duration": 19,
    "start_time": "2022-10-19T10:49:49.743Z"
   },
   {
    "duration": 23,
    "start_time": "2022-10-19T10:49:49.764Z"
   },
   {
    "duration": 76,
    "start_time": "2022-10-19T10:49:49.789Z"
   },
   {
    "duration": 9,
    "start_time": "2022-10-19T10:49:49.867Z"
   },
   {
    "duration": 52,
    "start_time": "2022-10-19T10:49:49.877Z"
   },
   {
    "duration": 30,
    "start_time": "2022-10-19T10:49:49.931Z"
   },
   {
    "duration": 30,
    "start_time": "2022-10-19T10:49:49.964Z"
   },
   {
    "duration": 71,
    "start_time": "2022-10-19T10:49:49.995Z"
   },
   {
    "duration": 6,
    "start_time": "2022-10-19T10:49:50.067Z"
   },
   {
    "duration": 235,
    "start_time": "2022-10-19T10:49:50.074Z"
   },
   {
    "duration": 25,
    "start_time": "2022-10-19T10:49:50.311Z"
   },
   {
    "duration": 28,
    "start_time": "2022-10-19T10:50:34.055Z"
   },
   {
    "duration": 5,
    "start_time": "2022-10-19T10:50:40.671Z"
   },
   {
    "duration": 181,
    "start_time": "2022-10-19T10:50:40.678Z"
   },
   {
    "duration": 19,
    "start_time": "2022-10-19T10:50:40.862Z"
   },
   {
    "duration": 19,
    "start_time": "2022-10-19T10:50:40.883Z"
   },
   {
    "duration": 87,
    "start_time": "2022-10-19T10:50:40.904Z"
   },
   {
    "duration": 10,
    "start_time": "2022-10-19T10:50:40.993Z"
   },
   {
    "duration": 59,
    "start_time": "2022-10-19T10:50:41.004Z"
   },
   {
    "duration": 22,
    "start_time": "2022-10-19T10:50:41.065Z"
   },
   {
    "duration": 144,
    "start_time": "2022-10-19T10:50:41.088Z"
   },
   {
    "duration": 67,
    "start_time": "2022-10-19T10:50:41.234Z"
   },
   {
    "duration": 6,
    "start_time": "2022-10-19T10:50:41.304Z"
   },
   {
    "duration": 313,
    "start_time": "2022-10-19T10:50:41.311Z"
   },
   {
    "duration": 43,
    "start_time": "2022-10-19T10:50:41.626Z"
   },
   {
    "duration": 27,
    "start_time": "2022-10-19T10:51:40.731Z"
   },
   {
    "duration": 4,
    "start_time": "2022-10-19T10:52:28.596Z"
   },
   {
    "duration": 186,
    "start_time": "2022-10-19T10:52:28.602Z"
   },
   {
    "duration": 19,
    "start_time": "2022-10-19T10:52:28.790Z"
   },
   {
    "duration": 28,
    "start_time": "2022-10-19T10:52:28.811Z"
   },
   {
    "duration": 94,
    "start_time": "2022-10-19T10:52:28.842Z"
   },
   {
    "duration": 10,
    "start_time": "2022-10-19T10:52:28.938Z"
   },
   {
    "duration": 54,
    "start_time": "2022-10-19T10:52:28.954Z"
   },
   {
    "duration": 22,
    "start_time": "2022-10-19T10:52:29.010Z"
   },
   {
    "duration": 40,
    "start_time": "2022-10-19T10:52:29.034Z"
   },
   {
    "duration": 59,
    "start_time": "2022-10-19T10:52:29.076Z"
   },
   {
    "duration": 21,
    "start_time": "2022-10-19T10:52:29.137Z"
   },
   {
    "duration": 252,
    "start_time": "2022-10-19T10:52:29.159Z"
   },
   {
    "duration": 25,
    "start_time": "2022-10-19T10:52:30.953Z"
   },
   {
    "duration": 33,
    "start_time": "2022-10-19T10:52:44.143Z"
   },
   {
    "duration": 25,
    "start_time": "2022-10-19T10:52:58.240Z"
   },
   {
    "duration": 1270,
    "start_time": "2022-10-19T10:56:20.727Z"
   },
   {
    "duration": 34,
    "start_time": "2022-10-19T10:56:29.302Z"
   },
   {
    "duration": 4,
    "start_time": "2022-10-19T10:56:52.906Z"
   },
   {
    "duration": 163,
    "start_time": "2022-10-19T10:56:52.912Z"
   },
   {
    "duration": 18,
    "start_time": "2022-10-19T10:56:53.077Z"
   },
   {
    "duration": 7,
    "start_time": "2022-10-19T10:56:53.097Z"
   },
   {
    "duration": 96,
    "start_time": "2022-10-19T10:56:53.107Z"
   },
   {
    "duration": 9,
    "start_time": "2022-10-19T10:56:53.205Z"
   },
   {
    "duration": 53,
    "start_time": "2022-10-19T10:56:53.216Z"
   },
   {
    "duration": 22,
    "start_time": "2022-10-19T10:56:53.270Z"
   },
   {
    "duration": 28,
    "start_time": "2022-10-19T10:56:53.293Z"
   },
   {
    "duration": 81,
    "start_time": "2022-10-19T10:56:53.323Z"
   },
   {
    "duration": 6,
    "start_time": "2022-10-19T10:56:53.406Z"
   },
   {
    "duration": 248,
    "start_time": "2022-10-19T10:56:53.413Z"
   },
   {
    "duration": 37,
    "start_time": "2022-10-19T10:56:53.663Z"
   },
   {
    "duration": 36,
    "start_time": "2022-10-19T10:56:56.126Z"
   },
   {
    "duration": 35,
    "start_time": "2022-10-19T10:57:25.496Z"
   },
   {
    "duration": 30,
    "start_time": "2022-10-19T12:22:06.654Z"
   },
   {
    "duration": 39,
    "start_time": "2022-10-19T13:45:22.059Z"
   },
   {
    "duration": 40,
    "start_time": "2022-10-19T14:16:27.757Z"
   },
   {
    "duration": 34,
    "start_time": "2022-10-19T14:16:40.811Z"
   },
   {
    "duration": 77,
    "start_time": "2022-10-19T14:17:54.924Z"
   },
   {
    "duration": 38,
    "start_time": "2022-10-19T14:32:43.018Z"
   },
   {
    "duration": 13,
    "start_time": "2022-10-19T14:33:09.923Z"
   },
   {
    "duration": 77,
    "start_time": "2022-10-19T14:33:18.633Z"
   },
   {
    "duration": 58,
    "start_time": "2022-10-19T14:34:32.613Z"
   },
   {
    "duration": 60,
    "start_time": "2022-10-19T14:34:38.348Z"
   },
   {
    "duration": 62,
    "start_time": "2022-10-19T14:35:31.192Z"
   },
   {
    "duration": 76,
    "start_time": "2022-10-19T14:43:01.615Z"
   },
   {
    "duration": 78,
    "start_time": "2022-10-19T14:44:57.771Z"
   },
   {
    "duration": 69,
    "start_time": "2022-10-19T14:45:22.163Z"
   },
   {
    "duration": 4,
    "start_time": "2022-10-19T14:45:28.974Z"
   },
   {
    "duration": 158,
    "start_time": "2022-10-19T14:45:28.980Z"
   },
   {
    "duration": 25,
    "start_time": "2022-10-19T14:45:29.141Z"
   },
   {
    "duration": 10,
    "start_time": "2022-10-19T14:45:29.168Z"
   },
   {
    "duration": 89,
    "start_time": "2022-10-19T14:45:29.179Z"
   },
   {
    "duration": 10,
    "start_time": "2022-10-19T14:45:29.270Z"
   },
   {
    "duration": 39,
    "start_time": "2022-10-19T14:45:29.282Z"
   },
   {
    "duration": 42,
    "start_time": "2022-10-19T14:45:29.323Z"
   },
   {
    "duration": 60,
    "start_time": "2022-10-19T14:45:29.367Z"
   },
   {
    "duration": 28,
    "start_time": "2022-10-19T14:45:29.430Z"
   },
   {
    "duration": 260,
    "start_time": "2022-10-19T14:45:29.461Z"
   },
   {
    "duration": 38,
    "start_time": "2022-10-19T14:45:29.723Z"
   },
   {
    "duration": 37,
    "start_time": "2022-10-19T14:45:29.763Z"
   },
   {
    "duration": 28,
    "start_time": "2022-10-19T14:45:29.803Z"
   },
   {
    "duration": 64,
    "start_time": "2022-10-19T14:45:40.223Z"
   },
   {
    "duration": 1234,
    "start_time": "2022-10-20T09:11:09.989Z"
   },
   {
    "duration": 694,
    "start_time": "2022-10-20T09:11:11.225Z"
   },
   {
    "duration": 18,
    "start_time": "2022-10-20T09:11:11.920Z"
   },
   {
    "duration": 36,
    "start_time": "2022-10-20T09:11:11.941Z"
   },
   {
    "duration": 109,
    "start_time": "2022-10-20T09:11:11.979Z"
   },
   {
    "duration": 8,
    "start_time": "2022-10-20T09:11:12.090Z"
   },
   {
    "duration": 73,
    "start_time": "2022-10-20T09:11:12.100Z"
   },
   {
    "duration": 18,
    "start_time": "2022-10-20T09:11:12.175Z"
   },
   {
    "duration": 52,
    "start_time": "2022-10-20T09:11:12.195Z"
   },
   {
    "duration": 5,
    "start_time": "2022-10-20T09:11:12.249Z"
   },
   {
    "duration": 279,
    "start_time": "2022-10-20T09:11:12.255Z"
   },
   {
    "duration": 26,
    "start_time": "2022-10-20T09:11:12.536Z"
   },
   {
    "duration": 44,
    "start_time": "2022-10-20T09:11:12.564Z"
   },
   {
    "duration": 57,
    "start_time": "2022-10-20T09:11:12.609Z"
   },
   {
    "duration": 59,
    "start_time": "2022-10-20T09:11:12.667Z"
   },
   {
    "duration": 49,
    "start_time": "2022-10-20T09:15:43.237Z"
   },
   {
    "duration": 9,
    "start_time": "2022-10-20T09:15:59.174Z"
   },
   {
    "duration": 136,
    "start_time": "2022-10-20T09:16:36.239Z"
   },
   {
    "duration": 3,
    "start_time": "2022-10-20T09:17:07.164Z"
   },
   {
    "duration": 155,
    "start_time": "2022-10-20T09:17:07.184Z"
   },
   {
    "duration": 16,
    "start_time": "2022-10-20T09:17:07.341Z"
   },
   {
    "duration": 7,
    "start_time": "2022-10-20T09:17:07.359Z"
   },
   {
    "duration": 82,
    "start_time": "2022-10-20T09:17:07.368Z"
   },
   {
    "duration": 9,
    "start_time": "2022-10-20T09:17:07.452Z"
   },
   {
    "duration": 40,
    "start_time": "2022-10-20T09:17:07.463Z"
   },
   {
    "duration": 19,
    "start_time": "2022-10-20T09:17:07.505Z"
   },
   {
    "duration": 70,
    "start_time": "2022-10-20T09:17:07.525Z"
   },
   {
    "duration": 5,
    "start_time": "2022-10-20T09:17:07.597Z"
   },
   {
    "duration": 235,
    "start_time": "2022-10-20T09:17:07.605Z"
   },
   {
    "duration": 27,
    "start_time": "2022-10-20T09:17:07.841Z"
   },
   {
    "duration": 43,
    "start_time": "2022-10-20T09:17:07.869Z"
   },
   {
    "duration": 24,
    "start_time": "2022-10-20T09:17:07.914Z"
   },
   {
    "duration": 72,
    "start_time": "2022-10-20T09:17:07.940Z"
   },
   {
    "duration": 53,
    "start_time": "2022-10-20T09:17:10.035Z"
   },
   {
    "duration": 53,
    "start_time": "2022-10-20T09:18:39.290Z"
   },
   {
    "duration": 9,
    "start_time": "2022-10-20T09:18:51.824Z"
   },
   {
    "duration": 8,
    "start_time": "2022-10-20T09:19:08.525Z"
   },
   {
    "duration": 10,
    "start_time": "2022-10-20T09:43:53.746Z"
   },
   {
    "duration": 10,
    "start_time": "2022-10-20T09:44:52.816Z"
   },
   {
    "duration": 3,
    "start_time": "2022-10-20T09:45:01.987Z"
   },
   {
    "duration": 174,
    "start_time": "2022-10-20T09:45:01.992Z"
   },
   {
    "duration": 20,
    "start_time": "2022-10-20T09:45:02.168Z"
   },
   {
    "duration": 31,
    "start_time": "2022-10-20T09:45:02.190Z"
   },
   {
    "duration": 96,
    "start_time": "2022-10-20T09:45:02.223Z"
   },
   {
    "duration": 9,
    "start_time": "2022-10-20T09:45:02.321Z"
   },
   {
    "duration": 68,
    "start_time": "2022-10-20T09:45:02.331Z"
   },
   {
    "duration": 88,
    "start_time": "2022-10-20T09:45:02.401Z"
   },
   {
    "duration": 71,
    "start_time": "2022-10-20T09:45:02.490Z"
   },
   {
    "duration": 5,
    "start_time": "2022-10-20T09:45:02.563Z"
   },
   {
    "duration": 230,
    "start_time": "2022-10-20T09:45:02.569Z"
   },
   {
    "duration": 25,
    "start_time": "2022-10-20T09:45:02.801Z"
   },
   {
    "duration": 39,
    "start_time": "2022-10-20T09:45:02.828Z"
   },
   {
    "duration": 35,
    "start_time": "2022-10-20T09:45:02.870Z"
   },
   {
    "duration": 71,
    "start_time": "2022-10-20T09:45:02.907Z"
   },
   {
    "duration": 10,
    "start_time": "2022-10-20T09:45:14.270Z"
   },
   {
    "duration": 60,
    "start_time": "2022-10-20T09:45:47.016Z"
   },
   {
    "duration": 54,
    "start_time": "2022-10-20T09:46:15.670Z"
   },
   {
    "duration": 10,
    "start_time": "2022-10-20T09:46:25.052Z"
   },
   {
    "duration": 9,
    "start_time": "2022-10-20T09:49:04.016Z"
   },
   {
    "duration": 3,
    "start_time": "2022-10-20T09:49:29.831Z"
   },
   {
    "duration": 155,
    "start_time": "2022-10-20T09:49:29.836Z"
   },
   {
    "duration": 17,
    "start_time": "2022-10-20T09:49:29.993Z"
   },
   {
    "duration": 22,
    "start_time": "2022-10-20T09:49:30.012Z"
   },
   {
    "duration": 84,
    "start_time": "2022-10-20T09:49:30.036Z"
   },
   {
    "duration": 11,
    "start_time": "2022-10-20T09:49:30.122Z"
   },
   {
    "duration": 57,
    "start_time": "2022-10-20T09:49:30.135Z"
   },
   {
    "duration": 20,
    "start_time": "2022-10-20T09:49:30.194Z"
   },
   {
    "duration": 76,
    "start_time": "2022-10-20T09:49:30.216Z"
   },
   {
    "duration": 5,
    "start_time": "2022-10-20T09:49:30.293Z"
   },
   {
    "duration": 226,
    "start_time": "2022-10-20T09:49:30.300Z"
   },
   {
    "duration": 28,
    "start_time": "2022-10-20T09:49:30.528Z"
   },
   {
    "duration": 47,
    "start_time": "2022-10-20T09:49:30.558Z"
   },
   {
    "duration": 35,
    "start_time": "2022-10-20T09:49:30.606Z"
   },
   {
    "duration": 64,
    "start_time": "2022-10-20T09:49:30.642Z"
   },
   {
    "duration": 11,
    "start_time": "2022-10-20T09:49:33.562Z"
   },
   {
    "duration": 12,
    "start_time": "2022-10-20T09:50:18.603Z"
   },
   {
    "duration": 9,
    "start_time": "2022-10-20T09:51:33.441Z"
   },
   {
    "duration": 79,
    "start_time": "2022-10-20T09:54:07.261Z"
   },
   {
    "duration": 4,
    "start_time": "2022-10-20T09:54:20.084Z"
   },
   {
    "duration": 171,
    "start_time": "2022-10-20T09:54:20.090Z"
   },
   {
    "duration": 22,
    "start_time": "2022-10-20T09:54:20.263Z"
   },
   {
    "duration": 7,
    "start_time": "2022-10-20T09:54:20.286Z"
   },
   {
    "duration": 96,
    "start_time": "2022-10-20T09:54:20.295Z"
   },
   {
    "duration": 9,
    "start_time": "2022-10-20T09:54:20.393Z"
   },
   {
    "duration": 73,
    "start_time": "2022-10-20T09:54:23.820Z"
   },
   {
    "duration": 71,
    "start_time": "2022-10-20T09:55:21.527Z"
   },
   {
    "duration": 73,
    "start_time": "2022-10-20T09:56:18.936Z"
   },
   {
    "duration": 22,
    "start_time": "2022-10-20T09:56:49.639Z"
   },
   {
    "duration": 83,
    "start_time": "2022-10-20T10:01:18.284Z"
   },
   {
    "duration": 62,
    "start_time": "2022-10-20T10:01:22.521Z"
   },
   {
    "duration": 126,
    "start_time": "2022-10-20T10:01:52.226Z"
   },
   {
    "duration": 4,
    "start_time": "2022-10-20T10:01:57.326Z"
   },
   {
    "duration": 145,
    "start_time": "2022-10-20T10:01:57.332Z"
   },
   {
    "duration": 18,
    "start_time": "2022-10-20T10:01:57.479Z"
   },
   {
    "duration": 8,
    "start_time": "2022-10-20T10:01:57.499Z"
   },
   {
    "duration": 92,
    "start_time": "2022-10-20T10:01:57.509Z"
   },
   {
    "duration": 9,
    "start_time": "2022-10-20T10:01:57.603Z"
   },
   {
    "duration": 94,
    "start_time": "2022-10-20T10:01:57.614Z"
   },
   {
    "duration": 156,
    "start_time": "2022-10-20T10:01:57.710Z"
   },
   {
    "duration": 26,
    "start_time": "2022-10-20T10:02:07.811Z"
   },
   {
    "duration": 18,
    "start_time": "2022-10-20T10:02:12.267Z"
   },
   {
    "duration": 51,
    "start_time": "2022-10-20T10:02:19.373Z"
   },
   {
    "duration": 5,
    "start_time": "2022-10-20T10:02:36.572Z"
   },
   {
    "duration": 198,
    "start_time": "2022-10-20T10:02:47.419Z"
   },
   {
    "duration": 27,
    "start_time": "2022-10-20T10:02:53.720Z"
   },
   {
    "duration": 32,
    "start_time": "2022-10-20T10:03:43.886Z"
   },
   {
    "duration": 26,
    "start_time": "2022-10-20T10:03:49.662Z"
   },
   {
    "duration": 51,
    "start_time": "2022-10-20T10:03:56.189Z"
   },
   {
    "duration": 51,
    "start_time": "2022-10-20T10:05:05.693Z"
   },
   {
    "duration": 11,
    "start_time": "2022-10-20T10:05:13.152Z"
   },
   {
    "duration": 38,
    "start_time": "2022-10-20T10:50:03.645Z"
   },
   {
    "duration": 25,
    "start_time": "2022-10-20T10:50:18.481Z"
   },
   {
    "duration": 54,
    "start_time": "2022-10-20T10:50:21.411Z"
   },
   {
    "duration": 4,
    "start_time": "2022-10-20T10:50:52.161Z"
   },
   {
    "duration": 200,
    "start_time": "2022-10-20T10:50:52.167Z"
   },
   {
    "duration": 25,
    "start_time": "2022-10-20T10:50:52.369Z"
   },
   {
    "duration": 16,
    "start_time": "2022-10-20T10:50:52.399Z"
   },
   {
    "duration": 84,
    "start_time": "2022-10-20T10:50:52.417Z"
   },
   {
    "duration": 9,
    "start_time": "2022-10-20T10:50:52.503Z"
   },
   {
    "duration": 91,
    "start_time": "2022-10-20T10:50:52.514Z"
   },
   {
    "duration": 153,
    "start_time": "2022-10-20T10:50:52.607Z"
   },
   {
    "duration": 42,
    "start_time": "2022-10-20T10:50:52.763Z"
   },
   {
    "duration": 20,
    "start_time": "2022-10-20T10:50:52.806Z"
   },
   {
    "duration": 69,
    "start_time": "2022-10-20T10:50:52.827Z"
   },
   {
    "duration": 9,
    "start_time": "2022-10-20T10:50:52.899Z"
   },
   {
    "duration": 232,
    "start_time": "2022-10-20T10:50:52.910Z"
   },
   {
    "duration": 30,
    "start_time": "2022-10-20T10:50:53.143Z"
   },
   {
    "duration": 46,
    "start_time": "2022-10-20T10:50:53.174Z"
   },
   {
    "duration": 25,
    "start_time": "2022-10-20T10:50:53.222Z"
   },
   {
    "duration": 77,
    "start_time": "2022-10-20T10:50:53.249Z"
   },
   {
    "duration": 25,
    "start_time": "2022-10-20T10:50:53.329Z"
   },
   {
    "duration": 11,
    "start_time": "2022-10-20T10:50:56.904Z"
   },
   {
    "duration": 8,
    "start_time": "2022-10-20T10:54:18.908Z"
   },
   {
    "duration": 14,
    "start_time": "2022-10-20T10:54:25.024Z"
   },
   {
    "duration": 3,
    "start_time": "2022-10-20T10:54:36.483Z"
   },
   {
    "duration": 182,
    "start_time": "2022-10-20T10:54:36.488Z"
   },
   {
    "duration": 25,
    "start_time": "2022-10-20T10:54:36.671Z"
   },
   {
    "duration": 36,
    "start_time": "2022-10-20T10:54:36.698Z"
   },
   {
    "duration": 101,
    "start_time": "2022-10-20T10:54:36.736Z"
   },
   {
    "duration": 8,
    "start_time": "2022-10-20T10:54:36.839Z"
   },
   {
    "duration": 118,
    "start_time": "2022-10-20T10:54:36.848Z"
   },
   {
    "duration": 189,
    "start_time": "2022-10-20T10:54:36.968Z"
   },
   {
    "duration": 40,
    "start_time": "2022-10-20T10:54:37.159Z"
   },
   {
    "duration": 43,
    "start_time": "2022-10-20T10:54:37.202Z"
   },
   {
    "duration": 118,
    "start_time": "2022-10-20T10:54:37.247Z"
   },
   {
    "duration": 42,
    "start_time": "2022-10-20T10:54:37.366Z"
   },
   {
    "duration": 274,
    "start_time": "2022-10-20T10:54:37.410Z"
   },
   {
    "duration": 31,
    "start_time": "2022-10-20T10:54:37.686Z"
   },
   {
    "duration": 68,
    "start_time": "2022-10-20T10:54:37.719Z"
   },
   {
    "duration": 27,
    "start_time": "2022-10-20T10:54:37.798Z"
   },
   {
    "duration": 80,
    "start_time": "2022-10-20T10:54:37.827Z"
   },
   {
    "duration": 33,
    "start_time": "2022-10-20T10:54:37.908Z"
   },
   {
    "duration": 10,
    "start_time": "2022-10-20T10:54:37.942Z"
   },
   {
    "duration": 125,
    "start_time": "2022-10-20T10:54:37.953Z"
   },
   {
    "duration": 17,
    "start_time": "2022-10-20T10:55:12.283Z"
   },
   {
    "duration": 149,
    "start_time": "2022-10-20T10:55:12.302Z"
   },
   {
    "duration": 18,
    "start_time": "2022-10-20T10:55:12.452Z"
   },
   {
    "duration": 14,
    "start_time": "2022-10-20T10:55:12.472Z"
   },
   {
    "duration": 71,
    "start_time": "2022-10-20T10:55:12.488Z"
   },
   {
    "duration": 9,
    "start_time": "2022-10-20T10:55:12.560Z"
   },
   {
    "duration": 85,
    "start_time": "2022-10-20T10:55:12.585Z"
   },
   {
    "duration": 194,
    "start_time": "2022-10-20T10:55:12.672Z"
   },
   {
    "duration": 47,
    "start_time": "2022-10-20T10:55:12.868Z"
   },
   {
    "duration": 26,
    "start_time": "2022-10-20T10:55:12.919Z"
   },
   {
    "duration": 57,
    "start_time": "2022-10-20T10:55:12.947Z"
   },
   {
    "duration": 6,
    "start_time": "2022-10-20T10:55:13.006Z"
   },
   {
    "duration": 226,
    "start_time": "2022-10-20T10:55:13.014Z"
   },
   {
    "duration": 26,
    "start_time": "2022-10-20T10:55:13.242Z"
   },
   {
    "duration": 53,
    "start_time": "2022-10-20T10:55:13.271Z"
   },
   {
    "duration": 26,
    "start_time": "2022-10-20T10:55:13.325Z"
   },
   {
    "duration": 75,
    "start_time": "2022-10-20T10:55:13.353Z"
   },
   {
    "duration": 2,
    "start_time": "2022-10-20T10:55:13.430Z"
   },
   {
    "duration": 6,
    "start_time": "2022-10-20T10:55:13.434Z"
   },
   {
    "duration": 13,
    "start_time": "2022-10-20T10:55:13.442Z"
   },
   {
    "duration": 15,
    "start_time": "2022-10-20T11:19:23.343Z"
   },
   {
    "duration": 89,
    "start_time": "2022-10-20T11:19:26.017Z"
   },
   {
    "duration": 42,
    "start_time": "2022-10-20T11:19:31.007Z"
   },
   {
    "duration": 3,
    "start_time": "2022-10-20T11:20:08.633Z"
   },
   {
    "duration": 144,
    "start_time": "2022-10-20T11:20:08.640Z"
   },
   {
    "duration": 17,
    "start_time": "2022-10-20T11:20:08.786Z"
   },
   {
    "duration": 10,
    "start_time": "2022-10-20T11:20:08.805Z"
   },
   {
    "duration": 81,
    "start_time": "2022-10-20T11:20:08.816Z"
   },
   {
    "duration": 8,
    "start_time": "2022-10-20T11:20:08.899Z"
   },
   {
    "duration": 82,
    "start_time": "2022-10-20T11:20:08.909Z"
   },
   {
    "duration": 159,
    "start_time": "2022-10-20T11:20:08.993Z"
   },
   {
    "duration": 31,
    "start_time": "2022-10-20T11:20:09.154Z"
   },
   {
    "duration": 18,
    "start_time": "2022-10-20T11:20:09.187Z"
   },
   {
    "duration": 49,
    "start_time": "2022-10-20T11:20:09.206Z"
   },
   {
    "duration": 5,
    "start_time": "2022-10-20T11:20:09.257Z"
   },
   {
    "duration": 202,
    "start_time": "2022-10-20T11:20:09.285Z"
   },
   {
    "duration": 25,
    "start_time": "2022-10-20T11:20:09.489Z"
   },
   {
    "duration": 31,
    "start_time": "2022-10-20T11:20:09.517Z"
   },
   {
    "duration": 43,
    "start_time": "2022-10-20T11:20:09.550Z"
   },
   {
    "duration": 48,
    "start_time": "2022-10-20T11:20:09.595Z"
   },
   {
    "duration": 41,
    "start_time": "2022-10-20T11:22:11.228Z"
   },
   {
    "duration": 51,
    "start_time": "2022-10-20T11:23:10.674Z"
   },
   {
    "duration": 39,
    "start_time": "2022-10-20T11:23:18.425Z"
   },
   {
    "duration": 87,
    "start_time": "2022-10-20T11:31:17.087Z"
   },
   {
    "duration": 93,
    "start_time": "2022-10-20T11:31:46.596Z"
   },
   {
    "duration": 11,
    "start_time": "2022-10-20T11:32:05.376Z"
   },
   {
    "duration": 8,
    "start_time": "2022-10-20T11:32:45.125Z"
   },
   {
    "duration": 9,
    "start_time": "2022-10-20T11:32:48.366Z"
   },
   {
    "duration": 3,
    "start_time": "2022-10-20T11:33:33.402Z"
   },
   {
    "duration": 3,
    "start_time": "2022-10-20T11:33:55.539Z"
   },
   {
    "duration": 3,
    "start_time": "2022-10-20T11:34:08.279Z"
   },
   {
    "duration": 4,
    "start_time": "2022-10-20T11:34:21.751Z"
   },
   {
    "duration": 11,
    "start_time": "2022-10-20T11:34:52.559Z"
   },
   {
    "duration": 4,
    "start_time": "2022-10-20T11:35:05.518Z"
   },
   {
    "duration": 182,
    "start_time": "2022-10-20T11:35:05.536Z"
   },
   {
    "duration": 16,
    "start_time": "2022-10-20T11:35:05.720Z"
   },
   {
    "duration": 20,
    "start_time": "2022-10-20T11:35:05.738Z"
   },
   {
    "duration": 111,
    "start_time": "2022-10-20T11:35:05.759Z"
   },
   {
    "duration": 10,
    "start_time": "2022-10-20T11:35:05.872Z"
   },
   {
    "duration": 107,
    "start_time": "2022-10-20T11:35:05.883Z"
   },
   {
    "duration": 150,
    "start_time": "2022-10-20T11:35:05.991Z"
   },
   {
    "duration": 26,
    "start_time": "2022-10-20T11:35:06.143Z"
   },
   {
    "duration": 30,
    "start_time": "2022-10-20T11:35:06.171Z"
   },
   {
    "duration": 68,
    "start_time": "2022-10-20T11:35:06.202Z"
   },
   {
    "duration": 5,
    "start_time": "2022-10-20T11:35:06.272Z"
   },
   {
    "duration": 218,
    "start_time": "2022-10-20T11:35:06.278Z"
   },
   {
    "duration": 26,
    "start_time": "2022-10-20T11:35:06.498Z"
   },
   {
    "duration": 33,
    "start_time": "2022-10-20T11:35:06.526Z"
   },
   {
    "duration": 51,
    "start_time": "2022-10-20T11:35:06.560Z"
   },
   {
    "duration": 52,
    "start_time": "2022-10-20T11:35:06.612Z"
   },
   {
    "duration": 2,
    "start_time": "2022-10-20T11:35:06.666Z"
   },
   {
    "duration": 18,
    "start_time": "2022-10-20T11:35:06.685Z"
   },
   {
    "duration": 23,
    "start_time": "2022-10-20T11:35:06.705Z"
   },
   {
    "duration": 23,
    "start_time": "2022-10-20T11:35:06.729Z"
   },
   {
    "duration": 3,
    "start_time": "2022-10-20T11:35:08.615Z"
   },
   {
    "duration": 557,
    "start_time": "2022-10-20T11:35:30.903Z"
   },
   {
    "duration": 104,
    "start_time": "2022-10-20T11:35:47.091Z"
   },
   {
    "duration": 116,
    "start_time": "2022-10-20T11:35:59.759Z"
   },
   {
    "duration": 4,
    "start_time": "2022-10-20T11:36:06.443Z"
   },
   {
    "duration": 89,
    "start_time": "2022-10-20T11:36:19.054Z"
   },
   {
    "duration": 3,
    "start_time": "2022-10-20T11:36:22.758Z"
   },
   {
    "duration": 4,
    "start_time": "2022-10-20T11:36:30.620Z"
   },
   {
    "duration": 4,
    "start_time": "2022-10-20T11:36:56.623Z"
   },
   {
    "duration": 3,
    "start_time": "2022-10-20T11:37:04.250Z"
   },
   {
    "duration": 3,
    "start_time": "2022-10-20T11:37:08.412Z"
   },
   {
    "duration": 3,
    "start_time": "2022-10-20T11:37:23.267Z"
   },
   {
    "duration": 238,
    "start_time": "2022-10-20T11:43:29.427Z"
   },
   {
    "duration": 9,
    "start_time": "2022-10-20T11:45:08.688Z"
   },
   {
    "duration": 11,
    "start_time": "2022-10-20T11:45:22.558Z"
   },
   {
    "duration": 12,
    "start_time": "2022-10-20T11:45:59.538Z"
   },
   {
    "duration": 11,
    "start_time": "2022-10-20T11:46:15.982Z"
   },
   {
    "duration": 376,
    "start_time": "2022-10-20T11:46:37.005Z"
   },
   {
    "duration": 58,
    "start_time": "2022-10-20T11:47:13.369Z"
   },
   {
    "duration": 3,
    "start_time": "2022-10-20T11:47:49.801Z"
   },
   {
    "duration": 144,
    "start_time": "2022-10-20T11:47:49.806Z"
   },
   {
    "duration": 17,
    "start_time": "2022-10-20T11:47:49.951Z"
   },
   {
    "duration": 17,
    "start_time": "2022-10-20T11:47:49.971Z"
   },
   {
    "duration": 69,
    "start_time": "2022-10-20T11:47:49.989Z"
   },
   {
    "duration": 8,
    "start_time": "2022-10-20T11:47:50.060Z"
   },
   {
    "duration": 82,
    "start_time": "2022-10-20T11:47:50.069Z"
   },
   {
    "duration": 153,
    "start_time": "2022-10-20T11:47:50.152Z"
   },
   {
    "duration": 25,
    "start_time": "2022-10-20T11:47:50.307Z"
   },
   {
    "duration": 17,
    "start_time": "2022-10-20T11:47:50.334Z"
   },
   {
    "duration": 71,
    "start_time": "2022-10-20T11:47:50.353Z"
   },
   {
    "duration": 5,
    "start_time": "2022-10-20T11:47:50.426Z"
   },
   {
    "duration": 242,
    "start_time": "2022-10-20T11:47:50.432Z"
   },
   {
    "duration": 26,
    "start_time": "2022-10-20T11:47:50.676Z"
   },
   {
    "duration": 32,
    "start_time": "2022-10-20T11:47:50.704Z"
   },
   {
    "duration": 23,
    "start_time": "2022-10-20T11:47:50.738Z"
   },
   {
    "duration": 69,
    "start_time": "2022-10-20T11:47:50.762Z"
   },
   {
    "duration": 16,
    "start_time": "2022-10-20T11:47:50.832Z"
   },
   {
    "duration": 3,
    "start_time": "2022-10-20T11:47:50.850Z"
   },
   {
    "duration": 32,
    "start_time": "2022-10-20T11:47:50.854Z"
   },
   {
    "duration": 15,
    "start_time": "2022-10-20T11:47:50.887Z"
   },
   {
    "duration": 17,
    "start_time": "2022-10-20T11:47:50.903Z"
   },
   {
    "duration": 57,
    "start_time": "2022-10-20T11:47:50.921Z"
   },
   {
    "duration": 55,
    "start_time": "2022-10-20T11:48:09.542Z"
   },
   {
    "duration": 5,
    "start_time": "2022-10-20T11:51:32.373Z"
   },
   {
    "duration": 8,
    "start_time": "2022-10-20T12:00:54.140Z"
   },
   {
    "duration": 9,
    "start_time": "2022-10-20T12:01:23.228Z"
   },
   {
    "duration": 9,
    "start_time": "2022-10-20T12:01:38.699Z"
   },
   {
    "duration": 7,
    "start_time": "2022-10-20T12:03:26.981Z"
   },
   {
    "duration": 29,
    "start_time": "2022-10-20T12:03:27.702Z"
   },
   {
    "duration": 5,
    "start_time": "2022-10-20T12:03:57.589Z"
   },
   {
    "duration": 30,
    "start_time": "2022-10-20T12:03:58.506Z"
   },
   {
    "duration": 89,
    "start_time": "2022-10-20T12:04:46.592Z"
   },
   {
    "duration": 32,
    "start_time": "2022-10-20T12:12:48.138Z"
   },
   {
    "duration": 43,
    "start_time": "2022-10-20T13:49:06.033Z"
   },
   {
    "duration": 6,
    "start_time": "2022-10-20T14:27:30.691Z"
   },
   {
    "duration": 83,
    "start_time": "2022-10-20T14:27:31.023Z"
   },
   {
    "duration": 4,
    "start_time": "2022-10-20T14:28:04.498Z"
   },
   {
    "duration": 89,
    "start_time": "2022-10-20T14:28:05.508Z"
   },
   {
    "duration": 5,
    "start_time": "2022-10-20T14:28:10.604Z"
   },
   {
    "duration": 84,
    "start_time": "2022-10-20T14:28:10.898Z"
   },
   {
    "duration": 4,
    "start_time": "2022-10-20T14:44:55.514Z"
   },
   {
    "duration": 192,
    "start_time": "2022-10-20T14:44:55.521Z"
   },
   {
    "duration": 27,
    "start_time": "2022-10-20T14:44:55.716Z"
   },
   {
    "duration": 32,
    "start_time": "2022-10-20T14:44:55.745Z"
   },
   {
    "duration": 98,
    "start_time": "2022-10-20T14:44:55.779Z"
   },
   {
    "duration": 10,
    "start_time": "2022-10-20T14:44:55.879Z"
   },
   {
    "duration": 108,
    "start_time": "2022-10-20T14:44:55.891Z"
   },
   {
    "duration": 160,
    "start_time": "2022-10-20T14:44:56.001Z"
   },
   {
    "duration": 39,
    "start_time": "2022-10-20T14:44:56.163Z"
   },
   {
    "duration": 29,
    "start_time": "2022-10-20T14:44:56.204Z"
   },
   {
    "duration": 84,
    "start_time": "2022-10-20T14:44:56.237Z"
   },
   {
    "duration": 6,
    "start_time": "2022-10-20T14:44:56.323Z"
   },
   {
    "duration": 304,
    "start_time": "2022-10-20T14:44:56.331Z"
   },
   {
    "duration": 26,
    "start_time": "2022-10-20T14:44:56.637Z"
   },
   {
    "duration": 51,
    "start_time": "2022-10-20T14:44:56.665Z"
   },
   {
    "duration": 25,
    "start_time": "2022-10-20T14:44:56.718Z"
   },
   {
    "duration": 78,
    "start_time": "2022-10-20T14:44:56.745Z"
   },
   {
    "duration": 3,
    "start_time": "2022-10-20T14:44:56.824Z"
   },
   {
    "duration": 20,
    "start_time": "2022-10-20T14:44:56.828Z"
   },
   {
    "duration": 40,
    "start_time": "2022-10-20T14:44:56.851Z"
   },
   {
    "duration": 23,
    "start_time": "2022-10-20T14:44:56.893Z"
   },
   {
    "duration": 19,
    "start_time": "2022-10-20T14:44:56.918Z"
   },
   {
    "duration": 116,
    "start_time": "2022-10-20T14:44:56.939Z"
   },
   {
    "duration": 61,
    "start_time": "2022-10-20T14:44:57.057Z"
   },
   {
    "duration": 32,
    "start_time": "2022-10-20T15:09:36.211Z"
   },
   {
    "duration": 12,
    "start_time": "2022-10-20T15:09:44.724Z"
   },
   {
    "duration": 7,
    "start_time": "2022-10-20T15:10:09.538Z"
   },
   {
    "duration": 9,
    "start_time": "2022-10-20T15:10:25.214Z"
   },
   {
    "duration": 7,
    "start_time": "2022-10-20T15:10:47.235Z"
   },
   {
    "duration": 8,
    "start_time": "2022-10-20T15:11:14.723Z"
   },
   {
    "duration": 7,
    "start_time": "2022-10-20T15:12:22.357Z"
   },
   {
    "duration": 6,
    "start_time": "2022-10-20T15:12:35.173Z"
   },
   {
    "duration": 11,
    "start_time": "2022-10-20T15:14:19.777Z"
   },
   {
    "duration": 15,
    "start_time": "2022-10-20T15:14:44.904Z"
   },
   {
    "duration": 3,
    "start_time": "2022-10-20T15:15:03.759Z"
   },
   {
    "duration": 240,
    "start_time": "2022-10-20T15:15:03.764Z"
   },
   {
    "duration": 28,
    "start_time": "2022-10-20T15:15:04.008Z"
   },
   {
    "duration": 16,
    "start_time": "2022-10-20T15:15:04.038Z"
   },
   {
    "duration": 110,
    "start_time": "2022-10-20T15:15:04.056Z"
   },
   {
    "duration": 9,
    "start_time": "2022-10-20T15:15:04.167Z"
   },
   {
    "duration": 121,
    "start_time": "2022-10-20T15:15:04.178Z"
   },
   {
    "duration": 174,
    "start_time": "2022-10-20T15:15:04.301Z"
   },
   {
    "duration": 28,
    "start_time": "2022-10-20T15:15:04.477Z"
   },
   {
    "duration": 48,
    "start_time": "2022-10-20T15:15:04.509Z"
   },
   {
    "duration": 78,
    "start_time": "2022-10-20T15:15:04.559Z"
   },
   {
    "duration": 5,
    "start_time": "2022-10-20T15:15:04.639Z"
   },
   {
    "duration": 300,
    "start_time": "2022-10-20T15:15:04.645Z"
   },
   {
    "duration": 41,
    "start_time": "2022-10-20T15:15:04.946Z"
   },
   {
    "duration": 65,
    "start_time": "2022-10-20T15:15:04.989Z"
   },
   {
    "duration": 23,
    "start_time": "2022-10-20T15:15:05.055Z"
   },
   {
    "duration": 91,
    "start_time": "2022-10-20T15:15:05.080Z"
   },
   {
    "duration": 2,
    "start_time": "2022-10-20T15:15:05.172Z"
   },
   {
    "duration": 71,
    "start_time": "2022-10-20T15:15:05.176Z"
   },
   {
    "duration": 18,
    "start_time": "2022-10-20T15:15:05.248Z"
   },
   {
    "duration": 68,
    "start_time": "2022-10-20T15:15:05.268Z"
   },
   {
    "duration": 23,
    "start_time": "2022-10-20T15:15:05.337Z"
   },
   {
    "duration": 117,
    "start_time": "2022-10-20T15:15:05.362Z"
   },
   {
    "duration": 40,
    "start_time": "2022-10-20T15:15:05.481Z"
   },
   {
    "duration": 7,
    "start_time": "2022-10-20T15:15:08.752Z"
   },
   {
    "duration": 7,
    "start_time": "2022-10-20T15:15:25.817Z"
   },
   {
    "duration": 4,
    "start_time": "2022-10-20T15:15:35.329Z"
   },
   {
    "duration": 5,
    "start_time": "2022-10-20T15:16:22.828Z"
   },
   {
    "duration": 105,
    "start_time": "2022-10-20T15:16:23.651Z"
   },
   {
    "duration": 4,
    "start_time": "2022-10-20T15:16:31.479Z"
   },
   {
    "duration": 14,
    "start_time": "2022-10-20T15:16:36.485Z"
   },
   {
    "duration": 5,
    "start_time": "2022-10-20T15:17:17.721Z"
   },
   {
    "duration": 9,
    "start_time": "2022-10-20T15:21:55.241Z"
   },
   {
    "duration": 5,
    "start_time": "2022-10-20T15:22:19.863Z"
   },
   {
    "duration": 129,
    "start_time": "2022-10-20T15:36:32.914Z"
   },
   {
    "duration": 138,
    "start_time": "2022-10-20T15:36:42.326Z"
   },
   {
    "duration": 99,
    "start_time": "2022-10-20T15:36:48.416Z"
   },
   {
    "duration": 9,
    "start_time": "2022-10-20T15:37:21.111Z"
   },
   {
    "duration": 45,
    "start_time": "2022-10-20T15:38:34.784Z"
   },
   {
    "duration": 105,
    "start_time": "2022-10-20T15:38:57.868Z"
   },
   {
    "duration": 33,
    "start_time": "2022-10-20T15:39:44.934Z"
   },
   {
    "duration": 3,
    "start_time": "2022-10-20T15:40:26.354Z"
   },
   {
    "duration": 19,
    "start_time": "2022-10-20T15:40:31.183Z"
   },
   {
    "duration": 6,
    "start_time": "2022-10-20T15:41:26.568Z"
   },
   {
    "duration": 9,
    "start_time": "2022-10-20T15:41:27.574Z"
   },
   {
    "duration": 3,
    "start_time": "2022-10-20T15:41:40.055Z"
   },
   {
    "duration": 9,
    "start_time": "2022-10-20T15:41:40.712Z"
   },
   {
    "duration": 9,
    "start_time": "2022-10-20T15:41:57.584Z"
   },
   {
    "duration": 11,
    "start_time": "2022-10-20T15:41:59.114Z"
   },
   {
    "duration": 4,
    "start_time": "2022-10-20T15:59:08.833Z"
   },
   {
    "duration": 12,
    "start_time": "2022-10-20T15:59:09.457Z"
   },
   {
    "duration": 11,
    "start_time": "2022-10-20T16:10:45.107Z"
   },
   {
    "duration": 9,
    "start_time": "2022-10-20T16:10:47.871Z"
   },
   {
    "duration": 6,
    "start_time": "2022-10-20T16:11:57.412Z"
   },
   {
    "duration": 93,
    "start_time": "2022-10-20T16:11:57.725Z"
   },
   {
    "duration": 7,
    "start_time": "2022-10-20T16:18:31.634Z"
   },
   {
    "duration": 9,
    "start_time": "2022-10-20T16:20:30.457Z"
   },
   {
    "duration": 8,
    "start_time": "2022-10-20T16:21:25.525Z"
   },
   {
    "duration": 9,
    "start_time": "2022-10-20T16:21:34.756Z"
   },
   {
    "duration": 9,
    "start_time": "2022-10-20T16:21:42.006Z"
   },
   {
    "duration": 4,
    "start_time": "2022-10-20T16:23:52.519Z"
   },
   {
    "duration": 9,
    "start_time": "2022-10-20T16:23:52.866Z"
   },
   {
    "duration": 10,
    "start_time": "2022-10-20T16:24:17.831Z"
   },
   {
    "duration": 10,
    "start_time": "2022-10-20T16:24:39.669Z"
   },
   {
    "duration": 4,
    "start_time": "2022-10-20T16:26:12.431Z"
   },
   {
    "duration": 10,
    "start_time": "2022-10-20T16:26:12.729Z"
   },
   {
    "duration": 9,
    "start_time": "2022-10-20T16:26:16.361Z"
   },
   {
    "duration": 9,
    "start_time": "2022-10-20T16:26:41.423Z"
   },
   {
    "duration": 10,
    "start_time": "2022-10-20T16:27:18.795Z"
   },
   {
    "duration": 10,
    "start_time": "2022-10-20T16:27:33.922Z"
   },
   {
    "duration": 10,
    "start_time": "2022-10-20T16:31:02.988Z"
   },
   {
    "duration": 17,
    "start_time": "2022-10-20T16:32:24.620Z"
   },
   {
    "duration": 5,
    "start_time": "2022-10-20T16:36:56.229Z"
   },
   {
    "duration": 5,
    "start_time": "2022-10-20T16:41:37.258Z"
   },
   {
    "duration": 11,
    "start_time": "2022-10-20T16:42:04.575Z"
   },
   {
    "duration": 7,
    "start_time": "2022-10-20T16:42:41.924Z"
   },
   {
    "duration": 8,
    "start_time": "2022-10-20T16:42:44.815Z"
   },
   {
    "duration": 8,
    "start_time": "2022-10-20T16:43:18.850Z"
   },
   {
    "duration": 7,
    "start_time": "2022-10-20T16:43:27.134Z"
   },
   {
    "duration": 8,
    "start_time": "2022-10-20T16:44:03.224Z"
   },
   {
    "duration": 6,
    "start_time": "2022-10-20T16:44:26.712Z"
   },
   {
    "duration": 36,
    "start_time": "2022-10-20T16:44:27.212Z"
   },
   {
    "duration": 5,
    "start_time": "2022-10-20T16:44:48.915Z"
   },
   {
    "duration": 27,
    "start_time": "2022-10-20T16:45:12.436Z"
   },
   {
    "duration": 6,
    "start_time": "2022-10-20T16:46:36.017Z"
   },
   {
    "duration": 135,
    "start_time": "2022-10-20T16:46:36.408Z"
   },
   {
    "duration": 9,
    "start_time": "2022-10-20T16:46:55.165Z"
   },
   {
    "duration": 12,
    "start_time": "2022-10-20T16:47:01.512Z"
   },
   {
    "duration": 8,
    "start_time": "2022-10-20T16:47:06.131Z"
   },
   {
    "duration": 55,
    "start_time": "2022-10-20T16:47:11.404Z"
   },
   {
    "duration": 7,
    "start_time": "2022-10-20T16:48:10.338Z"
   },
   {
    "duration": 108,
    "start_time": "2022-10-20T16:48:11.824Z"
   },
   {
    "duration": 43,
    "start_time": "2022-10-20T16:49:40.987Z"
   },
   {
    "duration": 7,
    "start_time": "2022-10-20T16:49:43.610Z"
   },
   {
    "duration": 100,
    "start_time": "2022-10-20T16:49:44.036Z"
   },
   {
    "duration": 3,
    "start_time": "2022-10-20T16:50:00.552Z"
   },
   {
    "duration": 209,
    "start_time": "2022-10-20T16:50:00.557Z"
   },
   {
    "duration": 16,
    "start_time": "2022-10-20T16:50:00.768Z"
   },
   {
    "duration": 48,
    "start_time": "2022-10-20T16:50:00.798Z"
   },
   {
    "duration": 97,
    "start_time": "2022-10-20T16:50:00.847Z"
   },
   {
    "duration": 8,
    "start_time": "2022-10-20T16:50:00.946Z"
   },
   {
    "duration": 119,
    "start_time": "2022-10-20T16:50:00.955Z"
   },
   {
    "duration": 176,
    "start_time": "2022-10-20T16:50:01.076Z"
   },
   {
    "duration": 41,
    "start_time": "2022-10-20T16:50:01.254Z"
   },
   {
    "duration": 31,
    "start_time": "2022-10-20T16:50:01.298Z"
   },
   {
    "duration": 80,
    "start_time": "2022-10-20T16:50:01.331Z"
   },
   {
    "duration": 10,
    "start_time": "2022-10-20T16:50:01.412Z"
   },
   {
    "duration": 284,
    "start_time": "2022-10-20T16:50:01.427Z"
   },
   {
    "duration": 27,
    "start_time": "2022-10-20T16:50:01.714Z"
   },
   {
    "duration": 71,
    "start_time": "2022-10-20T16:50:01.743Z"
   },
   {
    "duration": 97,
    "start_time": "2022-10-20T16:50:01.816Z"
   },
   {
    "duration": 228,
    "start_time": "2022-10-20T16:50:01.915Z"
   },
   {
    "duration": 19,
    "start_time": "2022-10-20T16:50:02.145Z"
   },
   {
    "duration": 178,
    "start_time": "2022-10-20T16:50:02.166Z"
   },
   {
    "duration": 96,
    "start_time": "2022-10-20T16:50:02.345Z"
   },
   {
    "duration": 80,
    "start_time": "2022-10-20T16:50:02.443Z"
   },
   {
    "duration": 15,
    "start_time": "2022-10-20T16:50:02.525Z"
   },
   {
    "duration": 109,
    "start_time": "2022-10-20T16:50:02.541Z"
   },
   {
    "duration": 42,
    "start_time": "2022-10-20T16:50:02.651Z"
   },
   {
    "duration": 5,
    "start_time": "2022-10-20T16:50:02.695Z"
   },
   {
    "duration": 77,
    "start_time": "2022-10-20T16:50:02.702Z"
   },
   {
    "duration": 15,
    "start_time": "2022-10-20T16:50:02.780Z"
   },
   {
    "duration": 69,
    "start_time": "2022-10-20T16:50:02.802Z"
   },
   {
    "duration": 23,
    "start_time": "2022-10-20T16:50:43.209Z"
   },
   {
    "duration": 93,
    "start_time": "2022-10-20T16:52:16.136Z"
   },
   {
    "duration": 51,
    "start_time": "2022-10-20T16:52:20.444Z"
   },
   {
    "duration": 43,
    "start_time": "2022-10-20T16:52:33.029Z"
   },
   {
    "duration": 63,
    "start_time": "2022-10-20T16:53:00.782Z"
   },
   {
    "duration": 50,
    "start_time": "2022-10-20T16:54:03.357Z"
   },
   {
    "duration": 76,
    "start_time": "2022-10-20T16:54:17.156Z"
   },
   {
    "duration": 70,
    "start_time": "2022-10-20T16:54:44.684Z"
   },
   {
    "duration": 62,
    "start_time": "2022-10-20T16:54:56.420Z"
   },
   {
    "duration": 45,
    "start_time": "2022-10-20T16:55:08.909Z"
   },
   {
    "duration": 58,
    "start_time": "2022-10-20T16:55:41.138Z"
   },
   {
    "duration": 6,
    "start_time": "2022-10-20T16:57:30.038Z"
   },
   {
    "duration": 114,
    "start_time": "2022-10-20T16:57:30.831Z"
   },
   {
    "duration": 64,
    "start_time": "2022-10-20T16:57:45.646Z"
   },
   {
    "duration": 7,
    "start_time": "2022-10-20T16:58:52.194Z"
   },
   {
    "duration": 38,
    "start_time": "2022-10-20T16:58:53.543Z"
   },
   {
    "duration": 5,
    "start_time": "2022-10-20T17:00:15.097Z"
   },
   {
    "duration": 40,
    "start_time": "2022-10-20T17:00:15.518Z"
   },
   {
    "duration": 6,
    "start_time": "2022-10-20T17:00:55.675Z"
   },
   {
    "duration": 38,
    "start_time": "2022-10-20T17:00:55.925Z"
   },
   {
    "duration": 5,
    "start_time": "2022-10-20T17:01:43.551Z"
   },
   {
    "duration": 100,
    "start_time": "2022-10-20T17:01:43.997Z"
   },
   {
    "duration": 52,
    "start_time": "2022-10-20T17:01:59.572Z"
   },
   {
    "duration": 55,
    "start_time": "2022-10-20T17:02:19.073Z"
   },
   {
    "duration": 8,
    "start_time": "2022-10-20T17:13:43.627Z"
   },
   {
    "duration": 17,
    "start_time": "2022-10-20T17:16:23.453Z"
   },
   {
    "duration": 12,
    "start_time": "2022-10-20T17:16:50.338Z"
   },
   {
    "duration": 4,
    "start_time": "2022-10-20T17:16:58.045Z"
   },
   {
    "duration": 152,
    "start_time": "2022-10-20T17:16:58.051Z"
   },
   {
    "duration": 16,
    "start_time": "2022-10-20T17:16:58.205Z"
   },
   {
    "duration": 26,
    "start_time": "2022-10-20T17:16:58.223Z"
   },
   {
    "duration": 92,
    "start_time": "2022-10-20T17:16:58.251Z"
   },
   {
    "duration": 9,
    "start_time": "2022-10-20T17:16:58.344Z"
   },
   {
    "duration": 90,
    "start_time": "2022-10-20T17:16:58.354Z"
   },
   {
    "duration": 153,
    "start_time": "2022-10-20T17:16:58.446Z"
   },
   {
    "duration": 25,
    "start_time": "2022-10-20T17:16:58.601Z"
   },
   {
    "duration": 33,
    "start_time": "2022-10-20T17:16:58.628Z"
   },
   {
    "duration": 63,
    "start_time": "2022-10-20T17:16:58.664Z"
   },
   {
    "duration": 6,
    "start_time": "2022-10-20T17:16:58.729Z"
   },
   {
    "duration": 275,
    "start_time": "2022-10-20T17:16:58.737Z"
   },
   {
    "duration": 31,
    "start_time": "2022-10-20T17:16:59.016Z"
   },
   {
    "duration": 65,
    "start_time": "2022-10-20T17:16:59.050Z"
   },
   {
    "duration": 38,
    "start_time": "2022-10-20T17:16:59.117Z"
   },
   {
    "duration": 67,
    "start_time": "2022-10-20T17:16:59.157Z"
   },
   {
    "duration": 3,
    "start_time": "2022-10-20T17:16:59.225Z"
   },
   {
    "duration": 10,
    "start_time": "2022-10-20T17:16:59.230Z"
   },
   {
    "duration": 111,
    "start_time": "2022-10-20T17:16:59.242Z"
   },
   {
    "duration": 4,
    "start_time": "2022-10-20T17:16:59.356Z"
   },
   {
    "duration": 7,
    "start_time": "2022-10-20T17:16:59.361Z"
   },
   {
    "duration": 128,
    "start_time": "2022-10-20T17:16:59.370Z"
   },
   {
    "duration": 33,
    "start_time": "2022-10-20T17:16:59.501Z"
   },
   {
    "duration": 5,
    "start_time": "2022-10-20T17:16:59.536Z"
   },
   {
    "duration": 24,
    "start_time": "2022-10-20T17:16:59.542Z"
   },
   {
    "duration": 20,
    "start_time": "2022-10-20T17:16:59.567Z"
   },
   {
    "duration": 23,
    "start_time": "2022-10-20T17:16:59.589Z"
   },
   {
    "duration": 48,
    "start_time": "2022-10-20T17:16:59.613Z"
   },
   {
    "duration": 16,
    "start_time": "2022-10-20T17:16:59.663Z"
   },
   {
    "duration": 12,
    "start_time": "2022-10-20T17:17:02.460Z"
   },
   {
    "duration": 3,
    "start_time": "2022-10-20T17:17:13.248Z"
   },
   {
    "duration": 152,
    "start_time": "2022-10-20T17:17:13.253Z"
   },
   {
    "duration": 16,
    "start_time": "2022-10-20T17:17:13.406Z"
   },
   {
    "duration": 6,
    "start_time": "2022-10-20T17:17:13.424Z"
   },
   {
    "duration": 86,
    "start_time": "2022-10-20T17:17:13.432Z"
   },
   {
    "duration": 8,
    "start_time": "2022-10-20T17:17:13.520Z"
   },
   {
    "duration": 78,
    "start_time": "2022-10-20T17:17:13.530Z"
   },
   {
    "duration": 152,
    "start_time": "2022-10-20T17:17:13.609Z"
   },
   {
    "duration": 34,
    "start_time": "2022-10-20T17:17:13.763Z"
   },
   {
    "duration": 19,
    "start_time": "2022-10-20T17:17:13.799Z"
   },
   {
    "duration": 67,
    "start_time": "2022-10-20T17:17:13.820Z"
   },
   {
    "duration": 5,
    "start_time": "2022-10-20T17:17:13.888Z"
   },
   {
    "duration": 270,
    "start_time": "2022-10-20T17:17:13.896Z"
   },
   {
    "duration": 30,
    "start_time": "2022-10-20T17:17:14.168Z"
   },
   {
    "duration": 31,
    "start_time": "2022-10-20T17:17:14.199Z"
   },
   {
    "duration": 24,
    "start_time": "2022-10-20T17:17:14.232Z"
   },
   {
    "duration": 83,
    "start_time": "2022-10-20T17:17:14.259Z"
   },
   {
    "duration": 2,
    "start_time": "2022-10-20T17:17:14.344Z"
   },
   {
    "duration": 8,
    "start_time": "2022-10-20T17:17:14.347Z"
   },
   {
    "duration": 29,
    "start_time": "2022-10-20T17:17:14.357Z"
   },
   {
    "duration": 3,
    "start_time": "2022-10-20T17:17:14.388Z"
   },
   {
    "duration": 16,
    "start_time": "2022-10-20T17:17:14.392Z"
   },
   {
    "duration": 116,
    "start_time": "2022-10-20T17:17:14.410Z"
   },
   {
    "duration": 31,
    "start_time": "2022-10-20T17:17:14.528Z"
   },
   {
    "duration": 3,
    "start_time": "2022-10-20T17:17:14.561Z"
   },
   {
    "duration": 9,
    "start_time": "2022-10-20T17:17:14.585Z"
   },
   {
    "duration": 10,
    "start_time": "2022-10-20T17:17:14.596Z"
   },
   {
    "duration": 11,
    "start_time": "2022-10-20T17:17:14.609Z"
   },
   {
    "duration": 77,
    "start_time": "2022-10-20T17:17:14.622Z"
   },
   {
    "duration": 16,
    "start_time": "2022-10-20T17:17:14.700Z"
   },
   {
    "duration": 13,
    "start_time": "2022-10-20T17:17:14.718Z"
   },
   {
    "duration": 9,
    "start_time": "2022-10-20T17:18:11.461Z"
   },
   {
    "duration": 3,
    "start_time": "2022-10-20T17:18:52.769Z"
   },
   {
    "duration": 146,
    "start_time": "2022-10-20T17:18:52.774Z"
   },
   {
    "duration": 16,
    "start_time": "2022-10-20T17:18:52.921Z"
   },
   {
    "duration": 7,
    "start_time": "2022-10-20T17:18:52.938Z"
   },
   {
    "duration": 84,
    "start_time": "2022-10-20T17:18:52.947Z"
   },
   {
    "duration": 9,
    "start_time": "2022-10-20T17:18:53.032Z"
   },
   {
    "duration": 81,
    "start_time": "2022-10-20T17:18:53.042Z"
   },
   {
    "duration": 148,
    "start_time": "2022-10-20T17:18:53.125Z"
   },
   {
    "duration": 32,
    "start_time": "2022-10-20T17:18:53.275Z"
   },
   {
    "duration": 19,
    "start_time": "2022-10-20T17:18:53.309Z"
   },
   {
    "duration": 69,
    "start_time": "2022-10-20T17:18:53.330Z"
   },
   {
    "duration": 6,
    "start_time": "2022-10-20T17:18:53.401Z"
   },
   {
    "duration": 254,
    "start_time": "2022-10-20T17:18:53.410Z"
   },
   {
    "duration": 34,
    "start_time": "2022-10-20T17:18:53.666Z"
   },
   {
    "duration": 33,
    "start_time": "2022-10-20T17:18:53.702Z"
   },
   {
    "duration": 24,
    "start_time": "2022-10-20T17:18:53.736Z"
   },
   {
    "duration": 73,
    "start_time": "2022-10-20T17:18:53.762Z"
   },
   {
    "duration": 3,
    "start_time": "2022-10-20T17:18:53.836Z"
   },
   {
    "duration": 6,
    "start_time": "2022-10-20T17:18:53.841Z"
   },
   {
    "duration": 12,
    "start_time": "2022-10-20T17:18:53.848Z"
   },
   {
    "duration": 3,
    "start_time": "2022-10-20T17:18:53.885Z"
   },
   {
    "duration": 6,
    "start_time": "2022-10-20T17:18:53.891Z"
   },
   {
    "duration": 121,
    "start_time": "2022-10-20T17:18:53.899Z"
   },
   {
    "duration": 33,
    "start_time": "2022-10-20T17:18:54.022Z"
   },
   {
    "duration": 4,
    "start_time": "2022-10-20T17:18:54.057Z"
   },
   {
    "duration": 26,
    "start_time": "2022-10-20T17:18:54.062Z"
   },
   {
    "duration": 8,
    "start_time": "2022-10-20T17:18:54.090Z"
   },
   {
    "duration": 15,
    "start_time": "2022-10-20T17:18:54.099Z"
   },
   {
    "duration": 83,
    "start_time": "2022-10-20T17:18:54.115Z"
   },
   {
    "duration": 10,
    "start_time": "2022-10-20T17:18:54.199Z"
   },
   {
    "duration": 12,
    "start_time": "2022-10-20T17:19:52.810Z"
   },
   {
    "duration": 3,
    "start_time": "2022-10-20T17:20:00.195Z"
   },
   {
    "duration": 154,
    "start_time": "2022-10-20T17:20:00.200Z"
   },
   {
    "duration": 17,
    "start_time": "2022-10-20T17:20:00.355Z"
   },
   {
    "duration": 15,
    "start_time": "2022-10-20T17:20:00.373Z"
   },
   {
    "duration": 67,
    "start_time": "2022-10-20T17:20:00.390Z"
   },
   {
    "duration": 9,
    "start_time": "2022-10-20T17:20:00.459Z"
   },
   {
    "duration": 71,
    "start_time": "2022-10-20T17:20:00.484Z"
   },
   {
    "duration": 162,
    "start_time": "2022-10-20T17:20:00.556Z"
   },
   {
    "duration": 24,
    "start_time": "2022-10-20T17:20:00.720Z"
   },
   {
    "duration": 18,
    "start_time": "2022-10-20T17:20:00.746Z"
   },
   {
    "duration": 51,
    "start_time": "2022-10-20T17:20:00.786Z"
   },
   {
    "duration": 5,
    "start_time": "2022-10-20T17:20:00.839Z"
   },
   {
    "duration": 278,
    "start_time": "2022-10-20T17:20:00.845Z"
   },
   {
    "duration": 29,
    "start_time": "2022-10-20T17:20:01.125Z"
   },
   {
    "duration": 49,
    "start_time": "2022-10-20T17:20:01.156Z"
   },
   {
    "duration": 23,
    "start_time": "2022-10-20T17:20:01.207Z"
   },
   {
    "duration": 64,
    "start_time": "2022-10-20T17:20:01.231Z"
   },
   {
    "duration": 3,
    "start_time": "2022-10-20T17:20:01.296Z"
   },
   {
    "duration": 25,
    "start_time": "2022-10-20T17:20:01.300Z"
   },
   {
    "duration": 34,
    "start_time": "2022-10-20T17:20:01.327Z"
   },
   {
    "duration": 33,
    "start_time": "2022-10-20T17:20:01.362Z"
   },
   {
    "duration": 15,
    "start_time": "2022-10-20T17:20:01.396Z"
   },
   {
    "duration": 106,
    "start_time": "2022-10-20T17:20:01.413Z"
   },
   {
    "duration": 32,
    "start_time": "2022-10-20T17:20:01.520Z"
   },
   {
    "duration": 4,
    "start_time": "2022-10-20T17:20:01.553Z"
   },
   {
    "duration": 47,
    "start_time": "2022-10-20T17:20:01.558Z"
   },
   {
    "duration": 27,
    "start_time": "2022-10-20T17:20:01.608Z"
   },
   {
    "duration": 27,
    "start_time": "2022-10-20T17:20:01.637Z"
   },
   {
    "duration": 70,
    "start_time": "2022-10-20T17:20:01.669Z"
   },
   {
    "duration": 11,
    "start_time": "2022-10-20T17:20:01.740Z"
   },
   {
    "duration": 30,
    "start_time": "2022-10-20T17:20:01.752Z"
   },
   {
    "duration": 5,
    "start_time": "2022-10-20T17:20:17.988Z"
   },
   {
    "duration": 9,
    "start_time": "2022-10-20T17:20:24.580Z"
   },
   {
    "duration": 5,
    "start_time": "2022-10-20T17:20:32.269Z"
   },
   {
    "duration": 7,
    "start_time": "2022-10-20T17:21:10.502Z"
   },
   {
    "duration": 4,
    "start_time": "2022-10-20T17:24:04.121Z"
   },
   {
    "duration": 18,
    "start_time": "2022-10-20T17:24:15.604Z"
   },
   {
    "duration": 5,
    "start_time": "2022-10-20T17:24:27.767Z"
   },
   {
    "duration": 13,
    "start_time": "2022-10-20T17:24:28.161Z"
   },
   {
    "duration": 11,
    "start_time": "2022-10-20T17:24:40.715Z"
   },
   {
    "duration": 12,
    "start_time": "2022-10-20T17:24:51.500Z"
   },
   {
    "duration": 28,
    "start_time": "2022-10-20T17:25:09.881Z"
   },
   {
    "duration": 11,
    "start_time": "2022-10-20T17:26:21.529Z"
   },
   {
    "duration": 4,
    "start_time": "2022-10-20T17:26:53.300Z"
   },
   {
    "duration": 10,
    "start_time": "2022-10-20T17:26:58.796Z"
   },
   {
    "duration": 8,
    "start_time": "2022-10-20T17:27:19.257Z"
   },
   {
    "duration": 4,
    "start_time": "2022-10-20T17:27:50.712Z"
   },
   {
    "duration": 10,
    "start_time": "2022-10-20T17:27:55.355Z"
   },
   {
    "duration": 5,
    "start_time": "2022-10-20T17:37:12.412Z"
   },
   {
    "duration": 92,
    "start_time": "2022-10-20T17:37:13.066Z"
   },
   {
    "duration": 5,
    "start_time": "2022-10-20T17:37:17.656Z"
   },
   {
    "duration": 95,
    "start_time": "2022-10-20T17:37:17.941Z"
   },
   {
    "duration": 10,
    "start_time": "2022-10-20T17:37:25.987Z"
   },
   {
    "duration": 6,
    "start_time": "2022-10-20T17:39:34.243Z"
   },
   {
    "duration": 12,
    "start_time": "2022-10-21T08:58:20.986Z"
   },
   {
    "duration": 39,
    "start_time": "2022-10-21T08:59:56.935Z"
   },
   {
    "duration": 1295,
    "start_time": "2022-10-21T09:00:03.895Z"
   },
   {
    "duration": 754,
    "start_time": "2022-10-21T09:00:05.192Z"
   },
   {
    "duration": 20,
    "start_time": "2022-10-21T09:00:05.947Z"
   },
   {
    "duration": 9,
    "start_time": "2022-10-21T09:00:05.969Z"
   },
   {
    "duration": 80,
    "start_time": "2022-10-21T09:00:05.979Z"
   },
   {
    "duration": 9,
    "start_time": "2022-10-21T09:00:06.061Z"
   },
   {
    "duration": 92,
    "start_time": "2022-10-21T09:00:06.071Z"
   },
   {
    "duration": 178,
    "start_time": "2022-10-21T09:00:06.165Z"
   },
   {
    "duration": 26,
    "start_time": "2022-10-21T09:00:06.345Z"
   },
   {
    "duration": 32,
    "start_time": "2022-10-21T09:00:06.374Z"
   },
   {
    "duration": 51,
    "start_time": "2022-10-21T09:00:06.408Z"
   },
   {
    "duration": 5,
    "start_time": "2022-10-21T09:00:06.461Z"
   },
   {
    "duration": 347,
    "start_time": "2022-10-21T09:00:06.467Z"
   },
   {
    "duration": 28,
    "start_time": "2022-10-21T09:00:06.816Z"
   },
   {
    "duration": 41,
    "start_time": "2022-10-21T09:00:06.845Z"
   },
   {
    "duration": 75,
    "start_time": "2022-10-21T09:00:06.888Z"
   },
   {
    "duration": 67,
    "start_time": "2022-10-21T09:00:06.964Z"
   },
   {
    "duration": 4,
    "start_time": "2022-10-21T09:00:07.032Z"
   },
   {
    "duration": 16,
    "start_time": "2022-10-21T09:00:07.037Z"
   },
   {
    "duration": 8,
    "start_time": "2022-10-21T09:00:07.055Z"
   },
   {
    "duration": 8,
    "start_time": "2022-10-21T09:00:07.065Z"
   },
   {
    "duration": 109,
    "start_time": "2022-10-21T09:00:07.074Z"
   },
   {
    "duration": 43,
    "start_time": "2022-10-21T09:00:07.184Z"
   },
   {
    "duration": 4,
    "start_time": "2022-10-21T09:00:07.229Z"
   },
   {
    "duration": 4,
    "start_time": "2022-10-21T09:00:13.126Z"
   },
   {
    "duration": 4,
    "start_time": "2022-10-21T09:01:10.300Z"
   },
   {
    "duration": 4,
    "start_time": "2022-10-21T09:02:08.927Z"
   },
   {
    "duration": 4,
    "start_time": "2022-10-21T09:02:33.304Z"
   },
   {
    "duration": 4,
    "start_time": "2022-10-21T09:03:20.403Z"
   },
   {
    "duration": 57,
    "start_time": "2022-10-21T09:04:07.734Z"
   },
   {
    "duration": 3,
    "start_time": "2022-10-21T09:04:12.690Z"
   },
   {
    "duration": 158,
    "start_time": "2022-10-21T09:04:12.695Z"
   },
   {
    "duration": 16,
    "start_time": "2022-10-21T09:04:12.855Z"
   },
   {
    "duration": 6,
    "start_time": "2022-10-21T09:04:12.873Z"
   },
   {
    "duration": 85,
    "start_time": "2022-10-21T09:04:12.881Z"
   },
   {
    "duration": 9,
    "start_time": "2022-10-21T09:04:12.967Z"
   },
   {
    "duration": 77,
    "start_time": "2022-10-21T09:04:12.977Z"
   },
   {
    "duration": 150,
    "start_time": "2022-10-21T09:04:13.056Z"
   },
   {
    "duration": 23,
    "start_time": "2022-10-21T09:04:13.207Z"
   },
   {
    "duration": 17,
    "start_time": "2022-10-21T09:04:13.231Z"
   },
   {
    "duration": 68,
    "start_time": "2022-10-21T09:04:13.249Z"
   },
   {
    "duration": 6,
    "start_time": "2022-10-21T09:04:13.318Z"
   },
   {
    "duration": 245,
    "start_time": "2022-10-21T09:04:13.325Z"
   },
   {
    "duration": 32,
    "start_time": "2022-10-21T09:04:13.573Z"
   },
   {
    "duration": 32,
    "start_time": "2022-10-21T09:04:13.607Z"
   },
   {
    "duration": 27,
    "start_time": "2022-10-21T09:04:13.641Z"
   },
   {
    "duration": 69,
    "start_time": "2022-10-21T09:04:13.669Z"
   },
   {
    "duration": 3,
    "start_time": "2022-10-21T09:04:13.740Z"
   },
   {
    "duration": 18,
    "start_time": "2022-10-21T09:04:13.744Z"
   },
   {
    "duration": 8,
    "start_time": "2022-10-21T09:04:13.764Z"
   },
   {
    "duration": 8,
    "start_time": "2022-10-21T09:04:13.774Z"
   },
   {
    "duration": 124,
    "start_time": "2022-10-21T09:04:13.784Z"
   },
   {
    "duration": 29,
    "start_time": "2022-10-21T09:04:13.910Z"
   },
   {
    "duration": 3,
    "start_time": "2022-10-21T09:04:13.941Z"
   },
   {
    "duration": 7,
    "start_time": "2022-10-21T09:04:13.946Z"
   },
   {
    "duration": 16,
    "start_time": "2022-10-21T09:04:13.955Z"
   },
   {
    "duration": 13,
    "start_time": "2022-10-21T09:04:13.972Z"
   },
   {
    "duration": 27,
    "start_time": "2022-10-21T09:04:13.986Z"
   },
   {
    "duration": 43,
    "start_time": "2022-10-21T09:04:14.014Z"
   },
   {
    "duration": 9,
    "start_time": "2022-10-21T09:04:14.059Z"
   },
   {
    "duration": 3,
    "start_time": "2022-10-21T09:51:19.264Z"
   },
   {
    "duration": 143,
    "start_time": "2022-10-21T09:51:19.268Z"
   },
   {
    "duration": 15,
    "start_time": "2022-10-21T09:51:19.413Z"
   },
   {
    "duration": 6,
    "start_time": "2022-10-21T09:51:19.429Z"
   },
   {
    "duration": 80,
    "start_time": "2022-10-21T09:51:19.437Z"
   },
   {
    "duration": 8,
    "start_time": "2022-10-21T09:51:19.519Z"
   },
   {
    "duration": 77,
    "start_time": "2022-10-21T09:51:19.528Z"
   },
   {
    "duration": 146,
    "start_time": "2022-10-21T09:51:19.607Z"
   },
   {
    "duration": 24,
    "start_time": "2022-10-21T09:51:19.756Z"
   },
   {
    "duration": 27,
    "start_time": "2022-10-21T09:51:19.781Z"
   },
   {
    "duration": 48,
    "start_time": "2022-10-21T09:51:19.810Z"
   },
   {
    "duration": 5,
    "start_time": "2022-10-21T09:51:19.859Z"
   },
   {
    "duration": 244,
    "start_time": "2022-10-21T09:51:19.865Z"
   },
   {
    "duration": 25,
    "start_time": "2022-10-21T09:51:20.111Z"
   },
   {
    "duration": 30,
    "start_time": "2022-10-21T09:51:20.138Z"
   },
   {
    "duration": 41,
    "start_time": "2022-10-21T09:51:20.170Z"
   },
   {
    "duration": 48,
    "start_time": "2022-10-21T09:51:20.213Z"
   },
   {
    "duration": 3,
    "start_time": "2022-10-21T09:51:20.262Z"
   },
   {
    "duration": 14,
    "start_time": "2022-10-21T09:51:20.267Z"
   },
   {
    "duration": 24,
    "start_time": "2022-10-21T09:51:20.282Z"
   },
   {
    "duration": 5,
    "start_time": "2022-10-21T09:51:20.308Z"
   },
   {
    "duration": 105,
    "start_time": "2022-10-21T09:51:20.315Z"
   },
   {
    "duration": 29,
    "start_time": "2022-10-21T09:51:20.422Z"
   },
   {
    "duration": 4,
    "start_time": "2022-10-21T09:51:20.453Z"
   },
   {
    "duration": 7,
    "start_time": "2022-10-21T09:51:20.458Z"
   },
   {
    "duration": 11,
    "start_time": "2022-10-21T09:51:20.467Z"
   },
   {
    "duration": 31,
    "start_time": "2022-10-21T09:51:20.479Z"
   },
   {
    "duration": 13,
    "start_time": "2022-10-21T09:51:20.511Z"
   },
   {
    "duration": 49,
    "start_time": "2022-10-21T09:51:20.525Z"
   },
   {
    "duration": 10,
    "start_time": "2022-10-21T09:51:20.576Z"
   },
   {
    "duration": 1128,
    "start_time": "2022-10-21T15:59:34.910Z"
   },
   {
    "duration": 166,
    "start_time": "2022-10-21T15:59:36.040Z"
   },
   {
    "duration": 20,
    "start_time": "2022-10-21T15:59:36.207Z"
   },
   {
    "duration": 8,
    "start_time": "2022-10-21T15:59:36.229Z"
   },
   {
    "duration": 95,
    "start_time": "2022-10-21T15:59:36.238Z"
   },
   {
    "duration": 12,
    "start_time": "2022-10-21T15:59:36.334Z"
   },
   {
    "duration": 91,
    "start_time": "2022-10-21T15:59:36.348Z"
   },
   {
    "duration": 183,
    "start_time": "2022-10-21T15:59:36.440Z"
   },
   {
    "duration": 33,
    "start_time": "2022-10-21T15:59:36.624Z"
   },
   {
    "duration": 38,
    "start_time": "2022-10-21T15:59:36.661Z"
   },
   {
    "duration": 67,
    "start_time": "2022-10-21T15:59:36.701Z"
   },
   {
    "duration": 6,
    "start_time": "2022-10-21T15:59:36.770Z"
   },
   {
    "duration": 388,
    "start_time": "2022-10-21T15:59:36.796Z"
   },
   {
    "duration": 32,
    "start_time": "2022-10-21T15:59:37.185Z"
   },
   {
    "duration": 32,
    "start_time": "2022-10-21T15:59:37.219Z"
   },
   {
    "duration": 82,
    "start_time": "2022-10-21T15:59:37.253Z"
   },
   {
    "duration": 63,
    "start_time": "2022-10-21T15:59:37.337Z"
   },
   {
    "duration": 4,
    "start_time": "2022-10-21T15:59:37.402Z"
   },
   {
    "duration": 17,
    "start_time": "2022-10-21T15:59:37.407Z"
   },
   {
    "duration": 4,
    "start_time": "2022-10-21T15:59:37.426Z"
   },
   {
    "duration": 6,
    "start_time": "2022-10-21T15:59:37.432Z"
   },
   {
    "duration": 129,
    "start_time": "2022-10-21T15:59:37.440Z"
   },
   {
    "duration": 43,
    "start_time": "2022-10-21T15:59:37.573Z"
   },
   {
    "duration": 4,
    "start_time": "2022-10-21T15:59:37.618Z"
   },
   {
    "duration": 5,
    "start_time": "2022-10-21T15:59:37.623Z"
   },
   {
    "duration": 12,
    "start_time": "2022-10-21T15:59:37.630Z"
   },
   {
    "duration": 9,
    "start_time": "2022-10-21T15:59:37.643Z"
   },
   {
    "duration": 40,
    "start_time": "2022-10-21T15:59:37.655Z"
   },
   {
    "duration": 50,
    "start_time": "2022-10-21T15:59:37.697Z"
   },
   {
    "duration": 10,
    "start_time": "2022-10-21T15:59:37.749Z"
   },
   {
    "duration": 1173,
    "start_time": "2022-10-22T12:22:38.001Z"
   },
   {
    "duration": 3,
    "start_time": "2022-10-22T12:24:21.097Z"
   },
   {
    "duration": 513,
    "start_time": "2022-10-22T12:24:21.102Z"
   },
   {
    "duration": 19,
    "start_time": "2022-10-22T12:24:21.616Z"
   },
   {
    "duration": 11,
    "start_time": "2022-10-22T12:24:21.636Z"
   },
   {
    "duration": 86,
    "start_time": "2022-10-22T12:24:21.650Z"
   },
   {
    "duration": 9,
    "start_time": "2022-10-22T12:24:21.738Z"
   },
   {
    "duration": 89,
    "start_time": "2022-10-22T12:24:21.749Z"
   },
   {
    "duration": 164,
    "start_time": "2022-10-22T12:24:21.840Z"
   },
   {
    "duration": 25,
    "start_time": "2022-10-22T12:24:22.005Z"
   },
   {
    "duration": 17,
    "start_time": "2022-10-22T12:24:22.031Z"
   },
   {
    "duration": 67,
    "start_time": "2022-10-22T12:24:22.049Z"
   },
   {
    "duration": 7,
    "start_time": "2022-10-22T12:25:29.221Z"
   },
   {
    "duration": 4,
    "start_time": "2022-10-22T12:26:48.999Z"
   },
   {
    "duration": 129,
    "start_time": "2022-10-22T12:27:20.767Z"
   },
   {
    "duration": 50,
    "start_time": "2022-10-22T12:27:27.785Z"
   },
   {
    "duration": 9,
    "start_time": "2022-10-22T12:27:32.631Z"
   },
   {
    "duration": 50,
    "start_time": "2022-10-22T12:28:21.196Z"
   },
   {
    "duration": 129,
    "start_time": "2022-10-22T12:29:26.757Z"
   },
   {
    "duration": 113,
    "start_time": "2022-10-22T12:29:33.832Z"
   },
   {
    "duration": 133,
    "start_time": "2022-10-22T12:30:26.531Z"
   },
   {
    "duration": 129,
    "start_time": "2022-10-22T12:30:30.992Z"
   },
   {
    "duration": 135,
    "start_time": "2022-10-22T12:30:49.856Z"
   },
   {
    "duration": 156,
    "start_time": "2022-10-22T12:30:54.126Z"
   },
   {
    "duration": 146,
    "start_time": "2022-10-22T12:32:40.037Z"
   },
   {
    "duration": 16,
    "start_time": "2022-10-22T12:35:26.004Z"
   },
   {
    "duration": 127,
    "start_time": "2022-10-22T12:35:28.176Z"
   },
   {
    "duration": 297,
    "start_time": "2022-10-22T12:35:58.782Z"
   },
   {
    "duration": 219,
    "start_time": "2022-10-22T12:36:28.307Z"
   },
   {
    "duration": 6,
    "start_time": "2022-10-22T12:37:16.964Z"
   },
   {
    "duration": 4,
    "start_time": "2022-10-22T12:37:28.869Z"
   },
   {
    "duration": 237,
    "start_time": "2022-10-22T12:37:42.802Z"
   },
   {
    "duration": 239,
    "start_time": "2022-10-22T12:39:06.131Z"
   },
   {
    "duration": 207,
    "start_time": "2022-10-22T12:42:32.674Z"
   },
   {
    "duration": 229,
    "start_time": "2022-10-22T12:42:39.163Z"
   },
   {
    "duration": 277,
    "start_time": "2022-10-22T12:42:43.100Z"
   },
   {
    "duration": 200,
    "start_time": "2022-10-22T12:42:45.726Z"
   },
   {
    "duration": 250,
    "start_time": "2022-10-22T12:42:52.610Z"
   },
   {
    "duration": 211,
    "start_time": "2022-10-22T12:42:59.510Z"
   },
   {
    "duration": 211,
    "start_time": "2022-10-22T12:43:12.410Z"
   },
   {
    "duration": 17,
    "start_time": "2022-10-22T12:47:03.042Z"
   },
   {
    "duration": 661,
    "start_time": "2022-10-22T12:47:16.239Z"
   },
   {
    "duration": 4,
    "start_time": "2022-10-22T12:47:28.536Z"
   },
   {
    "duration": 314,
    "start_time": "2022-10-22T12:47:45.883Z"
   },
   {
    "duration": 218,
    "start_time": "2022-10-22T12:47:56.119Z"
   },
   {
    "duration": 4,
    "start_time": "2022-10-22T12:48:06.039Z"
   },
   {
    "duration": 4,
    "start_time": "2022-10-22T12:51:35.001Z"
   },
   {
    "duration": 3,
    "start_time": "2022-10-22T12:54:28.760Z"
   },
   {
    "duration": 161,
    "start_time": "2022-10-22T12:54:28.765Z"
   },
   {
    "duration": 16,
    "start_time": "2022-10-22T12:54:28.927Z"
   },
   {
    "duration": 6,
    "start_time": "2022-10-22T12:54:28.945Z"
   },
   {
    "duration": 81,
    "start_time": "2022-10-22T12:54:28.952Z"
   },
   {
    "duration": 7,
    "start_time": "2022-10-22T12:54:29.035Z"
   },
   {
    "duration": 84,
    "start_time": "2022-10-22T12:54:29.044Z"
   },
   {
    "duration": 144,
    "start_time": "2022-10-22T12:54:29.130Z"
   },
   {
    "duration": 31,
    "start_time": "2022-10-22T12:54:29.277Z"
   },
   {
    "duration": 18,
    "start_time": "2022-10-22T12:54:29.309Z"
   },
   {
    "duration": 16,
    "start_time": "2022-10-22T12:54:29.329Z"
   },
   {
    "duration": 257,
    "start_time": "2022-10-22T12:54:29.346Z"
   },
   {
    "duration": 4,
    "start_time": "2022-10-22T12:54:29.604Z"
   },
   {
    "duration": 11,
    "start_time": "2022-10-22T12:54:29.610Z"
   },
   {
    "duration": 314,
    "start_time": "2022-10-22T12:54:29.623Z"
   },
   {
    "duration": 25,
    "start_time": "2022-10-22T12:54:29.939Z"
   },
   {
    "duration": 41,
    "start_time": "2022-10-22T12:54:29.965Z"
   },
   {
    "duration": 56,
    "start_time": "2022-10-22T12:54:30.008Z"
   },
   {
    "duration": 68,
    "start_time": "2022-10-22T12:54:30.066Z"
   },
   {
    "duration": 3,
    "start_time": "2022-10-22T12:54:30.136Z"
   },
   {
    "duration": 36,
    "start_time": "2022-10-22T12:54:30.140Z"
   },
   {
    "duration": 37,
    "start_time": "2022-10-22T12:54:30.178Z"
   },
   {
    "duration": 29,
    "start_time": "2022-10-22T12:54:30.217Z"
   },
   {
    "duration": 121,
    "start_time": "2022-10-22T12:54:30.249Z"
   },
   {
    "duration": 48,
    "start_time": "2022-10-22T12:54:30.371Z"
   },
   {
    "duration": 4,
    "start_time": "2022-10-22T12:54:30.420Z"
   },
   {
    "duration": 33,
    "start_time": "2022-10-22T12:54:30.426Z"
   },
   {
    "duration": 36,
    "start_time": "2022-10-22T12:54:30.460Z"
   },
   {
    "duration": 15,
    "start_time": "2022-10-22T12:54:30.498Z"
   },
   {
    "duration": 18,
    "start_time": "2022-10-22T12:54:30.515Z"
   },
   {
    "duration": 63,
    "start_time": "2022-10-22T12:54:30.534Z"
   },
   {
    "duration": 8,
    "start_time": "2022-10-22T12:54:30.599Z"
   },
   {
    "duration": 96,
    "start_time": "2022-10-22T12:56:25.084Z"
   },
   {
    "duration": 4,
    "start_time": "2022-10-22T12:59:57.008Z"
   },
   {
    "duration": 5,
    "start_time": "2022-10-22T13:42:49.430Z"
   },
   {
    "duration": 4,
    "start_time": "2022-10-22T13:42:57.907Z"
   },
   {
    "duration": 61,
    "start_time": "2022-10-22T14:58:01.727Z"
   },
   {
    "duration": 4,
    "start_time": "2022-10-22T14:58:15.036Z"
   },
   {
    "duration": 65,
    "start_time": "2022-10-22T14:58:22.451Z"
   },
   {
    "duration": 287,
    "start_time": "2022-10-22T15:01:09.746Z"
   },
   {
    "duration": 12,
    "start_time": "2022-10-22T15:02:07.926Z"
   },
   {
    "duration": 11,
    "start_time": "2022-10-22T15:03:19.982Z"
   },
   {
    "duration": 12,
    "start_time": "2022-10-22T16:31:40.878Z"
   },
   {
    "duration": 10,
    "start_time": "2022-10-22T16:31:58.251Z"
   },
   {
    "duration": 12,
    "start_time": "2022-10-22T16:32:05.157Z"
   },
   {
    "duration": 85,
    "start_time": "2022-10-22T16:39:20.148Z"
   },
   {
    "duration": 11,
    "start_time": "2022-10-22T16:39:28.286Z"
   },
   {
    "duration": 12,
    "start_time": "2022-10-22T16:39:38.721Z"
   },
   {
    "duration": 16,
    "start_time": "2022-10-22T16:40:18.085Z"
   },
   {
    "duration": 1317,
    "start_time": "2022-10-23T09:47:27.260Z"
   },
   {
    "duration": 720,
    "start_time": "2022-10-23T09:47:28.579Z"
   },
   {
    "duration": 20,
    "start_time": "2022-10-23T09:47:29.301Z"
   },
   {
    "duration": 13,
    "start_time": "2022-10-23T09:47:29.324Z"
   },
   {
    "duration": 93,
    "start_time": "2022-10-23T09:47:29.340Z"
   },
   {
    "duration": 8,
    "start_time": "2022-10-23T09:47:29.435Z"
   },
   {
    "duration": 88,
    "start_time": "2022-10-23T09:47:29.445Z"
   },
   {
    "duration": 170,
    "start_time": "2022-10-23T09:47:29.534Z"
   },
   {
    "duration": 26,
    "start_time": "2022-10-23T09:47:29.705Z"
   },
   {
    "duration": 17,
    "start_time": "2022-10-23T09:47:29.733Z"
   },
   {
    "duration": 17,
    "start_time": "2022-10-23T09:47:29.752Z"
   },
   {
    "duration": 255,
    "start_time": "2022-10-23T09:47:29.790Z"
   },
   {
    "duration": 4,
    "start_time": "2022-10-23T09:47:30.047Z"
   },
   {
    "duration": 19,
    "start_time": "2022-10-23T09:47:30.053Z"
   },
   {
    "duration": 330,
    "start_time": "2022-10-23T09:47:30.073Z"
   },
   {
    "duration": 29,
    "start_time": "2022-10-23T09:47:30.404Z"
   },
   {
    "duration": 36,
    "start_time": "2022-10-23T09:47:30.435Z"
   },
   {
    "duration": 58,
    "start_time": "2022-10-23T09:47:30.490Z"
   },
   {
    "duration": 68,
    "start_time": "2022-10-23T09:47:30.550Z"
   },
   {
    "duration": 3,
    "start_time": "2022-10-23T09:47:30.620Z"
   },
   {
    "duration": 43,
    "start_time": "2022-10-23T09:47:30.624Z"
   },
   {
    "duration": 23,
    "start_time": "2022-10-23T09:47:30.668Z"
   },
   {
    "duration": 29,
    "start_time": "2022-10-23T09:47:30.693Z"
   },
   {
    "duration": 115,
    "start_time": "2022-10-23T09:47:30.724Z"
   },
   {
    "duration": 168,
    "start_time": "2022-10-23T09:47:30.841Z"
   },
   {
    "duration": 9,
    "start_time": "2022-10-23T09:49:40.562Z"
   },
   {
    "duration": 9,
    "start_time": "2022-10-23T09:50:23.034Z"
   },
   {
    "duration": 8,
    "start_time": "2022-10-23T09:50:45.858Z"
   },
   {
    "duration": 9,
    "start_time": "2022-10-23T09:51:04.757Z"
   },
   {
    "duration": 10,
    "start_time": "2022-10-23T09:54:34.433Z"
   },
   {
    "duration": 9,
    "start_time": "2022-10-23T09:54:48.878Z"
   },
   {
    "duration": 3,
    "start_time": "2022-10-23T09:55:55.970Z"
   },
   {
    "duration": 165,
    "start_time": "2022-10-23T09:55:55.975Z"
   },
   {
    "duration": 17,
    "start_time": "2022-10-23T09:55:56.142Z"
   },
   {
    "duration": 6,
    "start_time": "2022-10-23T09:55:56.161Z"
   },
   {
    "duration": 88,
    "start_time": "2022-10-23T09:55:56.170Z"
   },
   {
    "duration": 9,
    "start_time": "2022-10-23T09:55:56.260Z"
   },
   {
    "duration": 87,
    "start_time": "2022-10-23T09:55:56.271Z"
   },
   {
    "duration": 175,
    "start_time": "2022-10-23T09:55:56.360Z"
   },
   {
    "duration": 31,
    "start_time": "2022-10-23T09:55:56.537Z"
   },
   {
    "duration": 40,
    "start_time": "2022-10-23T09:55:56.570Z"
   },
   {
    "duration": 24,
    "start_time": "2022-10-23T09:55:56.614Z"
   },
   {
    "duration": 353,
    "start_time": "2022-10-23T09:55:56.640Z"
   },
   {
    "duration": 4,
    "start_time": "2022-10-23T09:55:56.994Z"
   },
   {
    "duration": 6,
    "start_time": "2022-10-23T09:55:56.999Z"
   },
   {
    "duration": 259,
    "start_time": "2022-10-23T09:55:57.007Z"
   },
   {
    "duration": 34,
    "start_time": "2022-10-23T09:55:57.267Z"
   },
   {
    "duration": 37,
    "start_time": "2022-10-23T09:55:57.303Z"
   },
   {
    "duration": 27,
    "start_time": "2022-10-23T09:55:57.342Z"
   },
   {
    "duration": 66,
    "start_time": "2022-10-23T09:55:57.371Z"
   },
   {
    "duration": 3,
    "start_time": "2022-10-23T09:55:57.438Z"
   },
   {
    "duration": 13,
    "start_time": "2022-10-23T09:55:57.442Z"
   },
   {
    "duration": 8,
    "start_time": "2022-10-23T09:55:57.457Z"
   },
   {
    "duration": 23,
    "start_time": "2022-10-23T09:55:57.467Z"
   },
   {
    "duration": 7,
    "start_time": "2022-10-23T09:55:57.493Z"
   },
   {
    "duration": 118,
    "start_time": "2022-10-23T09:55:57.502Z"
   },
   {
    "duration": 12,
    "start_time": "2022-10-23T09:55:57.621Z"
   },
   {
    "duration": 36,
    "start_time": "2022-10-23T09:55:57.635Z"
   },
   {
    "duration": 19,
    "start_time": "2022-10-23T09:55:57.672Z"
   },
   {
    "duration": 5,
    "start_time": "2022-10-23T09:55:57.693Z"
   },
   {
    "duration": 12,
    "start_time": "2022-10-23T09:55:57.699Z"
   },
   {
    "duration": 11,
    "start_time": "2022-10-23T09:55:57.712Z"
   },
   {
    "duration": 10,
    "start_time": "2022-10-23T09:55:57.724Z"
   },
   {
    "duration": 75,
    "start_time": "2022-10-23T09:55:57.736Z"
   },
   {
    "duration": 10,
    "start_time": "2022-10-23T09:55:57.812Z"
   },
   {
    "duration": 1236,
    "start_time": "2022-10-23T10:05:53.499Z"
   },
   {
    "duration": 535,
    "start_time": "2022-10-23T10:05:54.737Z"
   },
   {
    "duration": 24,
    "start_time": "2022-10-23T10:05:55.274Z"
   },
   {
    "duration": 9,
    "start_time": "2022-10-23T10:05:55.300Z"
   },
   {
    "duration": 70,
    "start_time": "2022-10-23T10:05:55.311Z"
   },
   {
    "duration": 9,
    "start_time": "2022-10-23T10:05:55.383Z"
   },
   {
    "duration": 93,
    "start_time": "2022-10-23T10:05:55.393Z"
   },
   {
    "duration": 173,
    "start_time": "2022-10-23T10:05:55.488Z"
   },
   {
    "duration": 27,
    "start_time": "2022-10-23T10:05:55.662Z"
   },
   {
    "duration": 43,
    "start_time": "2022-10-23T10:05:55.693Z"
   },
   {
    "duration": 33,
    "start_time": "2022-10-23T10:05:55.738Z"
   },
   {
    "duration": 263,
    "start_time": "2022-10-23T10:05:55.773Z"
   },
   {
    "duration": 4,
    "start_time": "2022-10-23T10:05:56.038Z"
   },
   {
    "duration": 7,
    "start_time": "2022-10-23T10:05:56.043Z"
   },
   {
    "duration": 355,
    "start_time": "2022-10-23T10:05:56.051Z"
   },
   {
    "duration": 29,
    "start_time": "2022-10-23T10:05:56.407Z"
   },
   {
    "duration": 37,
    "start_time": "2022-10-23T10:05:56.438Z"
   },
   {
    "duration": 90,
    "start_time": "2022-10-23T10:05:56.476Z"
   },
   {
    "duration": 71,
    "start_time": "2022-10-23T10:05:56.568Z"
   },
   {
    "duration": 4,
    "start_time": "2022-10-23T10:05:56.641Z"
   },
   {
    "duration": 16,
    "start_time": "2022-10-23T10:05:56.647Z"
   },
   {
    "duration": 190,
    "start_time": "2022-10-23T10:05:56.664Z"
   },
   {
    "duration": 4,
    "start_time": "2022-10-23T10:05:56.856Z"
   },
   {
    "duration": 6,
    "start_time": "2022-10-23T10:05:56.861Z"
   },
   {
    "duration": 181,
    "start_time": "2022-10-23T10:05:56.869Z"
   },
   {
    "duration": 13,
    "start_time": "2022-10-23T10:05:57.052Z"
   },
   {
    "duration": 58,
    "start_time": "2022-10-23T10:05:57.067Z"
   },
   {
    "duration": 4,
    "start_time": "2022-10-23T10:05:57.127Z"
   },
   {
    "duration": 6,
    "start_time": "2022-10-23T10:05:57.132Z"
   },
   {
    "duration": 13,
    "start_time": "2022-10-23T10:05:57.139Z"
   },
   {
    "duration": 12,
    "start_time": "2022-10-23T10:05:57.153Z"
   },
   {
    "duration": 45,
    "start_time": "2022-10-23T10:05:57.166Z"
   },
   {
    "duration": 54,
    "start_time": "2022-10-23T10:05:57.212Z"
   },
   {
    "duration": 10,
    "start_time": "2022-10-23T10:05:57.268Z"
   }
  ],
  "kernelspec": {
   "display_name": "Python 3 (ipykernel)",
   "language": "python",
   "name": "python3"
  },
  "language_info": {
   "codemirror_mode": {
    "name": "ipython",
    "version": 3
   },
   "file_extension": ".py",
   "mimetype": "text/x-python",
   "name": "python",
   "nbconvert_exporter": "python",
   "pygments_lexer": "ipython3",
   "version": "3.9.13"
  },
  "toc": {
   "base_numbering": 1,
   "nav_menu": {
    "height": "346px",
    "width": "504px"
   },
   "number_sections": true,
   "sideBar": true,
   "skip_h1_title": true,
   "title_cell": "Table of Contents",
   "title_sidebar": "Contents",
   "toc_cell": false,
   "toc_position": {},
   "toc_section_display": true,
   "toc_window_display": true
  }
 },
 "nbformat": 4,
 "nbformat_minor": 2
}
